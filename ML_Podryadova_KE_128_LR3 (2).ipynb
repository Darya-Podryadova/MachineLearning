{
  "nbformat": 4,
  "nbformat_minor": 0,
  "metadata": {
    "colab": {
      "provenance": []
    },
    "kernelspec": {
      "name": "python3",
      "display_name": "Python 3"
    },
    "language_info": {
      "name": "python"
    }
  },
  "cells": [
    {
      "cell_type": "markdown",
      "source": [
        "# Практическая работа 3. Классификация ирисов Фишера с помощью метода kNN. Использование ансамблевых моделей на основе деревьев решений\n",
        "\n",
        "## 1. Используя метод k-NN, решить задачу классификации ирисов Фишера."
      ],
      "metadata": {
        "id": "Dascqbn69js6"
      }
    },
    {
      "cell_type": "markdown",
      "source": [
        "Подгрузка набора данных"
      ],
      "metadata": {
        "id": "cIcBapB793NG"
      }
    },
    {
      "cell_type": "code",
      "execution_count": null,
      "metadata": {
        "id": "n4-o61Ao84sj"
      },
      "outputs": [],
      "source": [
        "import pandas as pd\n",
        "import matplotlib.pyplot as plt\n",
        "from sklearn.datasets import load_iris\n"
      ]
    },
    {
      "cell_type": "code",
      "source": [
        "iris = load_iris()\n",
        "df = pd.DataFrame(data=iris.data, columns=iris.feature_names)\n",
        "df.head()"
      ],
      "metadata": {
        "colab": {
          "base_uri": "https://localhost:8080/",
          "height": 206
        },
        "id": "YaKKy2fW_p3_",
        "outputId": "f1fe77b4-60f6-4ca2-fd2a-ea180ef67a4e"
      },
      "execution_count": null,
      "outputs": [
        {
          "output_type": "execute_result",
          "data": {
            "text/plain": [
              "   sepal length (cm)  sepal width (cm)  petal length (cm)  petal width (cm)\n",
              "0                5.1               3.5                1.4               0.2\n",
              "1                4.9               3.0                1.4               0.2\n",
              "2                4.7               3.2                1.3               0.2\n",
              "3                4.6               3.1                1.5               0.2\n",
              "4                5.0               3.6                1.4               0.2"
            ],
            "text/html": [
              "\n",
              "  <div id=\"df-fb0e3bf1-cda2-458f-a208-e6f215838853\" class=\"colab-df-container\">\n",
              "    <div>\n",
              "<style scoped>\n",
              "    .dataframe tbody tr th:only-of-type {\n",
              "        vertical-align: middle;\n",
              "    }\n",
              "\n",
              "    .dataframe tbody tr th {\n",
              "        vertical-align: top;\n",
              "    }\n",
              "\n",
              "    .dataframe thead th {\n",
              "        text-align: right;\n",
              "    }\n",
              "</style>\n",
              "<table border=\"1\" class=\"dataframe\">\n",
              "  <thead>\n",
              "    <tr style=\"text-align: right;\">\n",
              "      <th></th>\n",
              "      <th>sepal length (cm)</th>\n",
              "      <th>sepal width (cm)</th>\n",
              "      <th>petal length (cm)</th>\n",
              "      <th>petal width (cm)</th>\n",
              "    </tr>\n",
              "  </thead>\n",
              "  <tbody>\n",
              "    <tr>\n",
              "      <th>0</th>\n",
              "      <td>5.1</td>\n",
              "      <td>3.5</td>\n",
              "      <td>1.4</td>\n",
              "      <td>0.2</td>\n",
              "    </tr>\n",
              "    <tr>\n",
              "      <th>1</th>\n",
              "      <td>4.9</td>\n",
              "      <td>3.0</td>\n",
              "      <td>1.4</td>\n",
              "      <td>0.2</td>\n",
              "    </tr>\n",
              "    <tr>\n",
              "      <th>2</th>\n",
              "      <td>4.7</td>\n",
              "      <td>3.2</td>\n",
              "      <td>1.3</td>\n",
              "      <td>0.2</td>\n",
              "    </tr>\n",
              "    <tr>\n",
              "      <th>3</th>\n",
              "      <td>4.6</td>\n",
              "      <td>3.1</td>\n",
              "      <td>1.5</td>\n",
              "      <td>0.2</td>\n",
              "    </tr>\n",
              "    <tr>\n",
              "      <th>4</th>\n",
              "      <td>5.0</td>\n",
              "      <td>3.6</td>\n",
              "      <td>1.4</td>\n",
              "      <td>0.2</td>\n",
              "    </tr>\n",
              "  </tbody>\n",
              "</table>\n",
              "</div>\n",
              "    <div class=\"colab-df-buttons\">\n",
              "\n",
              "  <div class=\"colab-df-container\">\n",
              "    <button class=\"colab-df-convert\" onclick=\"convertToInteractive('df-fb0e3bf1-cda2-458f-a208-e6f215838853')\"\n",
              "            title=\"Convert this dataframe to an interactive table.\"\n",
              "            style=\"display:none;\">\n",
              "\n",
              "  <svg xmlns=\"http://www.w3.org/2000/svg\" height=\"24px\" viewBox=\"0 -960 960 960\">\n",
              "    <path d=\"M120-120v-720h720v720H120Zm60-500h600v-160H180v160Zm220 220h160v-160H400v160Zm0 220h160v-160H400v160ZM180-400h160v-160H180v160Zm440 0h160v-160H620v160ZM180-180h160v-160H180v160Zm440 0h160v-160H620v160Z\"/>\n",
              "  </svg>\n",
              "    </button>\n",
              "\n",
              "  <style>\n",
              "    .colab-df-container {\n",
              "      display:flex;\n",
              "      gap: 12px;\n",
              "    }\n",
              "\n",
              "    .colab-df-convert {\n",
              "      background-color: #E8F0FE;\n",
              "      border: none;\n",
              "      border-radius: 50%;\n",
              "      cursor: pointer;\n",
              "      display: none;\n",
              "      fill: #1967D2;\n",
              "      height: 32px;\n",
              "      padding: 0 0 0 0;\n",
              "      width: 32px;\n",
              "    }\n",
              "\n",
              "    .colab-df-convert:hover {\n",
              "      background-color: #E2EBFA;\n",
              "      box-shadow: 0px 1px 2px rgba(60, 64, 67, 0.3), 0px 1px 3px 1px rgba(60, 64, 67, 0.15);\n",
              "      fill: #174EA6;\n",
              "    }\n",
              "\n",
              "    .colab-df-buttons div {\n",
              "      margin-bottom: 4px;\n",
              "    }\n",
              "\n",
              "    [theme=dark] .colab-df-convert {\n",
              "      background-color: #3B4455;\n",
              "      fill: #D2E3FC;\n",
              "    }\n",
              "\n",
              "    [theme=dark] .colab-df-convert:hover {\n",
              "      background-color: #434B5C;\n",
              "      box-shadow: 0px 1px 3px 1px rgba(0, 0, 0, 0.15);\n",
              "      filter: drop-shadow(0px 1px 2px rgba(0, 0, 0, 0.3));\n",
              "      fill: #FFFFFF;\n",
              "    }\n",
              "  </style>\n",
              "\n",
              "    <script>\n",
              "      const buttonEl =\n",
              "        document.querySelector('#df-fb0e3bf1-cda2-458f-a208-e6f215838853 button.colab-df-convert');\n",
              "      buttonEl.style.display =\n",
              "        google.colab.kernel.accessAllowed ? 'block' : 'none';\n",
              "\n",
              "      async function convertToInteractive(key) {\n",
              "        const element = document.querySelector('#df-fb0e3bf1-cda2-458f-a208-e6f215838853');\n",
              "        const dataTable =\n",
              "          await google.colab.kernel.invokeFunction('convertToInteractive',\n",
              "                                                    [key], {});\n",
              "        if (!dataTable) return;\n",
              "\n",
              "        const docLinkHtml = 'Like what you see? Visit the ' +\n",
              "          '<a target=\"_blank\" href=https://colab.research.google.com/notebooks/data_table.ipynb>data table notebook</a>'\n",
              "          + ' to learn more about interactive tables.';\n",
              "        element.innerHTML = '';\n",
              "        dataTable['output_type'] = 'display_data';\n",
              "        await google.colab.output.renderOutput(dataTable, element);\n",
              "        const docLink = document.createElement('div');\n",
              "        docLink.innerHTML = docLinkHtml;\n",
              "        element.appendChild(docLink);\n",
              "      }\n",
              "    </script>\n",
              "  </div>\n",
              "\n",
              "\n",
              "<div id=\"df-06d84904-1b01-4cd9-b57f-b690c7e81d9b\">\n",
              "  <button class=\"colab-df-quickchart\" onclick=\"quickchart('df-06d84904-1b01-4cd9-b57f-b690c7e81d9b')\"\n",
              "            title=\"Suggest charts\"\n",
              "            style=\"display:none;\">\n",
              "\n",
              "<svg xmlns=\"http://www.w3.org/2000/svg\" height=\"24px\"viewBox=\"0 0 24 24\"\n",
              "     width=\"24px\">\n",
              "    <g>\n",
              "        <path d=\"M19 3H5c-1.1 0-2 .9-2 2v14c0 1.1.9 2 2 2h14c1.1 0 2-.9 2-2V5c0-1.1-.9-2-2-2zM9 17H7v-7h2v7zm4 0h-2V7h2v10zm4 0h-2v-4h2v4z\"/>\n",
              "    </g>\n",
              "</svg>\n",
              "  </button>\n",
              "\n",
              "<style>\n",
              "  .colab-df-quickchart {\n",
              "      --bg-color: #E8F0FE;\n",
              "      --fill-color: #1967D2;\n",
              "      --hover-bg-color: #E2EBFA;\n",
              "      --hover-fill-color: #174EA6;\n",
              "      --disabled-fill-color: #AAA;\n",
              "      --disabled-bg-color: #DDD;\n",
              "  }\n",
              "\n",
              "  [theme=dark] .colab-df-quickchart {\n",
              "      --bg-color: #3B4455;\n",
              "      --fill-color: #D2E3FC;\n",
              "      --hover-bg-color: #434B5C;\n",
              "      --hover-fill-color: #FFFFFF;\n",
              "      --disabled-bg-color: #3B4455;\n",
              "      --disabled-fill-color: #666;\n",
              "  }\n",
              "\n",
              "  .colab-df-quickchart {\n",
              "    background-color: var(--bg-color);\n",
              "    border: none;\n",
              "    border-radius: 50%;\n",
              "    cursor: pointer;\n",
              "    display: none;\n",
              "    fill: var(--fill-color);\n",
              "    height: 32px;\n",
              "    padding: 0;\n",
              "    width: 32px;\n",
              "  }\n",
              "\n",
              "  .colab-df-quickchart:hover {\n",
              "    background-color: var(--hover-bg-color);\n",
              "    box-shadow: 0 1px 2px rgba(60, 64, 67, 0.3), 0 1px 3px 1px rgba(60, 64, 67, 0.15);\n",
              "    fill: var(--button-hover-fill-color);\n",
              "  }\n",
              "\n",
              "  .colab-df-quickchart-complete:disabled,\n",
              "  .colab-df-quickchart-complete:disabled:hover {\n",
              "    background-color: var(--disabled-bg-color);\n",
              "    fill: var(--disabled-fill-color);\n",
              "    box-shadow: none;\n",
              "  }\n",
              "\n",
              "  .colab-df-spinner {\n",
              "    border: 2px solid var(--fill-color);\n",
              "    border-color: transparent;\n",
              "    border-bottom-color: var(--fill-color);\n",
              "    animation:\n",
              "      spin 1s steps(1) infinite;\n",
              "  }\n",
              "\n",
              "  @keyframes spin {\n",
              "    0% {\n",
              "      border-color: transparent;\n",
              "      border-bottom-color: var(--fill-color);\n",
              "      border-left-color: var(--fill-color);\n",
              "    }\n",
              "    20% {\n",
              "      border-color: transparent;\n",
              "      border-left-color: var(--fill-color);\n",
              "      border-top-color: var(--fill-color);\n",
              "    }\n",
              "    30% {\n",
              "      border-color: transparent;\n",
              "      border-left-color: var(--fill-color);\n",
              "      border-top-color: var(--fill-color);\n",
              "      border-right-color: var(--fill-color);\n",
              "    }\n",
              "    40% {\n",
              "      border-color: transparent;\n",
              "      border-right-color: var(--fill-color);\n",
              "      border-top-color: var(--fill-color);\n",
              "    }\n",
              "    60% {\n",
              "      border-color: transparent;\n",
              "      border-right-color: var(--fill-color);\n",
              "    }\n",
              "    80% {\n",
              "      border-color: transparent;\n",
              "      border-right-color: var(--fill-color);\n",
              "      border-bottom-color: var(--fill-color);\n",
              "    }\n",
              "    90% {\n",
              "      border-color: transparent;\n",
              "      border-bottom-color: var(--fill-color);\n",
              "    }\n",
              "  }\n",
              "</style>\n",
              "\n",
              "  <script>\n",
              "    async function quickchart(key) {\n",
              "      const quickchartButtonEl =\n",
              "        document.querySelector('#' + key + ' button');\n",
              "      quickchartButtonEl.disabled = true;  // To prevent multiple clicks.\n",
              "      quickchartButtonEl.classList.add('colab-df-spinner');\n",
              "      try {\n",
              "        const charts = await google.colab.kernel.invokeFunction(\n",
              "            'suggestCharts', [key], {});\n",
              "      } catch (error) {\n",
              "        console.error('Error during call to suggestCharts:', error);\n",
              "      }\n",
              "      quickchartButtonEl.classList.remove('colab-df-spinner');\n",
              "      quickchartButtonEl.classList.add('colab-df-quickchart-complete');\n",
              "    }\n",
              "    (() => {\n",
              "      let quickchartButtonEl =\n",
              "        document.querySelector('#df-06d84904-1b01-4cd9-b57f-b690c7e81d9b button');\n",
              "      quickchartButtonEl.style.display =\n",
              "        google.colab.kernel.accessAllowed ? 'block' : 'none';\n",
              "    })();\n",
              "  </script>\n",
              "</div>\n",
              "    </div>\n",
              "  </div>\n"
            ]
          },
          "metadata": {},
          "execution_count": 98
        }
      ]
    },
    {
      "cell_type": "markdown",
      "source": [
        "Разделение датасета на данные и целевой признак"
      ],
      "metadata": {
        "id": "619eBo8i_H_s"
      }
    },
    {
      "cell_type": "code",
      "source": [
        "X=iris.data\n",
        "y=iris.target"
      ],
      "metadata": {
        "id": "sjaarjiE_FiL"
      },
      "execution_count": null,
      "outputs": []
    },
    {
      "cell_type": "markdown",
      "source": [
        "Графики распределениия чашелистника и лепестка"
      ],
      "metadata": {
        "id": "YAV_MHCREJow"
      }
    },
    {
      "cell_type": "code",
      "source": [
        "# The indices of the features that we are plotting (class 0 & 1)\n",
        "x_index = 0\n",
        "y_index = 1\n",
        "# this formatter will label the colorbar with the correct target names\n",
        "formatter = plt.FuncFormatter(lambda i, *args: iris.target_names[int(i)])\n",
        "plt.figure(figsize=(5, 4))\n",
        "plt.scatter(iris.data[:, x_index], iris.data[:, y_index], c=iris.target)\n",
        "plt.colorbar(ticks=[0, 1, 2], format=formatter)\n",
        "plt.xlabel(iris.feature_names[x_index])\n",
        "plt.ylabel(iris.feature_names[y_index])\n",
        "plt.tight_layout()\n",
        "plt.show()"
      ],
      "metadata": {
        "colab": {
          "base_uri": "https://localhost:8080/",
          "height": 407
        },
        "id": "TAdooO-YEILC",
        "outputId": "297bf1d5-40b6-47a7-950d-addfeba785c7"
      },
      "execution_count": null,
      "outputs": [
        {
          "output_type": "display_data",
          "data": {
            "text/plain": [
              "<Figure size 500x400 with 2 Axes>"
            ],
            "image/png": "[encoded data removed]"
          },
          "metadata": {}
        }
      ]
    },
    {
      "cell_type": "code",
      "source": [
        "# The indices of the features that we are plotting (class 2 & 3)\n",
        "x_index = 2\n",
        "y_index = 3\n",
        "# this formatter will label the colorbar with the correct target names\n",
        "formatter = plt.FuncFormatter(lambda i, *args: iris.target_names[int(i)])\n",
        "plt.figure(figsize=(5, 4))\n",
        "plt.scatter(iris.data[:, x_index], iris.data[:, y_index], c=iris.target)\n",
        "plt.colorbar(ticks=[0, 1, 2], format=formatter)\n",
        "plt.xlabel(iris.feature_names[x_index])\n",
        "plt.ylabel(iris.feature_names[y_index])\n",
        "plt.tight_layout()\n",
        "plt.show()"
      ],
      "metadata": {
        "colab": {
          "base_uri": "https://localhost:8080/",
          "height": 407
        },
        "id": "IJj9DtVfFMnt",
        "outputId": "c0f61f9f-84dc-4cce-ad22-a090c83a265e"
      },
      "execution_count": null,
      "outputs": [
        {
          "output_type": "display_data",
          "data": {
            "text/plain": [
              "<Figure size 500x400 with 2 Axes>"
            ],
            "image/png": "[encoded data removed]"
          },
          "metadata": {}
        }
      ]
    },
    {
      "cell_type": "markdown",
      "source": [
        "Создание массивов X и y входных данных и меток классов, соответственно.\n",
        "\n",
        "Создание небольшого датасета\n"
      ],
      "metadata": {
        "id": "YCqrqmbpFmH5"
      }
    },
    {
      "cell_type": "code",
      "source": [
        "X=iris.data\n",
        "y=iris.target\n",
        "\n",
        "dataset = X[:150:15]\n",
        "output = y[:150:15]"
      ],
      "metadata": {
        "id": "Yd6IE-UiFq1I"
      },
      "execution_count": null,
      "outputs": []
    },
    {
      "cell_type": "markdown",
      "source": [
        "Реализация основных функций\n",
        "\n",
        "train_set - матрица обучающих данных, каждая строка которой представляет один объект\n",
        "\n",
        "labels - вектор меток классов для обучающих данных\n",
        "\n",
        "test - матрица тестовых данных, каждая строка которой представляет один объект\n",
        "\n",
        "num_neighbors - количество ближайших соседей, которые нужно выбрать"
      ],
      "metadata": {
        "id": "1LgDbqDnGzDl"
      }
    },
    {
      "cell_type": "code",
      "source": [
        "import math\n",
        "import numpy as np\n",
        "\n",
        "# Вычисляет расстояние между двумя строками, представленными в виде списков\n",
        "def euclidean_distance(row1, row2):\n",
        "    distance = 0\n",
        "    for i in range(len(row1)):\n",
        "        distance += (row1[i] - row2[i]) ** 2\n",
        "    return math.sqrt(distance)\n",
        "\n",
        "\n",
        "# Функция находит k ближайших соседей для каждой тестовой записи в наборе данных.\n",
        "def get_neighbors_demo(train_set, labels, test_row, num_neighbors):\n",
        "    distances = []\n",
        "    for i in range(len(train_set)):\n",
        "        dist = euclidean_distance(train_set[i], test_row)\n",
        "        distances.append(( dist, labels[i], train_set[i]))\n",
        "    distances.sort()\n",
        "    neighbors = []\n",
        "    for i in range(num_neighbors):\n",
        "        neighbors.append(distances[i])\n",
        "\n",
        "    return neighbors\n",
        "\n",
        "def get_neighbors(train_set, labels, test_row, num_neighbors):\n",
        "    distances = []\n",
        "    for i in range(len(train_set)):\n",
        "        dist = euclidean_distance(train_set[i], test_row)\n",
        "        distances.append(( dist, labels[i]))\n",
        "    distances.sort()\n",
        "    neighbors = []\n",
        "    for i in range(num_neighbors):\n",
        "        neighbors.append(distances[i])\n",
        "\n",
        "    return neighbors"
      ],
      "metadata": {
        "id": "6fs1rAa7G17C"
      },
      "execution_count": null,
      "outputs": []
    },
    {
      "cell_type": "markdown",
      "source": [
        "Проверка работы функции Евклидова расстояния между точкой 5 и каждым значением остального набора"
      ],
      "metadata": {
        "id": "yhy0kHVZH7-z"
      }
    },
    {
      "cell_type": "code",
      "source": [
        "for i in range(10):\n",
        "  print(euclidean_distance(dataset[i], dataset[5]))"
      ],
      "metadata": {
        "colab": {
          "base_uri": "https://localhost:8080/"
        },
        "id": "VYZEyZDeHEFd",
        "outputId": "b702b640-08a0-4472-e0e3-104349dae9e6"
      },
      "execution_count": null,
      "outputs": [
        {
          "output_type": "stream",
          "name": "stdout",
          "text": [
            "3.59722114972099\n",
            "3.4899856733230297\n",
            "3.539774004085572\n",
            "3.66742416417845\n",
            "2.128379665379276\n",
            "0.0\n",
            "1.1874342087037915\n",
            "2.5159491250818244\n",
            "1.6217274740226855\n",
            "2.2158519806160335\n"
          ]
        }
      ]
    },
    {
      "cell_type": "markdown",
      "source": [
        "Проверка работы функции подбора количества соседей\n",
        "\n",
        "Выведено расстояние, количество соседей и набор точек соседа"
      ],
      "metadata": {
        "id": "-5FnMlyxICcq"
      }
    },
    {
      "cell_type": "code",
      "source": [
        "neighbors = get_neighbors_demo(dataset, output, dataset[5], 3)\n",
        "for neighbor in neighbors:\n",
        "  print(neighbor)\n"
      ],
      "metadata": {
        "colab": {
          "base_uri": "https://localhost:8080/"
        },
        "id": "RlZobhyGICFc",
        "outputId": "79fe9435-3621-495a-b390-7c4ac82f5802"
      },
      "execution_count": null,
      "outputs": [
        {
          "output_type": "stream",
          "name": "stdout",
          "text": [
            "(0.0, 1, array([6.6, 3. , 4.4, 1.4]))\n",
            "(1.1874342087037915, 1, array([5.5, 2.6, 4.4, 1.2]))\n",
            "(1.6217274740226855, 2, array([6.9, 3.2, 5.7, 2.3]))\n"
          ]
        }
      ]
    },
    {
      "cell_type": "markdown",
      "source": [
        "Функция классификации"
      ],
      "metadata": {
        "id": "DsdBO2R4Kqgm"
      }
    },
    {
      "cell_type": "code",
      "source": [
        "import numpy as np\n",
        "\n",
        "def predict_classification(train_set, labels, test_row, num_neighbors):\n",
        "    neighbors = get_neighbors(train_set, labels, test_row, num_neighbors)\n",
        "    classes = [label for _, label in neighbors]\n",
        "    prediction = max(set(classes), key=classes.count)\n",
        "    return prediction\n"
      ],
      "metadata": {
        "id": "dZ5-wPF9Kvv6"
      },
      "execution_count": null,
      "outputs": []
    },
    {
      "cell_type": "markdown",
      "source": [
        "Проверка функции"
      ],
      "metadata": {
        "id": "jVWlxdSAK4H9"
      }
    },
    {
      "cell_type": "code",
      "source": [
        "prediction = predict_classification(dataset, output, dataset[5], 3)\n",
        "print('Expected %d, Got %d.' % (output[5], prediction))\n"
      ],
      "metadata": {
        "colab": {
          "base_uri": "https://localhost:8080/"
        },
        "id": "RU6F9X4wK3Zv",
        "outputId": "723db4bf-c523-485c-8184-779501cad2b9"
      },
      "execution_count": null,
      "outputs": [
        {
          "output_type": "stream",
          "name": "stdout",
          "text": [
            "Expected 1, Got 1.\n"
          ]
        }
      ]
    },
    {
      "cell_type": "markdown",
      "source": [
        "Функция KNN"
      ],
      "metadata": {
        "id": "zVAUoaIRMsSz"
      }
    },
    {
      "cell_type": "code",
      "source": [
        "import numpy as np\n",
        "from sklearn.model_selection import train_test_split\n",
        "\n",
        "def k_nearest_neighbors(train_set, labels, test, num_neighbors):\n",
        "    predictions = []\n",
        "    for i in range(len(test)):\n",
        "        neighbors = get_neighbors(train_set, labels, test[i], num_neighbors)\n",
        "        classes = [label for _, label in neighbors]\n",
        "        prediction = max(set(classes), key=classes.count)\n",
        "        predictions.append(prediction)\n",
        "    return predictions\n"
      ],
      "metadata": {
        "id": "MPJIqKfLMrlO"
      },
      "execution_count": null,
      "outputs": []
    },
    {
      "cell_type": "markdown",
      "source": [
        "Проверка функции KNN, предсказания класса"
      ],
      "metadata": {
        "id": "bHbdHM62M3r8"
      }
    },
    {
      "cell_type": "code",
      "source": [
        "X_train, X_test, y_train, y_test = train_test_split(X, y, test_size=0.2)\n",
        "predictions = k_nearest_neighbors(X_train, y_train, X_test, 1)\n",
        "print(predictions)\n",
        "print(y_test)"
      ],
      "metadata": {
        "colab": {
          "base_uri": "https://localhost:8080/"
        },
        "id": "Y_LrYjBsM3M5",
        "outputId": "b748c59a-ed65-4c96-98e8-89f57e384c9f"
      },
      "execution_count": null,
      "outputs": [
        {
          "output_type": "stream",
          "name": "stdout",
          "text": [
            "[1, 1, 1, 2, 1, 0, 1, 2, 2, 1, 2, 2, 2, 1, 2, 0, 0, 0, 2, 0, 0, 2, 1, 2, 1, 2, 1, 1, 2, 0]\n",
            "[1 1 1 2 1 0 1 1 2 1 2 1 2 1 2 0 0 0 2 0 0 2 1 2 1 2 1 1 2 0]\n"
          ]
        }
      ]
    },
    {
      "cell_type": "markdown",
      "source": [
        "Точность модели, Доля правильных ответов"
      ],
      "metadata": {
        "id": "W8-EEzR-NZih"
      }
    },
    {
      "cell_type": "code",
      "source": [
        "pos = 0\n",
        "for i in range(y_test.size):\n",
        "    if y_test[i] == predictions[i]:\n",
        "      pos += 1\n",
        "pos/y_test.size"
      ],
      "metadata": {
        "colab": {
          "base_uri": "https://localhost:8080/"
        },
        "id": "K1LKH_CoNeNb",
        "outputId": "1fe67d82-3f8f-4707-9582-953edf2db045"
      },
      "execution_count": null,
      "outputs": [
        {
          "output_type": "execute_result",
          "data": {
            "text/plain": [
              "0.9333333333333333"
            ]
          },
          "metadata": {},
          "execution_count": 110
        }
      ]
    },
    {
      "cell_type": "markdown",
      "source": [
        "График зависимости доли правильных ответов от количества соседей и  доли тестовой выборки"
      ],
      "metadata": {
        "id": "op0PgG8hO-_h"
      }
    },
    {
      "cell_type": "code",
      "source": [
        "X_train, X_test, y_train, y_test = train_test_split(X, y, test_size=0.1)\n",
        "k_neib = []\n",
        "kk = np.linspace(1, 60, 60)\n",
        "\n",
        "for i in range(1, 61, 1):\n",
        "    predictions = k_nearest_neighbors(X_train, y_train, X_test, i)\n",
        "    pos = 0\n",
        "    for j in range(y_test.size):\n",
        "        if y_test[j] == predictions[j]:\n",
        "          pos += 1\n",
        "    k_neib.append(pos/y_test.size)\n",
        "\n",
        "plt.plot( kk, k_neib, color = \"g\")"
      ],
      "metadata": {
        "colab": {
          "base_uri": "https://localhost:8080/",
          "height": 447
        },
        "id": "CE5MKgseQ5PG",
        "outputId": "2449d94b-7c15-4ec2-a65e-9d1aff5921c2"
      },
      "execution_count": null,
      "outputs": [
        {
          "output_type": "execute_result",
          "data": {
            "text/plain": [
              "[<matplotlib.lines.Line2D at 0x7e6cfafc7850>]"
            ]
          },
          "metadata": {},
          "execution_count": 111
        },
        {
          "output_type": "display_data",
          "data": {
            "text/plain": [
              "<Figure size 640x480 with 1 Axes>"
            ],
            "image/png": "[encoded data removed]"
          },
          "metadata": {}
        }
      ]
    },
    {
      "cell_type": "code",
      "source": [
        "X_train, X_test, y_train, y_test = train_test_split(X, y, test_size=0.2)\n",
        "k_neib = []\n",
        "kk = np.linspace(1, 60, 60)\n",
        "\n",
        "for i in range(1, 61, 1):\n",
        "    predictions = k_nearest_neighbors(X_train, y_train, X_test, i)\n",
        "    pos = 0\n",
        "    for j in range(y_test.size):\n",
        "        if y_test[j] == predictions[j]:\n",
        "          pos += 1\n",
        "    k_neib.append(pos/y_test.size)\n",
        "\n",
        "plt.plot( kk, k_neib, color = \"b\")"
      ],
      "metadata": {
        "colab": {
          "base_uri": "https://localhost:8080/",
          "height": 447
        },
        "id": "xAA7Wh7TPGGl",
        "outputId": "9bd85854-cf09-4b15-cff4-3db122d85d44"
      },
      "execution_count": null,
      "outputs": [
        {
          "output_type": "execute_result",
          "data": {
            "text/plain": [
              "[<matplotlib.lines.Line2D at 0x7e6cbfd23460>]"
            ]
          },
          "metadata": {},
          "execution_count": 112
        },
        {
          "output_type": "display_data",
          "data": {
            "text/plain": [
              "<Figure size 640x480 with 1 Axes>"
            ],
            "image/png": "[encoded data removed]"
          },
          "metadata": {}
        }
      ]
    },
    {
      "cell_type": "code",
      "source": [
        "X_train, X_test, y_train, y_test = train_test_split(X, y, test_size=0.3)\n",
        "k_neib = []\n",
        "kk = np.linspace(1, 60, 60)\n",
        "\n",
        "for i in range(1, 61, 1):\n",
        "    predictions = k_nearest_neighbors(X_train, y_train, X_test, i)\n",
        "    pos = 0\n",
        "    for j in range(y_test.size):\n",
        "        if y_test[j] == predictions[j]:\n",
        "          pos += 1\n",
        "    k_neib.append(pos/y_test.size)\n",
        "\n",
        "plt.plot( kk, k_neib, color = \"r\")"
      ],
      "metadata": {
        "colab": {
          "base_uri": "https://localhost:8080/",
          "height": 447
        },
        "id": "DzL5I0CRQHD8",
        "outputId": "23a70ec2-103d-4180-8fae-267ebcc3d0e7"
      },
      "execution_count": null,
      "outputs": [
        {
          "output_type": "execute_result",
          "data": {
            "text/plain": [
              "[<matplotlib.lines.Line2D at 0x7e6cbfce6dd0>]"
            ]
          },
          "metadata": {},
          "execution_count": 113
        },
        {
          "output_type": "display_data",
          "data": {
            "text/plain": [
              "<Figure size 640x480 with 1 Axes>"
            ],
            "image/png": "[encoded data removed]"
          },
          "metadata": {}
        }
      ]
    },
    {
      "cell_type": "code",
      "source": [
        "X_train, X_test, y_train, y_test = train_test_split(X, y, test_size=0.4)\n",
        "k_neib = []\n",
        "kk = np.linspace(1, 60, 60)\n",
        "\n",
        "for i in range(1, 61, 1):\n",
        "    predictions = k_nearest_neighbors(X_train, y_train, X_test, i)\n",
        "    pos = 0\n",
        "    for j in range(y_test.size):\n",
        "        if y_test[j] == predictions[j]:\n",
        "          pos += 1\n",
        "    k_neib.append(pos/y_test.size)\n",
        "\n",
        "plt.plot( kk, k_neib, color = \"black\")"
      ],
      "metadata": {
        "colab": {
          "base_uri": "https://localhost:8080/",
          "height": 447
        },
        "id": "R7udVzZbQ1wn",
        "outputId": "8d4553a4-d6c0-4385-8d14-83f9d0ee8aee"
      },
      "execution_count": null,
      "outputs": [
        {
          "output_type": "execute_result",
          "data": {
            "text/plain": [
              "[<matplotlib.lines.Line2D at 0x7e6cbfb57010>]"
            ]
          },
          "metadata": {},
          "execution_count": 114
        },
        {
          "output_type": "display_data",
          "data": {
            "text/plain": [
              "<Figure size 640x480 with 1 Axes>"
            ],
            "image/png": "[encoded data removed]"
          },
          "metadata": {}
        }
      ]
    },
    {
      "cell_type": "markdown",
      "source": [
        "Итог:\n",
        "Для достижения лучшей точности и избежания переобучения было выявлено, что оптимальные аргументы - доля тестовой выборки: 0,2, количество соседей: от 10 до 47"
      ],
      "metadata": {
        "id": "gZ3e3E4ZXRAZ"
      }
    },
    {
      "cell_type": "markdown",
      "source": [
        "Метод реализованный в sklearn"
      ],
      "metadata": {
        "id": "NP6jbpriQgIL"
      }
    },
    {
      "cell_type": "code",
      "source": [
        "from sklearn.datasets import load_iris\n",
        "from sklearn.neighbors import KNeighborsClassifier\n",
        "from sklearn.model_selection import train_test_split\n",
        "from sklearn.metrics import accuracy_score\n",
        "\n",
        "# Датасет Iris\n",
        "iris = load_iris()\n",
        "X_train, X_test, y_train, y_test = train_test_split(iris.data, iris.target, test_size=0.2, random_state=124)\n",
        "\n",
        "# Создание и обучение модели\n",
        "knn = KNeighborsClassifier(n_neighbors=2)\n",
        "knn.fit(X_train, y_train)\n",
        "\n",
        "# Предсказания для тестовой выборки\n",
        "y_pred = knn.predict(X_test)\n",
        "accuracy = accuracy_score(y_test, y_pred)\n",
        "\n",
        "print(\"Accuracy:\", accuracy)\n"
      ],
      "metadata": {
        "colab": {
          "base_uri": "https://localhost:8080/"
        },
        "id": "sBx4UgIIRxnQ",
        "outputId": "d1a1b9c5-0d5b-4d64-bf83-d66b9473ae81"
      },
      "execution_count": null,
      "outputs": [
        {
          "output_type": "stream",
          "name": "stdout",
          "text": [
            "Accuracy: 0.9333333333333333\n"
          ]
        }
      ]
    },
    {
      "cell_type": "markdown",
      "source": [
        "Сравнение точности логистической регрессии и sklearn"
      ],
      "metadata": {
        "id": "IA3CyovowSK8"
      }
    },
    {
      "cell_type": "code",
      "source": [
        "iris = load_iris()\n",
        "X_train, X_test, y_train, y_test = train_test_split(iris.data, iris.target, test_size=0.2, random_state=124)\n",
        "predictions = k_nearest_neighbors(X_train, y_train, X_test, 2)\n",
        "pos = 0\n",
        "for j in range(y_test.size):\n",
        "  if y_test[j] == predictions[j]:\n",
        "      pos += 1\n",
        "\n",
        "pos/y_test.size"
      ],
      "metadata": {
        "colab": {
          "base_uri": "https://localhost:8080/"
        },
        "id": "cC0KaZhHwYrV",
        "outputId": "a492d75c-56ed-429e-c3d1-25e520fdc362"
      },
      "execution_count": null,
      "outputs": [
        {
          "output_type": "execute_result",
          "data": {
            "text/plain": [
              "0.9333333333333333"
            ]
          },
          "metadata": {},
          "execution_count": 116
        }
      ]
    },
    {
      "cell_type": "markdown",
      "source": [
        "Итог: точность логистической регрессии и реализованного метода из библиотеки очень близки по значению"
      ],
      "metadata": {
        "id": "QOyAExhtxBUL"
      }
    },
    {
      "cell_type": "markdown",
      "source": [
        "## 2. Использование деревьев решений и их ансамблей для задачи классификации ирисов Фишера"
      ],
      "metadata": {
        "id": "o4eEG_O3co5H"
      }
    },
    {
      "cell_type": "markdown",
      "source": [
        "Обучите следующие классификаторы на основе деревьев решений:\n",
        "\n",
        "1) одно дерево,\n",
        "Покажите пример переобученного дерева и опишите, как Вы боретесь с этим явлением.\n",
        "\n",
        "2) случайный лес,\n",
        "Какие параметры есть у этого метода? Продемонстрируйте их влияние на эффективность\n",
        "модели.\n",
        "\n",
        "* min_samples_split=8, используется для управления минимальным количеством образцов, необходимых для разделения внутреннего узла в дереве решений.\n",
        "* n_estimators=100, используется для управления количеством деревьев решений в случайном лесу.\n",
        "* max_depth=2, используется для управления максимальной глубиной каждого дерева решений.\n",
        "* random_state=rs, используется для управления случайностью алгоритма.\n",
        "\n",
        "3) градиентный бустинг.\n",
        "Какие параметры есть у этого метода? Продемонстрируйте их влияние на эффективность\n",
        "модели.\n",
        "\n",
        "* max_depth=2, используется для управления максимальной глубиной каждого дерева решений.\n",
        "* n_estimators=100, используется для управления количеством деревьев решений в случайном лесу.\n",
        "* learning_rate=0.002, используется для управления скоростью обучения в алгоритмах машинного обучения, таких как оптимизация градиентного спуска.\n",
        "* random_state=rs, используется для управления случайностью алгоритма.\n",
        "\n",
        "**Я исключила переобучение классификатора Случайный лес, увеличив количество деревьев до 100, и сократив длину узлов до 2.**"
      ],
      "metadata": {
        "id": "A_QOq4x5dIF9"
      }
    },
    {
      "cell_type": "code",
      "source": [
        "from sklearn.tree import DecisionTreeClassifier\n",
        "from sklearn.ensemble import RandomForestClassifier, GradientBoostingClassifier\n",
        "from sklearn.datasets import load_iris\n",
        "from sklearn.model_selection import train_test_split\n",
        "from sklearn import tree\n",
        "\n",
        "# Загружаем данные\n",
        "iris = load_iris()\n",
        "X = iris.data\n",
        "y = iris.target\n",
        "rs = 42\n",
        "\n",
        "X_train, X_test, y_train, y_test = train_test_split(X, y, test_size=0.25, random_state=123)\n",
        "\n",
        "\n",
        "dtc = DecisionTreeClassifier(max_leaf_nodes=3, random_state=rs)\n",
        "dtc.fit(X_train, y_train)\n",
        "\n",
        "\n",
        "rfc = RandomForestClassifier()\n",
        "rfc.fit(X_train, y_train)\n",
        "\n",
        "\n",
        "gbc = GradientBoostingClassifier()\n",
        "gbc.fit(X_train, y_train)\n",
        "'''tree.plot_tree(dtc)\n",
        "plt.show()'''\n",
        "\n",
        "# Предсказываем классы для тестовой выборки\n",
        "y_pred_dtc = dtc.predict(X_test)\n",
        "y_pred_rfc = rfc.predict(X_test)\n",
        "y_pred_gbc = gbc.predict(X_test)\n",
        "\n",
        "\n",
        "# Оценка точности классификаторов\n",
        "\n",
        "acc_dtc_r = dtc.score(X_train, y_train)\n",
        "acc_rfc_r = rfc.score(X_train, y_train)\n",
        "acc_gbc_r = gbc.score(X_test, y_test)\n",
        "\n",
        "acc_dtc = dtc.score(X_test, y_test)\n",
        "acc_rfc = rfc.score(X_test, y_test)\n",
        "acc_gbc = gbc.score(X_test, y_test)\n",
        "\n",
        "\n",
        "\n",
        "print(\"Train: Accuracy of Decision Tree Classifier:\", acc_dtc)\n",
        "print(\"       Accuracy of Random Forest Classifier:\", acc_rfc_r)\n",
        "print(\"       Accuracy of Gradient Boosting Classifier:\", acc_gbc_r)\n",
        "\n",
        "print(\"Test: Accuracy of Decision Tree Classifier:\", acc_dtc)\n",
        "print(\"      Accuracy of Random Forest Classifier:\", acc_rfc)\n",
        "print(\"      Accuracy of Gradient Boosting Classifier:\", acc_gbc)\n"
      ],
      "metadata": {
        "colab": {
          "base_uri": "https://localhost:8080/"
        },
        "id": "5Gimxiz1crpz",
        "outputId": "aba95fba-7bcc-4790-ab1d-c004edfa80a6"
      },
      "execution_count": null,
      "outputs": [
        {
          "output_type": "stream",
          "name": "stdout",
          "text": [
            "Train: Accuracy of Decision Tree Classifier: 0.9473684210526315\n",
            "       Accuracy of Random Forest Classifier: 1.0\n",
            "       Accuracy of Gradient Boosting Classifier: 0.8947368421052632\n",
            "Test: Accuracy of Decision Tree Classifier: 0.9473684210526315\n",
            "      Accuracy of Random Forest Classifier: 0.9210526315789473\n",
            "      Accuracy of Gradient Boosting Classifier: 0.8947368421052632\n"
          ]
        }
      ]
    },
    {
      "cell_type": "code",
      "source": [
        "rfc = RandomForestClassifier(min_samples_split=8, n_estimators=100,max_depth=2, random_state=rs)\n",
        "rfc.fit(X_train, y_train)\n",
        "\n",
        "\n",
        "gbc = GradientBoostingClassifier(max_depth=2, n_estimators=100, learning_rate=0.002, random_state=rs)\n",
        "gbc.fit(X_train, y_train)\n",
        "'''tree.plot_tree(dtc)\n",
        "plt.show()'''\n",
        "\n",
        "y_pred_dtc = dtc.predict(X_test)\n",
        "y_pred_rfc = rfc.predict(X_test)\n",
        "y_pred_gbc = gbc.predict(X_test)\n",
        "\n",
        "acc_rfc_r = rfc.score(X_train, y_train)\n",
        "acc_gbc_r = gbc.score(X_train, y_train)\n",
        "\n",
        "\n",
        "acc_rfc = rfc.score(X_test, y_test)\n",
        "acc_gbc = gbc.score(X_test, y_test)\n",
        "\n",
        "print(\"After add arguments\")\n",
        "print(\"Train: Accuracy of Random Forest Classifier:\", acc_rfc_r)\n",
        "print(\"       Accuracy of Gradient Boosting Classifier:\", acc_gbc_r)\n",
        "\n",
        "print(\"Test: Accuracy of Random Forest Classifier:\", acc_rfc)\n",
        "print(\"      Accuracy of Gradient Boosting Classifier:\", acc_gbc)"
      ],
      "metadata": {
        "colab": {
          "base_uri": "https://localhost:8080/"
        },
        "id": "EAnwN6cF4Si7",
        "outputId": "24a89720-2c88-443c-e933-c479b08b0ca5"
      },
      "execution_count": null,
      "outputs": [
        {
          "output_type": "stream",
          "name": "stdout",
          "text": [
            "After add arguments\n",
            "Train: Accuracy of Random Forest Classifier: 0.9642857142857143\n",
            "       Accuracy of Gradient Boosting Classifier: 0.9642857142857143\n",
            "Test: Accuracy of Random Forest Classifier: 0.9473684210526315\n",
            "      Accuracy of Gradient Boosting Classifier: 0.9473684210526315\n"
          ]
        }
      ]
    }
  ]
}