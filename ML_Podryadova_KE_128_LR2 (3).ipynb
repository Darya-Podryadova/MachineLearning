{
  "nbformat": 4,
  "nbformat_minor": 0,
  "metadata": {
    "colab": {
      "provenance": []
    },
    "kernelspec": {
      "name": "python3",
      "display_name": "Python 3"
    },
    "language_info": {
      "name": "python"
    }
  },
  "cells": [
    {
      "cell_type": "markdown",
      "source": [
        "# Практическая работа № 2. Логистическая регрессия\n",
        "\n",
        "## 1. Бинарная классификация. Случай линейно разделимых классов\n",
        "\n",
        "Классификация с бинарной переменной класса, т.е. категориальной выходной переменной, которая может принимать только два значения. Классы могут максимально точно разделиться на две группы."
      ],
      "metadata": {
        "id": "_p8T6Or5WUOQ"
      }
    },
    {
      "cell_type": "markdown",
      "source": [
        "### Подключение библиотек"
      ],
      "metadata": {
        "id": "5s9wpyYjWi7X"
      }
    },
    {
      "cell_type": "code",
      "execution_count": null,
      "metadata": {
        "id": "g4xyR_iWa0OQ"
      },
      "outputs": [],
      "source": [
        "import pandas as pd\n",
        "import numpy as np\n",
        "import matplotlib.pyplot as plt\n",
        "import scipy.optimize as opt\n",
        "import sklearn.preprocessing as pp\n",
        "\n",
        "from sklearn import linear_model"
      ]
    },
    {
      "cell_type": "markdown",
      "source": [
        "Основные функции\n",
        "\n",
        "\n",
        "*   Сигмоида - sigmoid\n",
        "*   costFunction\n",
        "*   gradientFunc\n",
        "\n"
      ],
      "metadata": {
        "id": "S6oBafatWse4"
      }
    },
    {
      "cell_type": "code",
      "source": [
        "def sigmoid(z):\n",
        "    return 1.0 / (1.0 + np.exp(-z))\n",
        "\n",
        "def costFunction(theta, X, y):\n",
        "    h = sigmoid(np.dot(X, theta))\n",
        "    J = -(1.0 / len(y)) * (y * np.transpose(np.log(h)) + (1 - y) * np.transpose(np.log(1 - h))).sum()\n",
        "    return J\n",
        "\n",
        "def gradientFunc(theta, X, y):\n",
        "    alpha = sigmoid(np.dot(X, theta))\n",
        "    grad = (1.0 / len(y)) * np.dot(alpha.T - y, X).T\n",
        "    return grad"
      ],
      "metadata": {
        "id": "M2R85L45Wl32"
      },
      "execution_count": null,
      "outputs": []
    },
    {
      "cell_type": "markdown",
      "source": [
        "Подгрузка данных"
      ],
      "metadata": {
        "id": "hULcmom_XpAx"
      }
    },
    {
      "cell_type": "code",
      "source": [
        "df = pd.read_table(\"/content/ex2data1.txt\", header = None, delimiter= \",\",names=[\"Exam_1\", \"Exam_2\",\"Admited\"])\n",
        "df.head()"
      ],
      "metadata": {
        "colab": {
          "base_uri": "https://localhost:8080/",
          "height": 206
        },
        "id": "qj44smU1Xobt",
        "outputId": "dabb2462-8e21-4ce0-93ce-2642234da8c7"
      },
      "execution_count": null,
      "outputs": [
        {
          "output_type": "execute_result",
          "data": {
            "text/plain": [
              "      Exam_1     Exam_2  Admited\n",
              "0  34.623660  78.024693        0\n",
              "1  30.286711  43.894998        0\n",
              "2  35.847409  72.902198        0\n",
              "3  60.182599  86.308552        1\n",
              "4  79.032736  75.344376        1"
            ],
            "text/html": [
              "\n",
              "  <div id=\"df-007a0875-6b0b-4236-a872-a62616de29c7\" class=\"colab-df-container\">\n",
              "    <div>\n",
              "<style scoped>\n",
              "    .dataframe tbody tr th:only-of-type {\n",
              "        vertical-align: middle;\n",
              "    }\n",
              "\n",
              "    .dataframe tbody tr th {\n",
              "        vertical-align: top;\n",
              "    }\n",
              "\n",
              "    .dataframe thead th {\n",
              "        text-align: right;\n",
              "    }\n",
              "</style>\n",
              "<table border=\"1\" class=\"dataframe\">\n",
              "  <thead>\n",
              "    <tr style=\"text-align: right;\">\n",
              "      <th></th>\n",
              "      <th>Exam_1</th>\n",
              "      <th>Exam_2</th>\n",
              "      <th>Admited</th>\n",
              "    </tr>\n",
              "  </thead>\n",
              "  <tbody>\n",
              "    <tr>\n",
              "      <th>0</th>\n",
              "      <td>34.623660</td>\n",
              "      <td>78.024693</td>\n",
              "      <td>0</td>\n",
              "    </tr>\n",
              "    <tr>\n",
              "      <th>1</th>\n",
              "      <td>30.286711</td>\n",
              "      <td>43.894998</td>\n",
              "      <td>0</td>\n",
              "    </tr>\n",
              "    <tr>\n",
              "      <th>2</th>\n",
              "      <td>35.847409</td>\n",
              "      <td>72.902198</td>\n",
              "      <td>0</td>\n",
              "    </tr>\n",
              "    <tr>\n",
              "      <th>3</th>\n",
              "      <td>60.182599</td>\n",
              "      <td>86.308552</td>\n",
              "      <td>1</td>\n",
              "    </tr>\n",
              "    <tr>\n",
              "      <th>4</th>\n",
              "      <td>79.032736</td>\n",
              "      <td>75.344376</td>\n",
              "      <td>1</td>\n",
              "    </tr>\n",
              "  </tbody>\n",
              "</table>\n",
              "</div>\n",
              "    <div class=\"colab-df-buttons\">\n",
              "\n",
              "  <div class=\"colab-df-container\">\n",
              "    <button class=\"colab-df-convert\" onclick=\"convertToInteractive('df-007a0875-6b0b-4236-a872-a62616de29c7')\"\n",
              "            title=\"Convert this dataframe to an interactive table.\"\n",
              "            style=\"display:none;\">\n",
              "\n",
              "  <svg xmlns=\"http://www.w3.org/2000/svg\" height=\"24px\" viewBox=\"0 -960 960 960\">\n",
              "    <path d=\"M120-120v-720h720v720H120Zm60-500h600v-160H180v160Zm220 220h160v-160H400v160Zm0 220h160v-160H400v160ZM180-400h160v-160H180v160Zm440 0h160v-160H620v160ZM180-180h160v-160H180v160Zm440 0h160v-160H620v160Z\"/>\n",
              "  </svg>\n",
              "    </button>\n",
              "\n",
              "  <style>\n",
              "    .colab-df-container {\n",
              "      display:flex;\n",
              "      gap: 12px;\n",
              "    }\n",
              "\n",
              "    .colab-df-convert {\n",
              "      background-color: #E8F0FE;\n",
              "      border: none;\n",
              "      border-radius: 50%;\n",
              "      cursor: pointer;\n",
              "      display: none;\n",
              "      fill: #1967D2;\n",
              "      height: 32px;\n",
              "      padding: 0 0 0 0;\n",
              "      width: 32px;\n",
              "    }\n",
              "\n",
              "    .colab-df-convert:hover {\n",
              "      background-color: #E2EBFA;\n",
              "      box-shadow: 0px 1px 2px rgba(60, 64, 67, 0.3), 0px 1px 3px 1px rgba(60, 64, 67, 0.15);\n",
              "      fill: #174EA6;\n",
              "    }\n",
              "\n",
              "    .colab-df-buttons div {\n",
              "      margin-bottom: 4px;\n",
              "    }\n",
              "\n",
              "    [theme=dark] .colab-df-convert {\n",
              "      background-color: #3B4455;\n",
              "      fill: #D2E3FC;\n",
              "    }\n",
              "\n",
              "    [theme=dark] .colab-df-convert:hover {\n",
              "      background-color: #434B5C;\n",
              "      box-shadow: 0px 1px 3px 1px rgba(0, 0, 0, 0.15);\n",
              "      filter: drop-shadow(0px 1px 2px rgba(0, 0, 0, 0.3));\n",
              "      fill: #FFFFFF;\n",
              "    }\n",
              "  </style>\n",
              "\n",
              "    <script>\n",
              "      const buttonEl =\n",
              "        document.querySelector('#df-007a0875-6b0b-4236-a872-a62616de29c7 button.colab-df-convert');\n",
              "      buttonEl.style.display =\n",
              "        google.colab.kernel.accessAllowed ? 'block' : 'none';\n",
              "\n",
              "      async function convertToInteractive(key) {\n",
              "        const element = document.querySelector('#df-007a0875-6b0b-4236-a872-a62616de29c7');\n",
              "        const dataTable =\n",
              "          await google.colab.kernel.invokeFunction('convertToInteractive',\n",
              "                                                    [key], {});\n",
              "        if (!dataTable) return;\n",
              "\n",
              "        const docLinkHtml = 'Like what you see? Visit the ' +\n",
              "          '<a target=\"_blank\" href=https://colab.research.google.com/notebooks/data_table.ipynb>data table notebook</a>'\n",
              "          + ' to learn more about interactive tables.';\n",
              "        element.innerHTML = '';\n",
              "        dataTable['output_type'] = 'display_data';\n",
              "        await google.colab.output.renderOutput(dataTable, element);\n",
              "        const docLink = document.createElement('div');\n",
              "        docLink.innerHTML = docLinkHtml;\n",
              "        element.appendChild(docLink);\n",
              "      }\n",
              "    </script>\n",
              "  </div>\n",
              "\n",
              "\n",
              "<div id=\"df-b6d5ec6d-36c1-4369-ad85-94391ba27cc5\">\n",
              "  <button class=\"colab-df-quickchart\" onclick=\"quickchart('df-b6d5ec6d-36c1-4369-ad85-94391ba27cc5')\"\n",
              "            title=\"Suggest charts\"\n",
              "            style=\"display:none;\">\n",
              "\n",
              "<svg xmlns=\"http://www.w3.org/2000/svg\" height=\"24px\"viewBox=\"0 0 24 24\"\n",
              "     width=\"24px\">\n",
              "    <g>\n",
              "        <path d=\"M19 3H5c-1.1 0-2 .9-2 2v14c0 1.1.9 2 2 2h14c1.1 0 2-.9 2-2V5c0-1.1-.9-2-2-2zM9 17H7v-7h2v7zm4 0h-2V7h2v10zm4 0h-2v-4h2v4z\"/>\n",
              "    </g>\n",
              "</svg>\n",
              "  </button>\n",
              "\n",
              "<style>\n",
              "  .colab-df-quickchart {\n",
              "      --bg-color: #E8F0FE;\n",
              "      --fill-color: #1967D2;\n",
              "      --hover-bg-color: #E2EBFA;\n",
              "      --hover-fill-color: #174EA6;\n",
              "      --disabled-fill-color: #AAA;\n",
              "      --disabled-bg-color: #DDD;\n",
              "  }\n",
              "\n",
              "  [theme=dark] .colab-df-quickchart {\n",
              "      --bg-color: #3B4455;\n",
              "      --fill-color: #D2E3FC;\n",
              "      --hover-bg-color: #434B5C;\n",
              "      --hover-fill-color: #FFFFFF;\n",
              "      --disabled-bg-color: #3B4455;\n",
              "      --disabled-fill-color: #666;\n",
              "  }\n",
              "\n",
              "  .colab-df-quickchart {\n",
              "    background-color: var(--bg-color);\n",
              "    border: none;\n",
              "    border-radius: 50%;\n",
              "    cursor: pointer;\n",
              "    display: none;\n",
              "    fill: var(--fill-color);\n",
              "    height: 32px;\n",
              "    padding: 0;\n",
              "    width: 32px;\n",
              "  }\n",
              "\n",
              "  .colab-df-quickchart:hover {\n",
              "    background-color: var(--hover-bg-color);\n",
              "    box-shadow: 0 1px 2px rgba(60, 64, 67, 0.3), 0 1px 3px 1px rgba(60, 64, 67, 0.15);\n",
              "    fill: var(--button-hover-fill-color);\n",
              "  }\n",
              "\n",
              "  .colab-df-quickchart-complete:disabled,\n",
              "  .colab-df-quickchart-complete:disabled:hover {\n",
              "    background-color: var(--disabled-bg-color);\n",
              "    fill: var(--disabled-fill-color);\n",
              "    box-shadow: none;\n",
              "  }\n",
              "\n",
              "  .colab-df-spinner {\n",
              "    border: 2px solid var(--fill-color);\n",
              "    border-color: transparent;\n",
              "    border-bottom-color: var(--fill-color);\n",
              "    animation:\n",
              "      spin 1s steps(1) infinite;\n",
              "  }\n",
              "\n",
              "  @keyframes spin {\n",
              "    0% {\n",
              "      border-color: transparent;\n",
              "      border-bottom-color: var(--fill-color);\n",
              "      border-left-color: var(--fill-color);\n",
              "    }\n",
              "    20% {\n",
              "      border-color: transparent;\n",
              "      border-left-color: var(--fill-color);\n",
              "      border-top-color: var(--fill-color);\n",
              "    }\n",
              "    30% {\n",
              "      border-color: transparent;\n",
              "      border-left-color: var(--fill-color);\n",
              "      border-top-color: var(--fill-color);\n",
              "      border-right-color: var(--fill-color);\n",
              "    }\n",
              "    40% {\n",
              "      border-color: transparent;\n",
              "      border-right-color: var(--fill-color);\n",
              "      border-top-color: var(--fill-color);\n",
              "    }\n",
              "    60% {\n",
              "      border-color: transparent;\n",
              "      border-right-color: var(--fill-color);\n",
              "    }\n",
              "    80% {\n",
              "      border-color: transparent;\n",
              "      border-right-color: var(--fill-color);\n",
              "      border-bottom-color: var(--fill-color);\n",
              "    }\n",
              "    90% {\n",
              "      border-color: transparent;\n",
              "      border-bottom-color: var(--fill-color);\n",
              "    }\n",
              "  }\n",
              "</style>\n",
              "\n",
              "  <script>\n",
              "    async function quickchart(key) {\n",
              "      const quickchartButtonEl =\n",
              "        document.querySelector('#' + key + ' button');\n",
              "      quickchartButtonEl.disabled = true;  // To prevent multiple clicks.\n",
              "      quickchartButtonEl.classList.add('colab-df-spinner');\n",
              "      try {\n",
              "        const charts = await google.colab.kernel.invokeFunction(\n",
              "            'suggestCharts', [key], {});\n",
              "      } catch (error) {\n",
              "        console.error('Error during call to suggestCharts:', error);\n",
              "      }\n",
              "      quickchartButtonEl.classList.remove('colab-df-spinner');\n",
              "      quickchartButtonEl.classList.add('colab-df-quickchart-complete');\n",
              "    }\n",
              "    (() => {\n",
              "      let quickchartButtonEl =\n",
              "        document.querySelector('#df-b6d5ec6d-36c1-4369-ad85-94391ba27cc5 button');\n",
              "      quickchartButtonEl.style.display =\n",
              "        google.colab.kernel.accessAllowed ? 'block' : 'none';\n",
              "    })();\n",
              "  </script>\n",
              "</div>\n",
              "    </div>\n",
              "  </div>\n"
            ]
          },
          "metadata": {},
          "execution_count": 174
        }
      ]
    },
    {
      "cell_type": "markdown",
      "source": [
        "Подготовка набора данных"
      ],
      "metadata": {
        "id": "tXUV6z-mZBk0"
      }
    },
    {
      "cell_type": "code",
      "source": [
        "dff = np.array(df)\n",
        "X = dff[:,:2]             # Exam_1, Exam_2\n",
        "y = dff[:,2]              # Admited\n",
        "theta = np.zeros((3, 1))\n",
        "ones = np.ones(X.size)\n",
        "\n",
        "m, n = X.shape\n",
        "X_ = np.column_stack((np.ones((m,1)), X))"
      ],
      "metadata": {
        "id": "bq6SKkcSZE5l"
      },
      "execution_count": null,
      "outputs": []
    },
    {
      "cell_type": "markdown",
      "source": [
        "График зависимости поступления студентов\n",
        "Было проведено разделение набора данных на 2 в зависимости от значения целевого признака\n"
      ],
      "metadata": {
        "id": "6iCr615WYlWt"
      }
    },
    {
      "cell_type": "code",
      "source": [
        "Admited = df.loc[df['Admited'] == 1]\n",
        "Not_admited = df.loc[df['Admited'] == 0]\n",
        "\n",
        "A = np.array(Admited)[:,:2]\n",
        "NA = np.array(Not_admited)[:,:2]\n",
        "\n",
        "plt.scatter(A[:,0], A[:,1], color = 'b', label = \"Admited\");\n",
        "plt.scatter(NA[:,0], NA[:,1], color = 'g', label = \"Not Admited\");\n",
        "\n",
        "plt.xlabel('Exam_1')\n",
        "plt.ylabel('Exam_2')\n",
        "plt.legend()\n",
        "plt.show()"
      ],
      "metadata": {
        "colab": {
          "base_uri": "https://localhost:8080/",
          "height": 449
        },
        "id": "JA6wusHgYv_A",
        "outputId": "074137a5-a4de-40dc-a9ca-f0750fc9d6c0"
      },
      "execution_count": null,
      "outputs": [
        {
          "output_type": "display_data",
          "data": {
            "text/plain": [
              "<Figure size 640x480 with 1 Axes>"
            ],
            "image/png": "[encoded data removed]"
          },
          "metadata": {}
        }
      ]
    },
    {
      "cell_type": "markdown",
      "source": [
        "Проверка работы стоимостной функции на данных из набора"
      ],
      "metadata": {
        "id": "NAUebOzFgWXm"
      }
    },
    {
      "cell_type": "code",
      "source": [
        "costFunction(theta, X_, y)"
      ],
      "metadata": {
        "colab": {
          "base_uri": "https://localhost:8080/"
        },
        "id": "zLc77KZagZLt",
        "outputId": "5a6e523c-ae87-4f3b-e725-91a3ec9fb40c"
      },
      "execution_count": null,
      "outputs": [
        {
          "output_type": "execute_result",
          "data": {
            "text/plain": [
              "0.6931471805599453"
            ]
          },
          "metadata": {},
          "execution_count": 177
        }
      ]
    },
    {
      "cell_type": "markdown",
      "source": [
        "Проверка работы функции градиента на данных из набора"
      ],
      "metadata": {
        "id": "aSlnoO4Kkubc"
      }
    },
    {
      "cell_type": "code",
      "source": [
        "gradientFunc(theta, X_, y)"
      ],
      "metadata": {
        "colab": {
          "base_uri": "https://localhost:8080/"
        },
        "id": "6NOwVU-okt4O",
        "outputId": "7962e2bd-b728-49b4-afa4-d80405942de3"
      },
      "execution_count": null,
      "outputs": [
        {
          "output_type": "execute_result",
          "data": {
            "text/plain": [
              "array([[ -0.1       ],\n",
              "       [-12.00921659],\n",
              "       [-11.26284221]])"
            ]
          },
          "metadata": {},
          "execution_count": 178
        }
      ]
    },
    {
      "cell_type": "markdown",
      "source": [
        "Реализация метода Ньютона сопряженных градиентов из пакета Scipy\n",
        "\n",
        "С помощью этого метода были получены оптимальные значения весов после обучения"
      ],
      "metadata": {
        "id": "NET0-Hm4kHkX"
      }
    },
    {
      "cell_type": "code",
      "source": [
        "import scipy.optimize as opt\n",
        "result = opt.fmin_tnc(func = costFunction,\n",
        " x0 = theta, fprime = gradientFunc,\n",
        " args = (X_, y))\n",
        "theta_optimized = result[0]\n",
        "print(theta_optimized)"
      ],
      "metadata": {
        "colab": {
          "base_uri": "https://localhost:8080/"
        },
        "id": "9ma9b_z2kG1z",
        "outputId": "e85a8f21-29e4-4c0e-9bba-413610d51dc7"
      },
      "execution_count": null,
      "outputs": [
        {
          "output_type": "stream",
          "name": "stdout",
          "text": [
            "[-25.16131857   0.20623159   0.20147149]\n"
          ]
        }
      ]
    },
    {
      "cell_type": "markdown",
      "source": [
        "Построение графика полученной функции, а так же добавление на график данных студента Х (45, 85)\n",
        "\n",
        "# Сделать границу кривой"
      ],
      "metadata": {
        "id": "yaxRJ3E-BB_Y"
      }
    },
    {
      "cell_type": "code",
      "source": [
        "Admited = df.loc[df['Admited'] == 1]\n",
        "Not_admited = df.loc[df['Admited'] == 0]\n",
        "Student_XE1 = 45\n",
        "Student_XE2 = 85\n",
        "A = np.array(Admited)[:,:2]\n",
        "NA = np.array(Not_admited)[:,:2]\n",
        "\n",
        "plt.scatter(A[:,0], A[:,1], color = 'b', label = \"Admited\");\n",
        "plt.scatter(NA[:,0], NA[:,1], color = 'g', label = \"Not Admited\");\n",
        "plt.scatter(Student_XE1, Student_XE2, color = 'r', label = \"Student X\");\n",
        "\n",
        "x_values  = np.linspace(min(min(X[:,0]),min(X[:,1])), max(max(X[:,0]),max(X[:,1])), 100)\n",
        "y_values = (-1.0 / theta_optimized[2]) * (theta_optimized[1] * x_values + theta_optimized[0])\n",
        "plt.plot(x_values, y_values, color = 'black')\n",
        "\n",
        "plt.xlabel('Exam_1')\n",
        "plt.ylabel('Exam_2')\n",
        "plt.legend()\n",
        "plt.show()"
      ],
      "metadata": {
        "colab": {
          "base_uri": "https://localhost:8080/",
          "height": 449
        },
        "id": "LfX1DLhEk_13",
        "outputId": "f586b5ca-db3f-4335-a75e-e9558c79fd3c"
      },
      "execution_count": null,
      "outputs": [
        {
          "output_type": "display_data",
          "data": {
            "text/plain": [
              "<Figure size 640x480 with 1 Axes>"
            ],
            "image/png": "[encoded data removed]"
          },
          "metadata": {}
        }
      ]
    },
    {
      "cell_type": "markdown",
      "source": [
        "Предсказание данных студента\n"
      ],
      "metadata": {
        "id": "vlGhHQG6n3i-"
      }
    },
    {
      "cell_type": "code",
      "source": [
        "a = round(sigmoid(np.dot(np.array((1, Student_XE1, Student_XE2)), theta_optimized)), )\n",
        "if a == 1:\n",
        "  print(\"Admited\")\n",
        "else: print(\"Not Admited\")"
      ],
      "metadata": {
        "colab": {
          "base_uri": "https://localhost:8080/"
        },
        "id": "s06o-YVKn25l",
        "outputId": "78730e8b-a739-46db-e2e9-904f1a0d0a9f"
      },
      "execution_count": null,
      "outputs": [
        {
          "output_type": "stream",
          "name": "stdout",
          "text": [
            "Admited\n"
          ]
        }
      ]
    },
    {
      "cell_type": "markdown",
      "source": [
        "Проверка точности модели c помощью метода R^2, который определяет процент дисперсии процент дисперсии в поле назначения, объясняемый одной или несколькими входными переменными."
      ],
      "metadata": {
        "id": "SxzgPkUOrrei"
      }
    },
    {
      "cell_type": "code",
      "source": [
        "predictions = sigmoid(np.dot(np.array((1, X[:,0], X[:,1])), theta_optimized))\n",
        "errors = predictions - y\n",
        "sse = np.sum(errors ** 2)\n",
        "r2 = 1 - sse / (y.size * y.var())\n",
        "print(\"R-squared:\", round(r2, 3))"
      ],
      "metadata": {
        "colab": {
          "base_uri": "https://localhost:8080/"
        },
        "id": "lNOE_2ynrq65",
        "outputId": "c6222041-3488-48cc-b20e-8dbde167b365"
      },
      "execution_count": null,
      "outputs": [
        {
          "output_type": "stream",
          "name": "stdout",
          "text": [
            "R-squared: 0.724\n"
          ]
        },
        {
          "output_type": "stream",
          "name": "stderr",
          "text": [
            "<ipython-input-182-5e72bbc03fc2>:1: VisibleDeprecationWarning: Creating an ndarray from ragged nested sequences (which is a list-or-tuple of lists-or-tuples-or ndarrays with different lengths or shapes) is deprecated. If you meant to do this, you must specify 'dtype=object' when creating the ndarray.\n",
            "  predictions = sigmoid(np.dot(np.array((1, X[:,0], X[:,1])), theta_optimized))\n"
          ]
        }
      ]
    },
    {
      "cell_type": "markdown",
      "source": [
        "## 2. Бинарная классификация. Случай не разделимых линейно классов\n"
      ],
      "metadata": {
        "id": "E8unhT2xossc"
      }
    },
    {
      "cell_type": "markdown",
      "source": [
        "## Загрузка данных"
      ],
      "metadata": {
        "id": "bXa5Po4Jyg7S"
      }
    },
    {
      "cell_type": "code",
      "source": [
        "df = pd.read_table(\"/content/ex2data2.txt\", header = None, delimiter= \",\",names=[\"Test_1\", \"Test_2\",\"Pass\"])\n",
        "df.head()"
      ],
      "metadata": {
        "colab": {
          "base_uri": "https://localhost:8080/",
          "height": 206
        },
        "id": "XWVGGeTevdZq",
        "outputId": "f166e729-08fd-4a24-cf93-bf9310a0b981"
      },
      "execution_count": null,
      "outputs": [
        {
          "output_type": "execute_result",
          "data": {
            "text/plain": [
              "     Test_1   Test_2  Pass\n",
              "0  0.051267  0.69956     1\n",
              "1 -0.092742  0.68494     1\n",
              "2 -0.213710  0.69225     1\n",
              "3 -0.375000  0.50219     1\n",
              "4 -0.513250  0.46564     1"
            ],
            "text/html": [
              "\n",
              "  <div id=\"df-8bc08a20-1a4c-4c81-b2a4-59985366d83d\" class=\"colab-df-container\">\n",
              "    <div>\n",
              "<style scoped>\n",
              "    .dataframe tbody tr th:only-of-type {\n",
              "        vertical-align: middle;\n",
              "    }\n",
              "\n",
              "    .dataframe tbody tr th {\n",
              "        vertical-align: top;\n",
              "    }\n",
              "\n",
              "    .dataframe thead th {\n",
              "        text-align: right;\n",
              "    }\n",
              "</style>\n",
              "<table border=\"1\" class=\"dataframe\">\n",
              "  <thead>\n",
              "    <tr style=\"text-align: right;\">\n",
              "      <th></th>\n",
              "      <th>Test_1</th>\n",
              "      <th>Test_2</th>\n",
              "      <th>Pass</th>\n",
              "    </tr>\n",
              "  </thead>\n",
              "  <tbody>\n",
              "    <tr>\n",
              "      <th>0</th>\n",
              "      <td>0.051267</td>\n",
              "      <td>0.69956</td>\n",
              "      <td>1</td>\n",
              "    </tr>\n",
              "    <tr>\n",
              "      <th>1</th>\n",
              "      <td>-0.092742</td>\n",
              "      <td>0.68494</td>\n",
              "      <td>1</td>\n",
              "    </tr>\n",
              "    <tr>\n",
              "      <th>2</th>\n",
              "      <td>-0.213710</td>\n",
              "      <td>0.69225</td>\n",
              "      <td>1</td>\n",
              "    </tr>\n",
              "    <tr>\n",
              "      <th>3</th>\n",
              "      <td>-0.375000</td>\n",
              "      <td>0.50219</td>\n",
              "      <td>1</td>\n",
              "    </tr>\n",
              "    <tr>\n",
              "      <th>4</th>\n",
              "      <td>-0.513250</td>\n",
              "      <td>0.46564</td>\n",
              "      <td>1</td>\n",
              "    </tr>\n",
              "  </tbody>\n",
              "</table>\n",
              "</div>\n",
              "    <div class=\"colab-df-buttons\">\n",
              "\n",
              "  <div class=\"colab-df-container\">\n",
              "    <button class=\"colab-df-convert\" onclick=\"convertToInteractive('df-8bc08a20-1a4c-4c81-b2a4-59985366d83d')\"\n",
              "            title=\"Convert this dataframe to an interactive table.\"\n",
              "            style=\"display:none;\">\n",
              "\n",
              "  <svg xmlns=\"http://www.w3.org/2000/svg\" height=\"24px\" viewBox=\"0 -960 960 960\">\n",
              "    <path d=\"M120-120v-720h720v720H120Zm60-500h600v-160H180v160Zm220 220h160v-160H400v160Zm0 220h160v-160H400v160ZM180-400h160v-160H180v160Zm440 0h160v-160H620v160ZM180-180h160v-160H180v160Zm440 0h160v-160H620v160Z\"/>\n",
              "  </svg>\n",
              "    </button>\n",
              "\n",
              "  <style>\n",
              "    .colab-df-container {\n",
              "      display:flex;\n",
              "      gap: 12px;\n",
              "    }\n",
              "\n",
              "    .colab-df-convert {\n",
              "      background-color: #E8F0FE;\n",
              "      border: none;\n",
              "      border-radius: 50%;\n",
              "      cursor: pointer;\n",
              "      display: none;\n",
              "      fill: #1967D2;\n",
              "      height: 32px;\n",
              "      padding: 0 0 0 0;\n",
              "      width: 32px;\n",
              "    }\n",
              "\n",
              "    .colab-df-convert:hover {\n",
              "      background-color: #E2EBFA;\n",
              "      box-shadow: 0px 1px 2px rgba(60, 64, 67, 0.3), 0px 1px 3px 1px rgba(60, 64, 67, 0.15);\n",
              "      fill: #174EA6;\n",
              "    }\n",
              "\n",
              "    .colab-df-buttons div {\n",
              "      margin-bottom: 4px;\n",
              "    }\n",
              "\n",
              "    [theme=dark] .colab-df-convert {\n",
              "      background-color: #3B4455;\n",
              "      fill: #D2E3FC;\n",
              "    }\n",
              "\n",
              "    [theme=dark] .colab-df-convert:hover {\n",
              "      background-color: #434B5C;\n",
              "      box-shadow: 0px 1px 3px 1px rgba(0, 0, 0, 0.15);\n",
              "      filter: drop-shadow(0px 1px 2px rgba(0, 0, 0, 0.3));\n",
              "      fill: #FFFFFF;\n",
              "    }\n",
              "  </style>\n",
              "\n",
              "    <script>\n",
              "      const buttonEl =\n",
              "        document.querySelector('#df-8bc08a20-1a4c-4c81-b2a4-59985366d83d button.colab-df-convert');\n",
              "      buttonEl.style.display =\n",
              "        google.colab.kernel.accessAllowed ? 'block' : 'none';\n",
              "\n",
              "      async function convertToInteractive(key) {\n",
              "        const element = document.querySelector('#df-8bc08a20-1a4c-4c81-b2a4-59985366d83d');\n",
              "        const dataTable =\n",
              "          await google.colab.kernel.invokeFunction('convertToInteractive',\n",
              "                                                    [key], {});\n",
              "        if (!dataTable) return;\n",
              "\n",
              "        const docLinkHtml = 'Like what you see? Visit the ' +\n",
              "          '<a target=\"_blank\" href=https://colab.research.google.com/notebooks/data_table.ipynb>data table notebook</a>'\n",
              "          + ' to learn more about interactive tables.';\n",
              "        element.innerHTML = '';\n",
              "        dataTable['output_type'] = 'display_data';\n",
              "        await google.colab.output.renderOutput(dataTable, element);\n",
              "        const docLink = document.createElement('div');\n",
              "        docLink.innerHTML = docLinkHtml;\n",
              "        element.appendChild(docLink);\n",
              "      }\n",
              "    </script>\n",
              "  </div>\n",
              "\n",
              "\n",
              "<div id=\"df-213694b8-c36e-4d16-8b79-e4c044ebdf30\">\n",
              "  <button class=\"colab-df-quickchart\" onclick=\"quickchart('df-213694b8-c36e-4d16-8b79-e4c044ebdf30')\"\n",
              "            title=\"Suggest charts\"\n",
              "            style=\"display:none;\">\n",
              "\n",
              "<svg xmlns=\"http://www.w3.org/2000/svg\" height=\"24px\"viewBox=\"0 0 24 24\"\n",
              "     width=\"24px\">\n",
              "    <g>\n",
              "        <path d=\"M19 3H5c-1.1 0-2 .9-2 2v14c0 1.1.9 2 2 2h14c1.1 0 2-.9 2-2V5c0-1.1-.9-2-2-2zM9 17H7v-7h2v7zm4 0h-2V7h2v10zm4 0h-2v-4h2v4z\"/>\n",
              "    </g>\n",
              "</svg>\n",
              "  </button>\n",
              "\n",
              "<style>\n",
              "  .colab-df-quickchart {\n",
              "      --bg-color: #E8F0FE;\n",
              "      --fill-color: #1967D2;\n",
              "      --hover-bg-color: #E2EBFA;\n",
              "      --hover-fill-color: #174EA6;\n",
              "      --disabled-fill-color: #AAA;\n",
              "      --disabled-bg-color: #DDD;\n",
              "  }\n",
              "\n",
              "  [theme=dark] .colab-df-quickchart {\n",
              "      --bg-color: #3B4455;\n",
              "      --fill-color: #D2E3FC;\n",
              "      --hover-bg-color: #434B5C;\n",
              "      --hover-fill-color: #FFFFFF;\n",
              "      --disabled-bg-color: #3B4455;\n",
              "      --disabled-fill-color: #666;\n",
              "  }\n",
              "\n",
              "  .colab-df-quickchart {\n",
              "    background-color: var(--bg-color);\n",
              "    border: none;\n",
              "    border-radius: 50%;\n",
              "    cursor: pointer;\n",
              "    display: none;\n",
              "    fill: var(--fill-color);\n",
              "    height: 32px;\n",
              "    padding: 0;\n",
              "    width: 32px;\n",
              "  }\n",
              "\n",
              "  .colab-df-quickchart:hover {\n",
              "    background-color: var(--hover-bg-color);\n",
              "    box-shadow: 0 1px 2px rgba(60, 64, 67, 0.3), 0 1px 3px 1px rgba(60, 64, 67, 0.15);\n",
              "    fill: var(--button-hover-fill-color);\n",
              "  }\n",
              "\n",
              "  .colab-df-quickchart-complete:disabled,\n",
              "  .colab-df-quickchart-complete:disabled:hover {\n",
              "    background-color: var(--disabled-bg-color);\n",
              "    fill: var(--disabled-fill-color);\n",
              "    box-shadow: none;\n",
              "  }\n",
              "\n",
              "  .colab-df-spinner {\n",
              "    border: 2px solid var(--fill-color);\n",
              "    border-color: transparent;\n",
              "    border-bottom-color: var(--fill-color);\n",
              "    animation:\n",
              "      spin 1s steps(1) infinite;\n",
              "  }\n",
              "\n",
              "  @keyframes spin {\n",
              "    0% {\n",
              "      border-color: transparent;\n",
              "      border-bottom-color: var(--fill-color);\n",
              "      border-left-color: var(--fill-color);\n",
              "    }\n",
              "    20% {\n",
              "      border-color: transparent;\n",
              "      border-left-color: var(--fill-color);\n",
              "      border-top-color: var(--fill-color);\n",
              "    }\n",
              "    30% {\n",
              "      border-color: transparent;\n",
              "      border-left-color: var(--fill-color);\n",
              "      border-top-color: var(--fill-color);\n",
              "      border-right-color: var(--fill-color);\n",
              "    }\n",
              "    40% {\n",
              "      border-color: transparent;\n",
              "      border-right-color: var(--fill-color);\n",
              "      border-top-color: var(--fill-color);\n",
              "    }\n",
              "    60% {\n",
              "      border-color: transparent;\n",
              "      border-right-color: var(--fill-color);\n",
              "    }\n",
              "    80% {\n",
              "      border-color: transparent;\n",
              "      border-right-color: var(--fill-color);\n",
              "      border-bottom-color: var(--fill-color);\n",
              "    }\n",
              "    90% {\n",
              "      border-color: transparent;\n",
              "      border-bottom-color: var(--fill-color);\n",
              "    }\n",
              "  }\n",
              "</style>\n",
              "\n",
              "  <script>\n",
              "    async function quickchart(key) {\n",
              "      const quickchartButtonEl =\n",
              "        document.querySelector('#' + key + ' button');\n",
              "      quickchartButtonEl.disabled = true;  // To prevent multiple clicks.\n",
              "      quickchartButtonEl.classList.add('colab-df-spinner');\n",
              "      try {\n",
              "        const charts = await google.colab.kernel.invokeFunction(\n",
              "            'suggestCharts', [key], {});\n",
              "      } catch (error) {\n",
              "        console.error('Error during call to suggestCharts:', error);\n",
              "      }\n",
              "      quickchartButtonEl.classList.remove('colab-df-spinner');\n",
              "      quickchartButtonEl.classList.add('colab-df-quickchart-complete');\n",
              "    }\n",
              "    (() => {\n",
              "      let quickchartButtonEl =\n",
              "        document.querySelector('#df-213694b8-c36e-4d16-8b79-e4c044ebdf30 button');\n",
              "      quickchartButtonEl.style.display =\n",
              "        google.colab.kernel.accessAllowed ? 'block' : 'none';\n",
              "    })();\n",
              "  </script>\n",
              "</div>\n",
              "    </div>\n",
              "  </div>\n"
            ]
          },
          "metadata": {},
          "execution_count": 183
        }
      ]
    },
    {
      "cell_type": "markdown",
      "source": [
        "Основные функции, с добавлениеем регуляризации\n",
        "\n",
        "*   Сигмоида - sigmoid\n",
        "*   costFunction\n",
        "*   gradientFunc\n",
        "\n"
      ],
      "metadata": {
        "id": "XjJn0r8Zynqa"
      }
    },
    {
      "cell_type": "code",
      "source": [
        "def costFunctionR(theta, X, y, lam):\n",
        "    alpha = sigmoid(np.dot(X, theta))\n",
        "    return costFunction(theta, X, y) + (float(lam) / (2 * len(y))) * np.power(theta, 2).sum()\n",
        "\n",
        "def gradientFuncR(theta, X, y, lam):\n",
        "    alpha = sigmoid(np.dot(X, theta))\n",
        "    return (1.0 / len(y)) * np.dot(alpha.T - y, X).T + (float(lam) / len(y)) * theta\n",
        "\n",
        "def polinomy(x1, x2, level):\n",
        "  out = np.ones(x1.shape[0])\n",
        "  for i in range(1,level+1):\n",
        "    for j in range(0,i+1):\n",
        "      out = np.c_[out, np.power(x1, i-j)*np.power(x2, j)]\n",
        "  return out"
      ],
      "metadata": {
        "id": "-28a_KL1y8HM"
      },
      "execution_count": null,
      "outputs": []
    },
    {
      "cell_type": "markdown",
      "source": [
        "Подготовка набора данных"
      ],
      "metadata": {
        "id": "-KaiQd5dv0kJ"
      }
    },
    {
      "cell_type": "code",
      "source": [
        "dff = np.array(df)\n",
        "X = dff[:,:2]             # Test_1, Test_2\n",
        "y = dff[:,2]              # Pass\n",
        "theta = np.zeros((28, 1))\n",
        "ones = np.ones(X.size)\n",
        "\n",
        "m, n = X.shape\n",
        "X_ = np.column_stack((np.ones((m,1)), X))"
      ],
      "metadata": {
        "id": "h31Ur07Zv3Xf"
      },
      "execution_count": null,
      "outputs": []
    },
    {
      "cell_type": "markdown",
      "source": [
        "График зависимости качества чипов\n"
      ],
      "metadata": {
        "id": "moVsE_eqv7r0"
      }
    },
    {
      "cell_type": "code",
      "source": [
        "Accepted = df.loc[df['Pass'] == 1]\n",
        "Rejected = df.loc[df['Pass'] == 0]\n",
        "\n",
        "A = np.array(Accepted)[:,:2]\n",
        "R = np.array(Rejected)[:,:2]\n",
        "\n",
        "plt.scatter(A[:,0], A[:,1], color = 'b', label = \"Accepted\", marker='+');\n",
        "plt.scatter(R[:,0], R[:,1], color = 'g', label = \"Rejected\", marker='x');\n",
        "\n",
        "plt.xlabel('Test_1')\n",
        "plt.ylabel('Test_2')\n",
        "plt.legend()\n",
        "plt.show()"
      ],
      "metadata": {
        "colab": {
          "base_uri": "https://localhost:8080/",
          "height": 449
        },
        "id": "fOusOosawHQ8",
        "outputId": "4e4f8b3f-a984-458b-a888-ccb386237d39"
      },
      "execution_count": null,
      "outputs": [
        {
          "output_type": "display_data",
          "data": {
            "text/plain": [
              "<Figure size 640x480 with 1 Axes>"
            ],
            "image/png": "[encoded data removed]"
          },
          "metadata": {}
        }
      ]
    },
    {
      "cell_type": "markdown",
      "source": [
        "Добавление полиномиальных признаков"
      ],
      "metadata": {
        "id": "EQAX53tlxn38"
      }
    },
    {
      "cell_type": "code",
      "source": [
        "from sklearn.preprocessing import PolynomialFeatures\n",
        "\n",
        "poly = PolynomialFeatures(degree = 6)\n",
        "X_poly = poly.fit_transform(X)"
      ],
      "metadata": {
        "id": "x78LZg3OxnUJ"
      },
      "execution_count": null,
      "outputs": []
    },
    {
      "cell_type": "markdown",
      "source": [
        "Стоимостная функция"
      ],
      "metadata": {
        "id": "35kzS_9_1VL-"
      }
    },
    {
      "cell_type": "code",
      "source": [
        "costFunctionR(theta, X_poly, y, 1)"
      ],
      "metadata": {
        "colab": {
          "base_uri": "https://localhost:8080/"
        },
        "id": "rAmlvYUkz8XH",
        "outputId": "a5fdbb86-e694-4965-ae6e-83fa05939566"
      },
      "execution_count": null,
      "outputs": [
        {
          "output_type": "execute_result",
          "data": {
            "text/plain": [
              "0.6931471805599454"
            ]
          },
          "metadata": {},
          "execution_count": 188
        }
      ]
    },
    {
      "cell_type": "markdown",
      "source": [
        "Фунцкия градиента"
      ],
      "metadata": {
        "id": "Uc3EFOGv1Yer"
      }
    },
    {
      "cell_type": "code",
      "source": [
        "gradientFuncR(theta, X_poly, y, 1)"
      ],
      "metadata": {
        "colab": {
          "base_uri": "https://localhost:8080/"
        },
        "id": "mCu9YonW1TeE",
        "outputId": "464167ad-cb5b-4778-bd1e-0e7b53befd95"
      },
      "execution_count": null,
      "outputs": [
        {
          "output_type": "execute_result",
          "data": {
            "text/plain": [
              "array([[8.47457627e-03],\n",
              "       [1.87880932e-02],\n",
              "       [7.77711864e-05],\n",
              "       [5.03446395e-02],\n",
              "       [1.15013308e-02],\n",
              "       [3.76648474e-02],\n",
              "       [1.83559872e-02],\n",
              "       [7.32393391e-03],\n",
              "       [8.19244468e-03],\n",
              "       [2.34764889e-02],\n",
              "       [3.93486234e-02],\n",
              "       [2.23923907e-03],\n",
              "       [1.28600503e-02],\n",
              "       [3.09593720e-03],\n",
              "       [3.93028171e-02],\n",
              "       [1.99707467e-02],\n",
              "       [4.32983232e-03],\n",
              "       [3.38643902e-03],\n",
              "       [5.83822078e-03],\n",
              "       [4.47629067e-03],\n",
              "       [3.10079849e-02],\n",
              "       [3.10312442e-02],\n",
              "       [1.09740238e-03],\n",
              "       [6.31570797e-03],\n",
              "       [4.08503006e-04],\n",
              "       [7.26504316e-03],\n",
              "       [1.37646175e-03],\n",
              "       [3.87936363e-02]])"
            ]
          },
          "metadata": {},
          "execution_count": 189
        }
      ]
    },
    {
      "cell_type": "markdown",
      "source": [
        "Минимизация функции"
      ],
      "metadata": {
        "id": "p8wL7nAm1s5Z"
      }
    },
    {
      "cell_type": "code",
      "source": [
        "import scipy.optimize as opt\n",
        "result = opt.fmin_tnc(func = costFunctionR,\n",
        " x0 = theta, fprime = gradientFuncR,\n",
        " args = (X_poly, y, 1))\n",
        "theta_optimized = result[0]\n",
        "print(theta_optimized)"
      ],
      "metadata": {
        "colab": {
          "base_uri": "https://localhost:8080/"
        },
        "id": "dn5tPFFK1sco",
        "outputId": "666c01a2-4f30-4537-e905-17ed77022541"
      },
      "execution_count": null,
      "outputs": [
        {
          "output_type": "stream",
          "name": "stdout",
          "text": [
            "[ 1.1420156   0.6012371   1.16715835 -1.87180893 -0.91567143 -1.26944037\n",
            "  0.1267866  -0.36850119 -0.34494267 -0.17391062 -1.42370675 -0.0483859\n",
            " -0.60631735 -0.26916592 -1.16320198 -0.24269729 -0.2069749  -0.04305271\n",
            " -0.28008554 -0.28708923 -0.4691246  -1.03629758  0.02904389 -0.29250733\n",
            "  0.01716387 -0.32880523 -0.13795621 -0.93187584]\n"
          ]
        }
      ]
    },
    {
      "cell_type": "markdown",
      "source": [
        "График полиномиальной регрессии на двух переменных.\n",
        "\n",
        "Сначала создается массив u, который содержит значения первой переменной из отрезка [-1, 1.5] с шагом 0.5. Затем создается массив v, который содержит значения второй переменной из того же отрезка с шагом 0.5.\n",
        "\n",
        "Далее создается массив z, который будет содержать значения полиномиальной регрессии для всех пар значений u и v. Затем происходит перебор всех значений u и v, и для каждой пары вычисляется значение полиномиальной регрессии, используя функцию polinomy и массив theta_optimized, который содержит оптимизированные коэффициенты полиномиальной регрессии.\n",
        "\n",
        "Затем значения полиномиальной регрессии для всех пар значений u и v записываются в массив z.\n",
        "\n",
        "Наконец, массив z транспонируется, чтобы получить двумерный массив, содержащий значения полиномиальной регрессии для всех пар значений u и v. Затем этот массив используется для построения контура графика с помощью функции plt.contour.\n",
        "\n",
        "В данном случае контур графика содержит только ось y=0, так как мы передаем в функцию plt.contour только один уровень (0), на котором нужно построить контур."
      ],
      "metadata": {
        "id": "1t4nkgFm2QDU"
      }
    },
    {
      "cell_type": "code",
      "source": [
        "Accepted = df.loc[df['Pass'] == 1]\n",
        "Rejected = df.loc[df['Pass'] == 0]\n",
        "\n",
        "A = np.array(Accepted)[:,:2]\n",
        "R = np.array(Rejected)[:,:2]\n",
        "\n",
        "plt.scatter(A[:,0], A[:,1], color = 'b', label = \"Accepted\", marker='+');\n",
        "plt.scatter(R[:,0], R[:,1], color = 'g', label = \"Rejected\", marker='x');\n",
        "\n",
        "\n",
        "u = np.linspace(-1.0, 1.5, num=50)\n",
        "v = np.linspace(-1.0, 1.5, num=50)\n",
        "z = np.zeros((u.size, v.size))\n",
        "\n",
        "for i in range(len(u)):\n",
        "    for j in range(len(v)):\n",
        "            z[i,j] = np.dot(polinomy(np.array([u[i]]), np.array([v[j]]), 6), theta_optimized)\n",
        "\n",
        "z = np.transpose(z)\n",
        "\n",
        "plt.contour(u, v, z, levels=[0]).collections[0]\n",
        "\n",
        "\n",
        "plt.xlabel('Test_1')\n",
        "plt.ylabel('Test_2')\n",
        "plt.legend()\n",
        "plt.show(block=False)\n",
        "\n",
        "\n"
      ],
      "metadata": {
        "colab": {
          "base_uri": "https://localhost:8080/",
          "height": 455
        },
        "id": "o87AhLgs2UAX",
        "outputId": "6dcae83b-b66e-45cc-a092-7c4ece4ba756"
      },
      "execution_count": null,
      "outputs": [
        {
          "output_type": "display_data",
          "data": {
            "text/plain": [
              "<Figure size 640x480 with 1 Axes>"
            ],
            "image/png": "[encoded data removed]"
          },
          "metadata": {}
        }
      ]
    },
    {
      "cell_type": "markdown",
      "source": [
        "Недообученная сеть\n",
        "\n",
        "Если параметр регуляризации слишком маленький, то модель может не учитывать важные признаки и не дать достаточно точного предсказания. Поэтому выбор параметра регуляризации является важной задачей, и его значение должно быть оптимизировано на обучающей выборке."
      ],
      "metadata": {
        "id": "9G3SpUk86Ma6"
      }
    },
    {
      "cell_type": "code",
      "source": [
        "import scipy.optimize as opt\n",
        "result = opt.fmin_tnc(func = costFunctionR,\n",
        " x0 = theta, fprime = gradientFuncR,\n",
        " args = (X_poly, y, 0))\n",
        "theta_optimized = result[0]\n",
        "\n",
        "Accepted = df.loc[df['Pass'] == 1]\n",
        "Rejected = df.loc[df['Pass'] == 0]\n",
        "\n",
        "A = np.array(Accepted)[:,:2]\n",
        "R = np.array(Rejected)[:,:2]\n",
        "\n",
        "plt.scatter(A[:,0], A[:,1], color = 'b', label = \"Accepted\", marker='+');\n",
        "plt.scatter(R[:,0], R[:,1], color = 'g', label = \"Rejected\", marker='x');\n",
        "\n",
        "\n",
        "u = np.linspace(-1.0, 1.5, num=50)\n",
        "v = np.linspace(-1.0, 1.5, num=50)\n",
        "z = np.zeros((u.size, v.size))\n",
        "\n",
        "for i in range(len(u)):\n",
        "    for j in range(len(v)):\n",
        "            z[i,j] = np.dot(polinomy(np.array([u[i]]), np.array([v[j]]), 6), theta_optimized)\n",
        "\n",
        "z = np.transpose(z)\n",
        "\n",
        "plt.contour(u, v, z, levels=[0]).collections[0]\n",
        "\n",
        "\n",
        "plt.xlabel('Test_1')\n",
        "plt.ylabel('Test_2')\n",
        "plt.legend()\n",
        "plt.show(block=False)"
      ],
      "metadata": {
        "colab": {
          "base_uri": "https://localhost:8080/",
          "height": 455
        },
        "id": "4nA84oAK6OuK",
        "outputId": "82261df2-cc46-4afe-9fb2-4240a9c537c4"
      },
      "execution_count": null,
      "outputs": [
        {
          "output_type": "display_data",
          "data": {
            "text/plain": [
              "<Figure size 640x480 with 1 Axes>"
            ],
            "image/png": "[encoded data removed]"
          },
          "metadata": {}
        }
      ]
    },
    {
      "cell_type": "markdown",
      "source": [
        "Переобученная сеть\n",
        "\n",
        "Переобучение произошло из-за увеличения параметра регуляризации до 100\n",
        "\n",
        "Переобучение может зависеть от параметра регуляризации, так как регуляризация добавляет штраф к коэффициентам модели, чтобы уменьшить переобучение.\n",
        "\n",
        "Если параметр регуляризации слишком большой, то модель может стать слишком упругой и переобучить данные. Если параметр регуляризации слишком маленький, то модель может не учитывать важные признаки и не дать достаточно точного предсказания.\n",
        "\n",
        "Поэтому выбор параметра регуляризации является важной задачей, и его значение должно быть оптимизировано на обучающей выборке. В данном случае значение оптимизировано на opt.fmin_tnc().\n",
        "\n",
        "Например, можно использовать кросс-валидацию для выбора значения параметра регуляризации, которое дает наилучшее качество модели на обучающей выборке. Затем можно использовать этот оптимальный параметр регуляризации для обучения модели на полном наборе данных.\n",
        "\n",
        "**Еще один способ устранения переобучения** - использование случайных полиномиальных преобразований.\n",
        "\n",
        "Случайные полиномиальные преобразования могут использоваться для уменьшения размерности данных и уменьшения влияния шума и других шумов на модель.\n",
        "\n",
        "Реализация полиномиальных преобразований представлена в блоке с основными функциями def polinomy(x1, x2, level):\n",
        "\n",
        "* x1: массив значений первой переменной\n",
        "* x2: массив значений второй переменной\n",
        "* level: уровень полинома, который нужно создать\n",
        "\n",
        "Функция начинает с создания массива out, который будет содержать все коэффициенты полинома. Затем она проходит по всем уровням полинома от 1 до level и для каждого уровня создает новый столбец в матрице, содержащий коэффициенты для этого уровня.\n",
        "\n",
        "Для каждого уровня полинома функция проходит по всем степеням первой переменной от 0 до i и для каждой степени создает новый столбец в матрице, содержащий коэффициенты для этой степени."
      ],
      "metadata": {
        "id": "x2uPGSj-6WBw"
      }
    },
    {
      "cell_type": "code",
      "source": [
        "import scipy.optimize as opt\n",
        "result = opt.fmin_tnc(func = costFunctionR,\n",
        " x0 = theta, fprime = gradientFuncR,\n",
        " args = (X_poly, y, 100))\n",
        "theta_optimized = result[0]\n",
        "\n",
        "Accepted = df.loc[df['Pass'] == 1]\n",
        "Rejected = df.loc[df['Pass'] == 0]\n",
        "\n",
        "A = np.array(Accepted)[:,:2]\n",
        "R = np.array(Rejected)[:,:2]\n",
        "\n",
        "plt.scatter(A[:,0], A[:,1], color = 'b', label = \"Accepted\", marker='+');\n",
        "plt.scatter(R[:,0], R[:,1], color = 'g', label = \"Rejected\", marker='x');\n",
        "\n",
        "\n",
        "u = np.linspace(-1.0, 1.5, num=50)\n",
        "v = np.linspace(-1.0, 1.5, num=50)\n",
        "z = np.zeros((u.size, v.size))\n",
        "\n",
        "for i in range(len(u)):\n",
        "    for j in range(len(v)):\n",
        "            z[i,j] = np.dot(polinomy(np.array([u[i]]), np.array([v[j]]), 6), theta_optimized)\n",
        "\n",
        "z = np.transpose(z)\n",
        "\n",
        "plt.contour(u, v, z, levels=[0]).collections[0]\n",
        "\n",
        "\n",
        "plt.xlabel('Test_1')\n",
        "plt.ylabel('Test_2')\n",
        "plt.legend()\n",
        "plt.show(block=False)"
      ],
      "metadata": {
        "colab": {
          "base_uri": "https://localhost:8080/",
          "height": 455
        },
        "id": "zyW8TiH26XrQ",
        "outputId": "2ba2255e-8872-418d-e99e-126e6ca64fa7"
      },
      "execution_count": null,
      "outputs": [
        {
          "output_type": "display_data",
          "data": {
            "text/plain": [
              "<Figure size 640x480 with 1 Axes>"
            ],
            "image/png": "[encoded data removed]"
          },
          "metadata": {}
        }
      ]
    },
    {
      "cell_type": "markdown",
      "source": [
        "## 3. Использование логистической регрессии для решения задачи множественной классификации – распознавания рукописных цифр от 0 до 9\n"
      ],
      "metadata": {
        "id": "n_c2O8oL6oe-"
      }
    },
    {
      "cell_type": "markdown",
      "source": [
        "Загрузка данных"
      ],
      "metadata": {
        "id": "wXoO89q57A3l"
      }
    },
    {
      "cell_type": "code",
      "source": [
        "df = pd.read_table(\"/content/ex2data3.txt\", header = None, delimiter= \",\")\n",
        "df.head()"
      ],
      "metadata": {
        "colab": {
          "base_uri": "https://localhost:8080/",
          "height": 236
        },
        "id": "KpJiFigR6wnd",
        "outputId": "65f7bff6-9349-44f6-b18a-12e003997174"
      },
      "execution_count": null,
      "outputs": [
        {
          "output_type": "execute_result",
          "data": {
            "text/plain": [
              "   0    1    2    3    4    5    6    7    8    9    ...  391  392  393  394  \\\n",
              "0  0.0  0.0  0.0  0.0  0.0  0.0  0.0  0.0  0.0  0.0  ...  0.0  0.0  0.0  0.0   \n",
              "1  0.0  0.0  0.0  0.0  0.0  0.0  0.0  0.0  0.0  0.0  ...  0.0  0.0  0.0  0.0   \n",
              "2  0.0  0.0  0.0  0.0  0.0  0.0  0.0  0.0  0.0  0.0  ...  0.0  0.0  0.0  0.0   \n",
              "3  0.0  0.0  0.0  0.0  0.0  0.0  0.0  0.0  0.0  0.0  ...  0.0  0.0  0.0  0.0   \n",
              "4  0.0  0.0  0.0  0.0  0.0  0.0  0.0  0.0  0.0  0.0  ...  0.0  0.0  0.0  0.0   \n",
              "\n",
              "   395  396  397  398  399  400  \n",
              "0  0.0  0.0  0.0  0.0  0.0  0.0  \n",
              "1  0.0  0.0  0.0  0.0  0.0  0.0  \n",
              "2  0.0  0.0  0.0  0.0  0.0  0.0  \n",
              "3  0.0  0.0  0.0  0.0  0.0  0.0  \n",
              "4  0.0  0.0  0.0  0.0  0.0  0.0  \n",
              "\n",
              "[5 rows x 401 columns]"
            ],
            "text/html": [
              "\n",
              "  <div id=\"df-9f207273-6ed5-468d-a6fb-de5e70b21fe5\" class=\"colab-df-container\">\n",
              "    <div>\n",
              "<style scoped>\n",
              "    .dataframe tbody tr th:only-of-type {\n",
              "        vertical-align: middle;\n",
              "    }\n",
              "\n",
              "    .dataframe tbody tr th {\n",
              "        vertical-align: top;\n",
              "    }\n",
              "\n",
              "    .dataframe thead th {\n",
              "        text-align: right;\n",
              "    }\n",
              "</style>\n",
              "<table border=\"1\" class=\"dataframe\">\n",
              "  <thead>\n",
              "    <tr style=\"text-align: right;\">\n",
              "      <th></th>\n",
              "      <th>0</th>\n",
              "      <th>1</th>\n",
              "      <th>2</th>\n",
              "      <th>3</th>\n",
              "      <th>4</th>\n",
              "      <th>5</th>\n",
              "      <th>6</th>\n",
              "      <th>7</th>\n",
              "      <th>8</th>\n",
              "      <th>9</th>\n",
              "      <th>...</th>\n",
              "      <th>391</th>\n",
              "      <th>392</th>\n",
              "      <th>393</th>\n",
              "      <th>394</th>\n",
              "      <th>395</th>\n",
              "      <th>396</th>\n",
              "      <th>397</th>\n",
              "      <th>398</th>\n",
              "      <th>399</th>\n",
              "      <th>400</th>\n",
              "    </tr>\n",
              "  </thead>\n",
              "  <tbody>\n",
              "    <tr>\n",
              "      <th>0</th>\n",
              "      <td>0.0</td>\n",
              "      <td>0.0</td>\n",
              "      <td>0.0</td>\n",
              "      <td>0.0</td>\n",
              "      <td>0.0</td>\n",
              "      <td>0.0</td>\n",
              "      <td>0.0</td>\n",
              "      <td>0.0</td>\n",
              "      <td>0.0</td>\n",
              "      <td>0.0</td>\n",
              "      <td>...</td>\n",
              "      <td>0.0</td>\n",
              "      <td>0.0</td>\n",
              "      <td>0.0</td>\n",
              "      <td>0.0</td>\n",
              "      <td>0.0</td>\n",
              "      <td>0.0</td>\n",
              "      <td>0.0</td>\n",
              "      <td>0.0</td>\n",
              "      <td>0.0</td>\n",
              "      <td>0.0</td>\n",
              "    </tr>\n",
              "    <tr>\n",
              "      <th>1</th>\n",
              "      <td>0.0</td>\n",
              "      <td>0.0</td>\n",
              "      <td>0.0</td>\n",
              "      <td>0.0</td>\n",
              "      <td>0.0</td>\n",
              "      <td>0.0</td>\n",
              "      <td>0.0</td>\n",
              "      <td>0.0</td>\n",
              "      <td>0.0</td>\n",
              "      <td>0.0</td>\n",
              "      <td>...</td>\n",
              "      <td>0.0</td>\n",
              "      <td>0.0</td>\n",
              "      <td>0.0</td>\n",
              "      <td>0.0</td>\n",
              "      <td>0.0</td>\n",
              "      <td>0.0</td>\n",
              "      <td>0.0</td>\n",
              "      <td>0.0</td>\n",
              "      <td>0.0</td>\n",
              "      <td>0.0</td>\n",
              "    </tr>\n",
              "    <tr>\n",
              "      <th>2</th>\n",
              "      <td>0.0</td>\n",
              "      <td>0.0</td>\n",
              "      <td>0.0</td>\n",
              "      <td>0.0</td>\n",
              "      <td>0.0</td>\n",
              "      <td>0.0</td>\n",
              "      <td>0.0</td>\n",
              "      <td>0.0</td>\n",
              "      <td>0.0</td>\n",
              "      <td>0.0</td>\n",
              "      <td>...</td>\n",
              "      <td>0.0</td>\n",
              "      <td>0.0</td>\n",
              "      <td>0.0</td>\n",
              "      <td>0.0</td>\n",
              "      <td>0.0</td>\n",
              "      <td>0.0</td>\n",
              "      <td>0.0</td>\n",
              "      <td>0.0</td>\n",
              "      <td>0.0</td>\n",
              "      <td>0.0</td>\n",
              "    </tr>\n",
              "    <tr>\n",
              "      <th>3</th>\n",
              "      <td>0.0</td>\n",
              "      <td>0.0</td>\n",
              "      <td>0.0</td>\n",
              "      <td>0.0</td>\n",
              "      <td>0.0</td>\n",
              "      <td>0.0</td>\n",
              "      <td>0.0</td>\n",
              "      <td>0.0</td>\n",
              "      <td>0.0</td>\n",
              "      <td>0.0</td>\n",
              "      <td>...</td>\n",
              "      <td>0.0</td>\n",
              "      <td>0.0</td>\n",
              "      <td>0.0</td>\n",
              "      <td>0.0</td>\n",
              "      <td>0.0</td>\n",
              "      <td>0.0</td>\n",
              "      <td>0.0</td>\n",
              "      <td>0.0</td>\n",
              "      <td>0.0</td>\n",
              "      <td>0.0</td>\n",
              "    </tr>\n",
              "    <tr>\n",
              "      <th>4</th>\n",
              "      <td>0.0</td>\n",
              "      <td>0.0</td>\n",
              "      <td>0.0</td>\n",
              "      <td>0.0</td>\n",
              "      <td>0.0</td>\n",
              "      <td>0.0</td>\n",
              "      <td>0.0</td>\n",
              "      <td>0.0</td>\n",
              "      <td>0.0</td>\n",
              "      <td>0.0</td>\n",
              "      <td>...</td>\n",
              "      <td>0.0</td>\n",
              "      <td>0.0</td>\n",
              "      <td>0.0</td>\n",
              "      <td>0.0</td>\n",
              "      <td>0.0</td>\n",
              "      <td>0.0</td>\n",
              "      <td>0.0</td>\n",
              "      <td>0.0</td>\n",
              "      <td>0.0</td>\n",
              "      <td>0.0</td>\n",
              "    </tr>\n",
              "  </tbody>\n",
              "</table>\n",
              "<p>5 rows × 401 columns</p>\n",
              "</div>\n",
              "    <div class=\"colab-df-buttons\">\n",
              "\n",
              "  <div class=\"colab-df-container\">\n",
              "    <button class=\"colab-df-convert\" onclick=\"convertToInteractive('df-9f207273-6ed5-468d-a6fb-de5e70b21fe5')\"\n",
              "            title=\"Convert this dataframe to an interactive table.\"\n",
              "            style=\"display:none;\">\n",
              "\n",
              "  <svg xmlns=\"http://www.w3.org/2000/svg\" height=\"24px\" viewBox=\"0 -960 960 960\">\n",
              "    <path d=\"M120-120v-720h720v720H120Zm60-500h600v-160H180v160Zm220 220h160v-160H400v160Zm0 220h160v-160H400v160ZM180-400h160v-160H180v160Zm440 0h160v-160H620v160ZM180-180h160v-160H180v160Zm440 0h160v-160H620v160Z\"/>\n",
              "  </svg>\n",
              "    </button>\n",
              "\n",
              "  <style>\n",
              "    .colab-df-container {\n",
              "      display:flex;\n",
              "      gap: 12px;\n",
              "    }\n",
              "\n",
              "    .colab-df-convert {\n",
              "      background-color: #E8F0FE;\n",
              "      border: none;\n",
              "      border-radius: 50%;\n",
              "      cursor: pointer;\n",
              "      display: none;\n",
              "      fill: #1967D2;\n",
              "      height: 32px;\n",
              "      padding: 0 0 0 0;\n",
              "      width: 32px;\n",
              "    }\n",
              "\n",
              "    .colab-df-convert:hover {\n",
              "      background-color: #E2EBFA;\n",
              "      box-shadow: 0px 1px 2px rgba(60, 64, 67, 0.3), 0px 1px 3px 1px rgba(60, 64, 67, 0.15);\n",
              "      fill: #174EA6;\n",
              "    }\n",
              "\n",
              "    .colab-df-buttons div {\n",
              "      margin-bottom: 4px;\n",
              "    }\n",
              "\n",
              "    [theme=dark] .colab-df-convert {\n",
              "      background-color: #3B4455;\n",
              "      fill: #D2E3FC;\n",
              "    }\n",
              "\n",
              "    [theme=dark] .colab-df-convert:hover {\n",
              "      background-color: #434B5C;\n",
              "      box-shadow: 0px 1px 3px 1px rgba(0, 0, 0, 0.15);\n",
              "      filter: drop-shadow(0px 1px 2px rgba(0, 0, 0, 0.3));\n",
              "      fill: #FFFFFF;\n",
              "    }\n",
              "  </style>\n",
              "\n",
              "    <script>\n",
              "      const buttonEl =\n",
              "        document.querySelector('#df-9f207273-6ed5-468d-a6fb-de5e70b21fe5 button.colab-df-convert');\n",
              "      buttonEl.style.display =\n",
              "        google.colab.kernel.accessAllowed ? 'block' : 'none';\n",
              "\n",
              "      async function convertToInteractive(key) {\n",
              "        const element = document.querySelector('#df-9f207273-6ed5-468d-a6fb-de5e70b21fe5');\n",
              "        const dataTable =\n",
              "          await google.colab.kernel.invokeFunction('convertToInteractive',\n",
              "                                                    [key], {});\n",
              "        if (!dataTable) return;\n",
              "\n",
              "        const docLinkHtml = 'Like what you see? Visit the ' +\n",
              "          '<a target=\"_blank\" href=https://colab.research.google.com/notebooks/data_table.ipynb>data table notebook</a>'\n",
              "          + ' to learn more about interactive tables.';\n",
              "        element.innerHTML = '';\n",
              "        dataTable['output_type'] = 'display_data';\n",
              "        await google.colab.output.renderOutput(dataTable, element);\n",
              "        const docLink = document.createElement('div');\n",
              "        docLink.innerHTML = docLinkHtml;\n",
              "        element.appendChild(docLink);\n",
              "      }\n",
              "    </script>\n",
              "  </div>\n",
              "\n",
              "\n",
              "<div id=\"df-4a7621e2-d925-4de7-810c-9dd9ec1c25d9\">\n",
              "  <button class=\"colab-df-quickchart\" onclick=\"quickchart('df-4a7621e2-d925-4de7-810c-9dd9ec1c25d9')\"\n",
              "            title=\"Suggest charts\"\n",
              "            style=\"display:none;\">\n",
              "\n",
              "<svg xmlns=\"http://www.w3.org/2000/svg\" height=\"24px\"viewBox=\"0 0 24 24\"\n",
              "     width=\"24px\">\n",
              "    <g>\n",
              "        <path d=\"M19 3H5c-1.1 0-2 .9-2 2v14c0 1.1.9 2 2 2h14c1.1 0 2-.9 2-2V5c0-1.1-.9-2-2-2zM9 17H7v-7h2v7zm4 0h-2V7h2v10zm4 0h-2v-4h2v4z\"/>\n",
              "    </g>\n",
              "</svg>\n",
              "  </button>\n",
              "\n",
              "<style>\n",
              "  .colab-df-quickchart {\n",
              "      --bg-color: #E8F0FE;\n",
              "      --fill-color: #1967D2;\n",
              "      --hover-bg-color: #E2EBFA;\n",
              "      --hover-fill-color: #174EA6;\n",
              "      --disabled-fill-color: #AAA;\n",
              "      --disabled-bg-color: #DDD;\n",
              "  }\n",
              "\n",
              "  [theme=dark] .colab-df-quickchart {\n",
              "      --bg-color: #3B4455;\n",
              "      --fill-color: #D2E3FC;\n",
              "      --hover-bg-color: #434B5C;\n",
              "      --hover-fill-color: #FFFFFF;\n",
              "      --disabled-bg-color: #3B4455;\n",
              "      --disabled-fill-color: #666;\n",
              "  }\n",
              "\n",
              "  .colab-df-quickchart {\n",
              "    background-color: var(--bg-color);\n",
              "    border: none;\n",
              "    border-radius: 50%;\n",
              "    cursor: pointer;\n",
              "    display: none;\n",
              "    fill: var(--fill-color);\n",
              "    height: 32px;\n",
              "    padding: 0;\n",
              "    width: 32px;\n",
              "  }\n",
              "\n",
              "  .colab-df-quickchart:hover {\n",
              "    background-color: var(--hover-bg-color);\n",
              "    box-shadow: 0 1px 2px rgba(60, 64, 67, 0.3), 0 1px 3px 1px rgba(60, 64, 67, 0.15);\n",
              "    fill: var(--button-hover-fill-color);\n",
              "  }\n",
              "\n",
              "  .colab-df-quickchart-complete:disabled,\n",
              "  .colab-df-quickchart-complete:disabled:hover {\n",
              "    background-color: var(--disabled-bg-color);\n",
              "    fill: var(--disabled-fill-color);\n",
              "    box-shadow: none;\n",
              "  }\n",
              "\n",
              "  .colab-df-spinner {\n",
              "    border: 2px solid var(--fill-color);\n",
              "    border-color: transparent;\n",
              "    border-bottom-color: var(--fill-color);\n",
              "    animation:\n",
              "      spin 1s steps(1) infinite;\n",
              "  }\n",
              "\n",
              "  @keyframes spin {\n",
              "    0% {\n",
              "      border-color: transparent;\n",
              "      border-bottom-color: var(--fill-color);\n",
              "      border-left-color: var(--fill-color);\n",
              "    }\n",
              "    20% {\n",
              "      border-color: transparent;\n",
              "      border-left-color: var(--fill-color);\n",
              "      border-top-color: var(--fill-color);\n",
              "    }\n",
              "    30% {\n",
              "      border-color: transparent;\n",
              "      border-left-color: var(--fill-color);\n",
              "      border-top-color: var(--fill-color);\n",
              "      border-right-color: var(--fill-color);\n",
              "    }\n",
              "    40% {\n",
              "      border-color: transparent;\n",
              "      border-right-color: var(--fill-color);\n",
              "      border-top-color: var(--fill-color);\n",
              "    }\n",
              "    60% {\n",
              "      border-color: transparent;\n",
              "      border-right-color: var(--fill-color);\n",
              "    }\n",
              "    80% {\n",
              "      border-color: transparent;\n",
              "      border-right-color: var(--fill-color);\n",
              "      border-bottom-color: var(--fill-color);\n",
              "    }\n",
              "    90% {\n",
              "      border-color: transparent;\n",
              "      border-bottom-color: var(--fill-color);\n",
              "    }\n",
              "  }\n",
              "</style>\n",
              "\n",
              "  <script>\n",
              "    async function quickchart(key) {\n",
              "      const quickchartButtonEl =\n",
              "        document.querySelector('#' + key + ' button');\n",
              "      quickchartButtonEl.disabled = true;  // To prevent multiple clicks.\n",
              "      quickchartButtonEl.classList.add('colab-df-spinner');\n",
              "      try {\n",
              "        const charts = await google.colab.kernel.invokeFunction(\n",
              "            'suggestCharts', [key], {});\n",
              "      } catch (error) {\n",
              "        console.error('Error during call to suggestCharts:', error);\n",
              "      }\n",
              "      quickchartButtonEl.classList.remove('colab-df-spinner');\n",
              "      quickchartButtonEl.classList.add('colab-df-quickchart-complete');\n",
              "    }\n",
              "    (() => {\n",
              "      let quickchartButtonEl =\n",
              "        document.querySelector('#df-4a7621e2-d925-4de7-810c-9dd9ec1c25d9 button');\n",
              "      quickchartButtonEl.style.display =\n",
              "        google.colab.kernel.accessAllowed ? 'block' : 'none';\n",
              "    })();\n",
              "  </script>\n",
              "</div>\n",
              "    </div>\n",
              "  </div>\n"
            ]
          },
          "metadata": {},
          "execution_count": 194
        }
      ]
    },
    {
      "cell_type": "markdown",
      "source": [
        "Подготовка набора данных"
      ],
      "metadata": {
        "id": "WNboVk7v7TIm"
      }
    },
    {
      "cell_type": "code",
      "source": [
        "dff = np.array(df)\n",
        "X = dff[:,:400]             # \"Numbers\" - pictures-matrix\n",
        "y = dff[:,400].astype(int)              # Classes\n",
        "\n",
        "theta = np.zeros((401, 1))\n",
        "ones = np.ones(X.size)\n",
        "\n",
        "m, n = X.shape\n",
        "X_ = np.column_stack((np.ones((m,1)), X))"
      ],
      "metadata": {
        "id": "f8FsECzW7J0b"
      },
      "execution_count": null,
      "outputs": []
    },
    {
      "cell_type": "markdown",
      "source": [
        "Минимизация функций"
      ],
      "metadata": {
        "id": "hNgRdcTK8V5B"
      }
    },
    {
      "cell_type": "code",
      "source": [
        "import scipy.optimize as opt\n",
        "\n",
        "m, n = X.shape\n",
        "theta_optimized_all = np.zeros((10, n + 1))\n",
        "print(theta_optimized_all.shape)\n",
        "\n",
        "for i in range(10):\n",
        "    new_theta = np.zeros((n + 1, 1))\n",
        "\n",
        "    result = opt.fmin_tnc(func = costFunction,\n",
        "    x0 = new_theta, fprime = gradientFunc,\n",
        "    args = (X_, (y == i)))[0]\n",
        "  #  theta_optimized = result[0]\n",
        "    print(theta.shape)\n",
        "    theta_optimized_all[i,:] = result"
      ],
      "metadata": {
        "colab": {
          "base_uri": "https://localhost:8080/"
        },
        "id": "IBw-u9Iy8Izf",
        "outputId": "e44ce7b2-212e-4c44-d837-b9c6aeee44cb"
      },
      "execution_count": null,
      "outputs": [
        {
          "output_type": "stream",
          "name": "stdout",
          "text": [
            "(10, 401)\n"
          ]
        },
        {
          "output_type": "stream",
          "name": "stderr",
          "text": [
            "<ipython-input-173-b65b86678347>:6: RuntimeWarning: divide by zero encountered in log\n",
            "  J = -(1.0 / len(y)) * (y * np.transpose(np.log(h)) + (1 - y) * np.transpose(np.log(1 - h))).sum()\n",
            "<ipython-input-173-b65b86678347>:6: RuntimeWarning: invalid value encountered in multiply\n",
            "  J = -(1.0 / len(y)) * (y * np.transpose(np.log(h)) + (1 - y) * np.transpose(np.log(1 - h))).sum()\n"
          ]
        },
        {
          "output_type": "stream",
          "name": "stdout",
          "text": [
            "(401, 1)\n",
            "(401, 1)\n",
            "(401, 1)\n",
            "(401, 1)\n",
            "(401, 1)\n",
            "(401, 1)\n",
            "(401, 1)\n",
            "(401, 1)\n"
          ]
        },
        {
          "output_type": "stream",
          "name": "stderr",
          "text": [
            "<ipython-input-173-b65b86678347>:2: RuntimeWarning: overflow encountered in exp\n",
            "  return 1.0 / (1.0 + np.exp(-z))\n"
          ]
        },
        {
          "output_type": "stream",
          "name": "stdout",
          "text": [
            "(401, 1)\n",
            "(401, 1)\n"
          ]
        }
      ]
    },
    {
      "cell_type": "markdown",
      "source": [
        "Выходные значения каждого из 10 классификаторов\n"
      ],
      "metadata": {
        "id": "x8fd6WepK7Z9"
      }
    },
    {
      "cell_type": "code",
      "source": [
        "h = sigmoid(np.dot(X_, theta_optimized_all.T))\n",
        "h.size"
      ],
      "metadata": {
        "colab": {
          "base_uri": "https://localhost:8080/"
        },
        "id": "yj5X_zye_q8-",
        "outputId": "fe8e7310-d31d-45b1-f8be-3a90ef101f85"
      },
      "execution_count": null,
      "outputs": [
        {
          "output_type": "execute_result",
          "data": {
            "text/plain": [
              "50000"
            ]
          },
          "metadata": {},
          "execution_count": 197
        }
      ]
    },
    {
      "cell_type": "markdown",
      "source": [
        " Выбор класса с максимальным значением вероятности принадлежности объекта к нему"
      ],
      "metadata": {
        "id": "7QSvz14nMMsg"
      }
    },
    {
      "cell_type": "code",
      "source": [
        "h_argmax = np.argmax(h, axis=1)\n",
        "'''for i in h_argmax:\n",
        "    print(i)'''\n"
      ],
      "metadata": {
        "colab": {
          "base_uri": "https://localhost:8080/",
          "height": 35
        },
        "id": "wW8Sd38Y_2CA",
        "outputId": "6fdd4e09-58e1-4d52-9b79-752768048848"
      },
      "execution_count": null,
      "outputs": [
        {
          "output_type": "execute_result",
          "data": {
            "text/plain": [
              "'for i in h_argmax:\\n    print(i)'"
            ],
            "application/vnd.google.colaboratory.intrinsic+json": {
              "type": "string"
            }
          },
          "metadata": {},
          "execution_count": 198
        }
      ]
    },
    {
      "cell_type": "markdown",
      "source": [
        "Оценка точности модели\n",
        "Алгоритм: Сравнение предсказанных значений с точными, выделение доли правильных ответов"
      ],
      "metadata": {
        "id": "tK2-1qbzM9V9"
      }
    },
    {
      "cell_type": "code",
      "source": [
        "len(np.where(y == h_argmax)[0]) / len(y)"
      ],
      "metadata": {
        "colab": {
          "base_uri": "https://localhost:8080/"
        },
        "id": "Ut2uYjxoMksz",
        "outputId": "07809083-d37d-4a36-838b-78c017001966"
      },
      "execution_count": null,
      "outputs": [
        {
          "output_type": "execute_result",
          "data": {
            "text/plain": [
              "0.9722"
            ]
          },
          "metadata": {},
          "execution_count": 199
        }
      ]
    }
  ]
}