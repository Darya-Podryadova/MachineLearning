{
  "cells": [
    {
      "cell_type": "markdown",
      "source": [
        "# Задание 1\n"
      ],
      "metadata": {
        "id": "9f8dtqWUhwGm"
      }
    },
    {
      "cell_type": "markdown",
      "metadata": {
        "id": "PwdV6GAJUSD7"
      },
      "source": [
        "\n",
        "**Одномерная и множественная линейная регрессия**\n",
        "\n"
      ]
    },
    {
      "cell_type": "code",
      "execution_count": 1660,
      "metadata": {
        "id": "MPsiCn1_TckC"
      },
      "outputs": [],
      "source": [
        "import numpy as np\n",
        "import pandas as pd\n",
        "from pandas import DataFrame, Series\n",
        "import matplotlib.pyplot as plt"
      ]
    },
    {
      "cell_type": "markdown",
      "metadata": {
        "id": "PSsrYA7pmpwa"
      },
      "source": [
        "Подключение данных\n"
      ]
    },
    {
      "cell_type": "code",
      "execution_count": 1661,
      "metadata": {
        "colab": {
          "base_uri": "https://localhost:8080/",
          "height": 206
        },
        "id": "ZXx2LonMVXZS",
        "outputId": "f82436e6-6da4-4876-fb3d-476c5c6edac0"
      },
      "outputs": [
        {
          "output_type": "execute_result",
          "data": {
            "text/plain": [
              "   Population   Profit\n",
              "0      6.1101  17.5920\n",
              "1      5.5277   9.1302\n",
              "2      8.5186  13.6620\n",
              "3      7.0032  11.8540\n",
              "4      5.8598   6.8233"
            ],
            "text/html": [
              "\n",
              "  <div id=\"df-44e8224a-175a-4e41-99d9-e4e5656bc678\" class=\"colab-df-container\">\n",
              "    <div>\n",
              "<style scoped>\n",
              "    .dataframe tbody tr th:only-of-type {\n",
              "        vertical-align: middle;\n",
              "    }\n",
              "\n",
              "    .dataframe tbody tr th {\n",
              "        vertical-align: top;\n",
              "    }\n",
              "\n",
              "    .dataframe thead th {\n",
              "        text-align: right;\n",
              "    }\n",
              "</style>\n",
              "<table border=\"1\" class=\"dataframe\">\n",
              "  <thead>\n",
              "    <tr style=\"text-align: right;\">\n",
              "      <th></th>\n",
              "      <th>Population</th>\n",
              "      <th>Profit</th>\n",
              "    </tr>\n",
              "  </thead>\n",
              "  <tbody>\n",
              "    <tr>\n",
              "      <th>0</th>\n",
              "      <td>6.1101</td>\n",
              "      <td>17.5920</td>\n",
              "    </tr>\n",
              "    <tr>\n",
              "      <th>1</th>\n",
              "      <td>5.5277</td>\n",
              "      <td>9.1302</td>\n",
              "    </tr>\n",
              "    <tr>\n",
              "      <th>2</th>\n",
              "      <td>8.5186</td>\n",
              "      <td>13.6620</td>\n",
              "    </tr>\n",
              "    <tr>\n",
              "      <th>3</th>\n",
              "      <td>7.0032</td>\n",
              "      <td>11.8540</td>\n",
              "    </tr>\n",
              "    <tr>\n",
              "      <th>4</th>\n",
              "      <td>5.8598</td>\n",
              "      <td>6.8233</td>\n",
              "    </tr>\n",
              "  </tbody>\n",
              "</table>\n",
              "</div>\n",
              "    <div class=\"colab-df-buttons\">\n",
              "\n",
              "  <div class=\"colab-df-container\">\n",
              "    <button class=\"colab-df-convert\" onclick=\"convertToInteractive('df-44e8224a-175a-4e41-99d9-e4e5656bc678')\"\n",
              "            title=\"Convert this dataframe to an interactive table.\"\n",
              "            style=\"display:none;\">\n",
              "\n",
              "  <svg xmlns=\"http://www.w3.org/2000/svg\" height=\"24px\" viewBox=\"0 -960 960 960\">\n",
              "    <path d=\"M120-120v-720h720v720H120Zm60-500h600v-160H180v160Zm220 220h160v-160H400v160Zm0 220h160v-160H400v160ZM180-400h160v-160H180v160Zm440 0h160v-160H620v160ZM180-180h160v-160H180v160Zm440 0h160v-160H620v160Z\"/>\n",
              "  </svg>\n",
              "    </button>\n",
              "\n",
              "  <style>\n",
              "    .colab-df-container {\n",
              "      display:flex;\n",
              "      gap: 12px;\n",
              "    }\n",
              "\n",
              "    .colab-df-convert {\n",
              "      background-color: #E8F0FE;\n",
              "      border: none;\n",
              "      border-radius: 50%;\n",
              "      cursor: pointer;\n",
              "      display: none;\n",
              "      fill: #1967D2;\n",
              "      height: 32px;\n",
              "      padding: 0 0 0 0;\n",
              "      width: 32px;\n",
              "    }\n",
              "\n",
              "    .colab-df-convert:hover {\n",
              "      background-color: #E2EBFA;\n",
              "      box-shadow: 0px 1px 2px rgba(60, 64, 67, 0.3), 0px 1px 3px 1px rgba(60, 64, 67, 0.15);\n",
              "      fill: #174EA6;\n",
              "    }\n",
              "\n",
              "    .colab-df-buttons div {\n",
              "      margin-bottom: 4px;\n",
              "    }\n",
              "\n",
              "    [theme=dark] .colab-df-convert {\n",
              "      background-color: #3B4455;\n",
              "      fill: #D2E3FC;\n",
              "    }\n",
              "\n",
              "    [theme=dark] .colab-df-convert:hover {\n",
              "      background-color: #434B5C;\n",
              "      box-shadow: 0px 1px 3px 1px rgba(0, 0, 0, 0.15);\n",
              "      filter: drop-shadow(0px 1px 2px rgba(0, 0, 0, 0.3));\n",
              "      fill: #FFFFFF;\n",
              "    }\n",
              "  </style>\n",
              "\n",
              "    <script>\n",
              "      const buttonEl =\n",
              "        document.querySelector('#df-44e8224a-175a-4e41-99d9-e4e5656bc678 button.colab-df-convert');\n",
              "      buttonEl.style.display =\n",
              "        google.colab.kernel.accessAllowed ? 'block' : 'none';\n",
              "\n",
              "      async function convertToInteractive(key) {\n",
              "        const element = document.querySelector('#df-44e8224a-175a-4e41-99d9-e4e5656bc678');\n",
              "        const dataTable =\n",
              "          await google.colab.kernel.invokeFunction('convertToInteractive',\n",
              "                                                    [key], {});\n",
              "        if (!dataTable) return;\n",
              "\n",
              "        const docLinkHtml = 'Like what you see? Visit the ' +\n",
              "          '<a target=\"_blank\" href=https://colab.research.google.com/notebooks/data_table.ipynb>data table notebook</a>'\n",
              "          + ' to learn more about interactive tables.';\n",
              "        element.innerHTML = '';\n",
              "        dataTable['output_type'] = 'display_data';\n",
              "        await google.colab.output.renderOutput(dataTable, element);\n",
              "        const docLink = document.createElement('div');\n",
              "        docLink.innerHTML = docLinkHtml;\n",
              "        element.appendChild(docLink);\n",
              "      }\n",
              "    </script>\n",
              "  </div>\n",
              "\n",
              "\n",
              "<div id=\"df-b4f41bd4-2b08-45e8-95ea-2c12fb65aeba\">\n",
              "  <button class=\"colab-df-quickchart\" onclick=\"quickchart('df-b4f41bd4-2b08-45e8-95ea-2c12fb65aeba')\"\n",
              "            title=\"Suggest charts\"\n",
              "            style=\"display:none;\">\n",
              "\n",
              "<svg xmlns=\"http://www.w3.org/2000/svg\" height=\"24px\"viewBox=\"0 0 24 24\"\n",
              "     width=\"24px\">\n",
              "    <g>\n",
              "        <path d=\"M19 3H5c-1.1 0-2 .9-2 2v14c0 1.1.9 2 2 2h14c1.1 0 2-.9 2-2V5c0-1.1-.9-2-2-2zM9 17H7v-7h2v7zm4 0h-2V7h2v10zm4 0h-2v-4h2v4z\"/>\n",
              "    </g>\n",
              "</svg>\n",
              "  </button>\n",
              "\n",
              "<style>\n",
              "  .colab-df-quickchart {\n",
              "      --bg-color: #E8F0FE;\n",
              "      --fill-color: #1967D2;\n",
              "      --hover-bg-color: #E2EBFA;\n",
              "      --hover-fill-color: #174EA6;\n",
              "      --disabled-fill-color: #AAA;\n",
              "      --disabled-bg-color: #DDD;\n",
              "  }\n",
              "\n",
              "  [theme=dark] .colab-df-quickchart {\n",
              "      --bg-color: #3B4455;\n",
              "      --fill-color: #D2E3FC;\n",
              "      --hover-bg-color: #434B5C;\n",
              "      --hover-fill-color: #FFFFFF;\n",
              "      --disabled-bg-color: #3B4455;\n",
              "      --disabled-fill-color: #666;\n",
              "  }\n",
              "\n",
              "  .colab-df-quickchart {\n",
              "    background-color: var(--bg-color);\n",
              "    border: none;\n",
              "    border-radius: 50%;\n",
              "    cursor: pointer;\n",
              "    display: none;\n",
              "    fill: var(--fill-color);\n",
              "    height: 32px;\n",
              "    padding: 0;\n",
              "    width: 32px;\n",
              "  }\n",
              "\n",
              "  .colab-df-quickchart:hover {\n",
              "    background-color: var(--hover-bg-color);\n",
              "    box-shadow: 0 1px 2px rgba(60, 64, 67, 0.3), 0 1px 3px 1px rgba(60, 64, 67, 0.15);\n",
              "    fill: var(--button-hover-fill-color);\n",
              "  }\n",
              "\n",
              "  .colab-df-quickchart-complete:disabled,\n",
              "  .colab-df-quickchart-complete:disabled:hover {\n",
              "    background-color: var(--disabled-bg-color);\n",
              "    fill: var(--disabled-fill-color);\n",
              "    box-shadow: none;\n",
              "  }\n",
              "\n",
              "  .colab-df-spinner {\n",
              "    border: 2px solid var(--fill-color);\n",
              "    border-color: transparent;\n",
              "    border-bottom-color: var(--fill-color);\n",
              "    animation:\n",
              "      spin 1s steps(1) infinite;\n",
              "  }\n",
              "\n",
              "  @keyframes spin {\n",
              "    0% {\n",
              "      border-color: transparent;\n",
              "      border-bottom-color: var(--fill-color);\n",
              "      border-left-color: var(--fill-color);\n",
              "    }\n",
              "    20% {\n",
              "      border-color: transparent;\n",
              "      border-left-color: var(--fill-color);\n",
              "      border-top-color: var(--fill-color);\n",
              "    }\n",
              "    30% {\n",
              "      border-color: transparent;\n",
              "      border-left-color: var(--fill-color);\n",
              "      border-top-color: var(--fill-color);\n",
              "      border-right-color: var(--fill-color);\n",
              "    }\n",
              "    40% {\n",
              "      border-color: transparent;\n",
              "      border-right-color: var(--fill-color);\n",
              "      border-top-color: var(--fill-color);\n",
              "    }\n",
              "    60% {\n",
              "      border-color: transparent;\n",
              "      border-right-color: var(--fill-color);\n",
              "    }\n",
              "    80% {\n",
              "      border-color: transparent;\n",
              "      border-right-color: var(--fill-color);\n",
              "      border-bottom-color: var(--fill-color);\n",
              "    }\n",
              "    90% {\n",
              "      border-color: transparent;\n",
              "      border-bottom-color: var(--fill-color);\n",
              "    }\n",
              "  }\n",
              "</style>\n",
              "\n",
              "  <script>\n",
              "    async function quickchart(key) {\n",
              "      const quickchartButtonEl =\n",
              "        document.querySelector('#' + key + ' button');\n",
              "      quickchartButtonEl.disabled = true;  // To prevent multiple clicks.\n",
              "      quickchartButtonEl.classList.add('colab-df-spinner');\n",
              "      try {\n",
              "        const charts = await google.colab.kernel.invokeFunction(\n",
              "            'suggestCharts', [key], {});\n",
              "      } catch (error) {\n",
              "        console.error('Error during call to suggestCharts:', error);\n",
              "      }\n",
              "      quickchartButtonEl.classList.remove('colab-df-spinner');\n",
              "      quickchartButtonEl.classList.add('colab-df-quickchart-complete');\n",
              "    }\n",
              "    (() => {\n",
              "      let quickchartButtonEl =\n",
              "        document.querySelector('#df-b4f41bd4-2b08-45e8-95ea-2c12fb65aeba button');\n",
              "      quickchartButtonEl.style.display =\n",
              "        google.colab.kernel.accessAllowed ? 'block' : 'none';\n",
              "    })();\n",
              "  </script>\n",
              "</div>\n",
              "    </div>\n",
              "  </div>\n"
            ]
          },
          "metadata": {},
          "execution_count": 1661
        }
      ],
      "source": [
        "df = pd.read_table(\"/content/ex1data1.txt\", header = None, delimiter= \",\",names=[\"Population\", \"Profit\"])\n",
        "df.head()"
      ]
    },
    {
      "cell_type": "code",
      "source": [
        "df.plot.scatter(x=\"Population\",\n",
        "                         y=\"Profit\",\n",
        "                         alpha=0.5);"
      ],
      "metadata": {
        "colab": {
          "base_uri": "https://localhost:8080/",
          "height": 449
        },
        "id": "yhS4R8UhciV8",
        "outputId": "ffe0ddd5-1814-4025-b6a0-58d32145169c"
      },
      "execution_count": 1662,
      "outputs": [
        {
          "output_type": "display_data",
          "data": {
            "text/plain": [
              "<Figure size 640x480 with 1 Axes>"
            ],
            "image/png": "[encoded data removed]"
          },
          "metadata": {}
        }
      ]
    },
    {
      "cell_type": "markdown",
      "metadata": {
        "id": "fEjzkDNOnZ7D"
      },
      "source": [
        "Реализация функции минимизации\n"
      ]
    },
    {
      "cell_type": "code",
      "execution_count": 1663,
      "metadata": {
        "id": "N9KInj2XmtI6"
      },
      "outputs": [],
      "source": [
        "def computeCost(X, y, theta):\n",
        "    e = np.dot(X,theta).reshape(len(y),-1)-y\n",
        "    return np.dot((e).T,e)/(2*m)\n",
        "\n",
        "\n",
        "def gradientDescent(X, y, theta, alpha, iters):\n",
        "\n",
        "    m = np.size(y, axis=0)\n",
        "    J_history = []\n",
        "    Theta = []\n",
        "    theta = theta.copy()\n",
        "\n",
        "    for iter in range(iters):\n",
        "        h_theta = np.dot(X, theta)\n",
        "        theta = theta - (alpha / m) * (X.T).dot(h_theta - y)\n",
        "\n",
        "        Theta.append(theta)\n",
        "        J_history.append(computeCost(X, y, theta)[0])\n",
        "\n",
        "\n",
        "    return theta, J_history\n",
        "\n"
      ]
    },
    {
      "cell_type": "code",
      "execution_count": 1664,
      "metadata": {
        "id": "kGjdr6ucnM4E"
      },
      "outputs": [],
      "source": [
        "X = np.array(df['Population'])\n",
        "m = int(df.size/2)\n",
        "ones = np.ones(X.size)\n",
        "X=np.stack((ones, X)).T\n",
        "Y=np.array(df['Profit']).reshape(m,1)\n",
        "Theta=np.array([[0],[0]])\n",
        "a = 0.01\n",
        "iters = 1000"
      ]
    },
    {
      "cell_type": "code",
      "execution_count": 1665,
      "metadata": {
        "colab": {
          "base_uri": "https://localhost:8080/"
        },
        "id": "dshdujYwnlm_",
        "outputId": "fc236dc4-d0d6-45a4-8f17-817a964be992"
      },
      "outputs": [
        {
          "output_type": "execute_result",
          "data": {
            "text/plain": [
              "array([[32.07273388]])"
            ]
          },
          "metadata": {},
          "execution_count": 1665
        }
      ],
      "source": [
        "s = computeCost(X,Y,Theta)\n",
        "s"
      ]
    },
    {
      "cell_type": "code",
      "execution_count": 1666,
      "metadata": {
        "id": "rr5NYz7WucH9",
        "colab": {
          "base_uri": "https://localhost:8080/"
        },
        "outputId": "90f15679-4392-4f36-b003-8700bc2a04b1"
      },
      "outputs": [
        {
          "output_type": "execute_result",
          "data": {
            "text/plain": [
              "array([1.1272942])"
            ]
          },
          "metadata": {},
          "execution_count": 1666
        }
      ],
      "source": [
        "Theta=np.array([[0],[0]])\n",
        "theta, J_history = gradientDescent(X, Y, Theta, a, iters)\n",
        "\n",
        "theta[-1]\n"
      ]
    },
    {
      "cell_type": "markdown",
      "source": [
        "График изменения функции потерь в процессе обучения"
      ],
      "metadata": {
        "id": "XyEYU4KMrYTZ"
      }
    },
    {
      "cell_type": "code",
      "source": [
        "plt.plot(J_history)\n",
        "plt.xlabel('Количество итераций')\n",
        "plt.ylabel('Значение целевой функции')\n",
        "plt.title('График изменения функции потерь в процессе обучения')\n",
        "plt.show()"
      ],
      "metadata": {
        "colab": {
          "base_uri": "https://localhost:8080/",
          "height": 472
        },
        "id": "S4N-PrxYqTIC",
        "outputId": "2591bdd9-9070-44f3-f31b-c360936de104"
      },
      "execution_count": 1667,
      "outputs": [
        {
          "output_type": "display_data",
          "data": {
            "text/plain": [
              "<Figure size 640x480 with 1 Axes>"
            ],
            "image/png": "[encoded data removed]"
          },
          "metadata": {}
        }
      ]
    },
    {
      "cell_type": "markdown",
      "source": [
        "Построение графика\n"
      ],
      "metadata": {
        "id": "L-BQOyoZiDgY"
      }
    },
    {
      "cell_type": "code",
      "execution_count": 1668,
      "metadata": {
        "id": "AuWHdmC-_Sh4"
      },
      "outputs": [],
      "source": [
        "x = df[\"Population\"].to_numpy()\n",
        "x = list(x)\n",
        "Y = df[\"Profit\"].to_numpy()\n",
        "Y = list(x)"
      ]
    },
    {
      "cell_type": "markdown",
      "source": [
        "Алгоритм sklearn"
      ],
      "metadata": {
        "id": "UgFjtWa__NGd"
      }
    },
    {
      "cell_type": "code",
      "source": [
        "from sklearn import linear_model\n",
        "from sklearn.preprocessing import StandardScaler\n",
        "from sklearn.linear_model import LinearRegression\n",
        "\n",
        "dff = pd.read_table(\"/content/ex1data1.txt\", header = None, delimiter= \",\",names=[\"Population\", \"Profit\"])\n",
        "\n",
        "data_sk = np.array(dff)\n",
        "\n",
        "X_sk = data_sk[:,:1]\n",
        "y_sk = data_sk[:,1]\n",
        "reg_sk = LinearRegression().fit(X_sk, y_sk)\n",
        "print(reg_sk.score(X_sk, y_sk))\n",
        "print(reg_sk.coef_)\n",
        "print(reg_sk.predict(np.array([[10.]])))\n",
        "\n",
        "\n",
        "x_range = np.linspace(X_sk.min(), X_sk.max(), 100).reshape(-1, 1)\n",
        "\n",
        "\n",
        "y_pred = reg_sk.predict(x_range)\n",
        "\n",
        "\n",
        "plt.scatter(X_sk, y_sk, color='blue')\n",
        "plt.plot(x_range, y_pred, color='red', linewidth=3)\n",
        "plt.xlabel('Population')\n",
        "plt.ylabel('Profit')\n",
        "plt.show()"
      ],
      "metadata": {
        "colab": {
          "base_uri": "https://localhost:8080/",
          "height": 504
        },
        "id": "bjE__zgy6A7F",
        "outputId": "d033f56b-8f71-483b-b0b8-cf12e014ad67"
      },
      "execution_count": 1669,
      "outputs": [
        {
          "output_type": "stream",
          "name": "stdout",
          "text": [
            "0.7020315537841397\n",
            "[1.19303364]\n",
            "[8.03455556]\n"
          ]
        },
        {
          "output_type": "display_data",
          "data": {
            "text/plain": [
              "<Figure size 640x480 with 1 Axes>"
            ],
            "image/png": "[encoded data removed]"
          },
          "metadata": {}
        }
      ]
    },
    {
      "cell_type": "code",
      "source": [
        "plt.scatter(df['Population'], df['Profit'], color = 'b');\n",
        "target = df.Profit\n",
        "y = theta[0] + theta[1] * x\n",
        "\n",
        "plt.scatter([10.], [theta[0] + theta[1] * 10.], color = 'r');\n",
        "plt.plot(x_range, y_pred, color='red', linewidth=3);\n",
        "plt.plot(x, y, color = 'y');\n",
        "\n",
        "\n"
      ],
      "metadata": {
        "colab": {
          "base_uri": "https://localhost:8080/",
          "height": 430
        },
        "id": "qZ_hWP_in3OB",
        "outputId": "8c246e23-353b-454e-8f3b-7ab31673bbc3"
      },
      "execution_count": 1670,
      "outputs": [
        {
          "output_type": "display_data",
          "data": {
            "text/plain": [
              "<Figure size 640x480 with 1 Axes>"
            ],
            "image/png": "[encoded data removed]"
          },
          "metadata": {}
        }
      ]
    },
    {
      "cell_type": "markdown",
      "source": [
        "Добавить график реализации склерн"
      ],
      "metadata": {
        "id": "oe3V5eEM4dO6"
      }
    },
    {
      "cell_type": "code",
      "source": [
        "def gradientDescentIter(X, y, theta, alpha, iters):\n",
        "\n",
        "    m = np.size(y, axis=0)\n",
        "    J_history = []\n",
        "    theta_hist = []\n",
        "    theta = theta.copy()\n",
        "    it = []\n",
        "    for iter in range(iters):\n",
        "        h_theta = np.dot(X, theta)\n",
        "        theta = theta - (alpha / m) * (X.T).dot(h_theta - y)\n",
        "\n",
        "        theta_hist.append(theta)\n",
        "        J_history.append(computeCost(X, y, theta))\n",
        "        it.append(iter)\n",
        "    return J_history, it"
      ],
      "metadata": {
        "id": "9CKG_bODsEnt"
      },
      "execution_count": 1671,
      "outputs": []
    },
    {
      "cell_type": "code",
      "source": [
        "X = np.array(df['Population'])\n",
        "m = int(df.size/2)\n",
        "ones = np.ones(X.size)\n",
        "X=np.stack((ones, X)).T\n",
        "Y=np.array(df['Profit']).reshape(m,1)\n",
        "Theta=np.array([[0],[0]])\n",
        "a = 0.01\n",
        "iters = 1000\n",
        "\n"
      ],
      "metadata": {
        "id": "2HzSetXEsQyD"
      },
      "execution_count": 1672,
      "outputs": []
    },
    {
      "cell_type": "code",
      "source": [
        "Theta=np.array([[0],[0]])\n",
        "d = gradientDescentIter(X, Y, Theta, a, iters)"
      ],
      "metadata": {
        "id": "XIG7oF0ksasV"
      },
      "execution_count": 1673,
      "outputs": []
    },
    {
      "cell_type": "code",
      "source": [
        "x, y = [], []\n",
        "for i in range(len(d[0])):\n",
        "  x.append(d[0][i][0])\n",
        "  y.append(d[1][i])\n",
        "plt.plot(x, y);"
      ],
      "metadata": {
        "colab": {
          "base_uri": "https://localhost:8080/",
          "height": 430
        },
        "id": "NDgpcSYysmx-",
        "outputId": "9243ca7c-b012-4bf7-d723-72df8b002367"
      },
      "execution_count": 1674,
      "outputs": [
        {
          "output_type": "display_data",
          "data": {
            "text/plain": [
              "<Figure size 640x480 with 1 Axes>"
            ],
            "image/png": "[encoded data removed]"
          },
          "metadata": {}
        }
      ]
    },
    {
      "cell_type": "code",
      "source": [
        "X = np.array(df['Population'])\n",
        "m = int(df.size/2)\n",
        "ones = np.ones(X.size)\n",
        "X=np.stack((ones, X)).T\n",
        "Y=np.array(df['Profit']).reshape(m,1)\n",
        "Theta=np.array([[0],[0]])\n",
        "a = 0.05\n",
        "iters = 1000\n",
        "Theta=np.array([[0],[0]])\n",
        "d = gradientDescentIter(X, Y, Theta, a, iters)"
      ],
      "metadata": {
        "colab": {
          "base_uri": "https://localhost:8080/"
        },
        "id": "sJuwg0b-YZ5o",
        "outputId": "8ad2401d-9238-4bb2-aea8-45f6aadd4546"
      },
      "execution_count": 1675,
      "outputs": [
        {
          "output_type": "stream",
          "name": "stderr",
          "text": [
            "<ipython-input-1671-7bf06653f2a7>:10: RuntimeWarning: invalid value encountered in subtract\n",
            "  theta = theta - (alpha / m) * (X.T).dot(h_theta - y)\n"
          ]
        }
      ]
    },
    {
      "cell_type": "code",
      "source": [
        "x, y = [], []\n",
        "for i in range(len(d[0])):\n",
        "  x.append(d[0][i][0])\n",
        "  y.append(d[1][i])\n",
        "plt.plot(x, y);"
      ],
      "metadata": {
        "colab": {
          "base_uri": "https://localhost:8080/",
          "height": 448
        },
        "id": "8LDBErzQu9yz",
        "outputId": "4cf4c641-27f4-460f-8814-f7925c829e0c"
      },
      "execution_count": 1676,
      "outputs": [
        {
          "output_type": "display_data",
          "data": {
            "text/plain": [
              "<Figure size 640x480 with 1 Axes>"
            ],
            "image/png": "[encoded data removed]"
          },
          "metadata": {}
        }
      ]
    },
    {
      "cell_type": "code",
      "source": [
        "X = np.array(df['Population'])\n",
        "m = int(df.size/2)\n",
        "ones = np.ones(X.size)\n",
        "X=np.stack((ones, X)).T\n",
        "Y=np.array(df['Profit']).reshape(m,1)\n",
        "Theta=np.array([[0],[0]])\n",
        "a = 0.001\n",
        "iters = 1000\n",
        "Theta=np.array([[0],[0]])\n",
        "d = gradientDescentIter(X, Y, Theta, a, iters)"
      ],
      "metadata": {
        "id": "bgQmlLrrYeUI"
      },
      "execution_count": 1677,
      "outputs": []
    },
    {
      "cell_type": "code",
      "source": [
        "x, y = [], []\n",
        "for i in range(len(d[0])):\n",
        "  x.append(d[0][i][0])\n",
        "  y.append(d[1][i])\n",
        "plt.plot(x, y);"
      ],
      "metadata": {
        "colab": {
          "base_uri": "https://localhost:8080/",
          "height": 430
        },
        "id": "ry_-u0JMu-aA",
        "outputId": "cf1af9a6-4500-40c3-d374-63b1833bfc52"
      },
      "execution_count": 1678,
      "outputs": [
        {
          "output_type": "display_data",
          "data": {
            "text/plain": [
              "<Figure size 640x480 with 1 Axes>"
            ],
            "image/png": "[encoded data removed]"
          },
          "metadata": {}
        }
      ]
    },
    {
      "cell_type": "markdown",
      "source": [
        "Предсказание на реальных данных\n",
        "\n",
        "Предсказание выгоды от открытия ресторана в городе с населением 10 млн"
      ],
      "metadata": {
        "id": "51Dh9nVOhgOW"
      }
    },
    {
      "cell_type": "code",
      "source": [
        "theta[-1]\n",
        "print(theta[0] + theta[1] * 10.)"
      ],
      "metadata": {
        "colab": {
          "base_uri": "https://localhost:8080/"
        },
        "id": "R48rUKjapOC6",
        "outputId": "3d8466c5-1d96-45e9-d711-382fffc6eb9b"
      },
      "execution_count": 1679,
      "outputs": [
        {
          "output_type": "stream",
          "name": "stdout",
          "text": [
            "[8.03153988]\n"
          ]
        }
      ]
    },
    {
      "cell_type": "markdown",
      "source": [
        "Вычисление точности модели\n",
        "\n",
        "\n",
        "\n"
      ],
      "metadata": {
        "id": "erPiEw_0dqWn"
      }
    },
    {
      "cell_type": "code",
      "source": [
        "x = df[\"Population\"].to_numpy()\n",
        "x = list(x)\n",
        "Y = df[\"Profit\"].to_numpy()\n",
        "Y = list(x)\n",
        "\n",
        "Y_pred = theta[0] + theta[1] * x\n",
        "SSres = np.sum((Y - Y_pred) ** 2)\n",
        "SStot = np.sum((Y - np.mean(Y)) ** 2)\n",
        "r2 = 1 - (SSres / SStot)\n",
        "print(f'R2: {r2}')"
      ],
      "metadata": {
        "colab": {
          "base_uri": "https://localhost:8080/"
        },
        "id": "XULBQ3HHdtrf",
        "outputId": "f96f028f-1edd-46fe-cfa5-403454cae863"
      },
      "execution_count": 1680,
      "outputs": [
        {
          "output_type": "stream",
          "name": "stdout",
          "text": [
            "R2: 0.6564418169347359\n"
          ]
        }
      ]
    },
    {
      "cell_type": "markdown",
      "source": [
        "# Задание 3.1"
      ],
      "metadata": {
        "id": "6rVDytQLFoTA"
      }
    },
    {
      "cell_type": "code",
      "source": [
        "df = pd.read_table(\"/content/ex1data1.txt\", header = None, delimiter= \",\",names=[\"Population\", \"Profit\"])\n",
        "\n",
        "data = np.array(df)\n",
        "df.head()"
      ],
      "metadata": {
        "colab": {
          "base_uri": "https://localhost:8080/",
          "height": 206
        },
        "id": "iDuxyWBbnrjU",
        "outputId": "08d9b49b-9ca2-4644-cad1-9136a352112e"
      },
      "execution_count": 1681,
      "outputs": [
        {
          "output_type": "execute_result",
          "data": {
            "text/plain": [
              "   Population   Profit\n",
              "0      6.1101  17.5920\n",
              "1      5.5277   9.1302\n",
              "2      8.5186  13.6620\n",
              "3      7.0032  11.8540\n",
              "4      5.8598   6.8233"
            ],
            "text/html": [
              "\n",
              "  <div id=\"df-560a899e-5bca-4a93-a478-9e09ec19d719\" class=\"colab-df-container\">\n",
              "    <div>\n",
              "<style scoped>\n",
              "    .dataframe tbody tr th:only-of-type {\n",
              "        vertical-align: middle;\n",
              "    }\n",
              "\n",
              "    .dataframe tbody tr th {\n",
              "        vertical-align: top;\n",
              "    }\n",
              "\n",
              "    .dataframe thead th {\n",
              "        text-align: right;\n",
              "    }\n",
              "</style>\n",
              "<table border=\"1\" class=\"dataframe\">\n",
              "  <thead>\n",
              "    <tr style=\"text-align: right;\">\n",
              "      <th></th>\n",
              "      <th>Population</th>\n",
              "      <th>Profit</th>\n",
              "    </tr>\n",
              "  </thead>\n",
              "  <tbody>\n",
              "    <tr>\n",
              "      <th>0</th>\n",
              "      <td>6.1101</td>\n",
              "      <td>17.5920</td>\n",
              "    </tr>\n",
              "    <tr>\n",
              "      <th>1</th>\n",
              "      <td>5.5277</td>\n",
              "      <td>9.1302</td>\n",
              "    </tr>\n",
              "    <tr>\n",
              "      <th>2</th>\n",
              "      <td>8.5186</td>\n",
              "      <td>13.6620</td>\n",
              "    </tr>\n",
              "    <tr>\n",
              "      <th>3</th>\n",
              "      <td>7.0032</td>\n",
              "      <td>11.8540</td>\n",
              "    </tr>\n",
              "    <tr>\n",
              "      <th>4</th>\n",
              "      <td>5.8598</td>\n",
              "      <td>6.8233</td>\n",
              "    </tr>\n",
              "  </tbody>\n",
              "</table>\n",
              "</div>\n",
              "    <div class=\"colab-df-buttons\">\n",
              "\n",
              "  <div class=\"colab-df-container\">\n",
              "    <button class=\"colab-df-convert\" onclick=\"convertToInteractive('df-560a899e-5bca-4a93-a478-9e09ec19d719')\"\n",
              "            title=\"Convert this dataframe to an interactive table.\"\n",
              "            style=\"display:none;\">\n",
              "\n",
              "  <svg xmlns=\"http://www.w3.org/2000/svg\" height=\"24px\" viewBox=\"0 -960 960 960\">\n",
              "    <path d=\"M120-120v-720h720v720H120Zm60-500h600v-160H180v160Zm220 220h160v-160H400v160Zm0 220h160v-160H400v160ZM180-400h160v-160H180v160Zm440 0h160v-160H620v160ZM180-180h160v-160H180v160Zm440 0h160v-160H620v160Z\"/>\n",
              "  </svg>\n",
              "    </button>\n",
              "\n",
              "  <style>\n",
              "    .colab-df-container {\n",
              "      display:flex;\n",
              "      gap: 12px;\n",
              "    }\n",
              "\n",
              "    .colab-df-convert {\n",
              "      background-color: #E8F0FE;\n",
              "      border: none;\n",
              "      border-radius: 50%;\n",
              "      cursor: pointer;\n",
              "      display: none;\n",
              "      fill: #1967D2;\n",
              "      height: 32px;\n",
              "      padding: 0 0 0 0;\n",
              "      width: 32px;\n",
              "    }\n",
              "\n",
              "    .colab-df-convert:hover {\n",
              "      background-color: #E2EBFA;\n",
              "      box-shadow: 0px 1px 2px rgba(60, 64, 67, 0.3), 0px 1px 3px 1px rgba(60, 64, 67, 0.15);\n",
              "      fill: #174EA6;\n",
              "    }\n",
              "\n",
              "    .colab-df-buttons div {\n",
              "      margin-bottom: 4px;\n",
              "    }\n",
              "\n",
              "    [theme=dark] .colab-df-convert {\n",
              "      background-color: #3B4455;\n",
              "      fill: #D2E3FC;\n",
              "    }\n",
              "\n",
              "    [theme=dark] .colab-df-convert:hover {\n",
              "      background-color: #434B5C;\n",
              "      box-shadow: 0px 1px 3px 1px rgba(0, 0, 0, 0.15);\n",
              "      filter: drop-shadow(0px 1px 2px rgba(0, 0, 0, 0.3));\n",
              "      fill: #FFFFFF;\n",
              "    }\n",
              "  </style>\n",
              "\n",
              "    <script>\n",
              "      const buttonEl =\n",
              "        document.querySelector('#df-560a899e-5bca-4a93-a478-9e09ec19d719 button.colab-df-convert');\n",
              "      buttonEl.style.display =\n",
              "        google.colab.kernel.accessAllowed ? 'block' : 'none';\n",
              "\n",
              "      async function convertToInteractive(key) {\n",
              "        const element = document.querySelector('#df-560a899e-5bca-4a93-a478-9e09ec19d719');\n",
              "        const dataTable =\n",
              "          await google.colab.kernel.invokeFunction('convertToInteractive',\n",
              "                                                    [key], {});\n",
              "        if (!dataTable) return;\n",
              "\n",
              "        const docLinkHtml = 'Like what you see? Visit the ' +\n",
              "          '<a target=\"_blank\" href=https://colab.research.google.com/notebooks/data_table.ipynb>data table notebook</a>'\n",
              "          + ' to learn more about interactive tables.';\n",
              "        element.innerHTML = '';\n",
              "        dataTable['output_type'] = 'display_data';\n",
              "        await google.colab.output.renderOutput(dataTable, element);\n",
              "        const docLink = document.createElement('div');\n",
              "        docLink.innerHTML = docLinkHtml;\n",
              "        element.appendChild(docLink);\n",
              "      }\n",
              "    </script>\n",
              "  </div>\n",
              "\n",
              "\n",
              "<div id=\"df-fca2abf6-da2c-42e3-8a69-b1c89947f99f\">\n",
              "  <button class=\"colab-df-quickchart\" onclick=\"quickchart('df-fca2abf6-da2c-42e3-8a69-b1c89947f99f')\"\n",
              "            title=\"Suggest charts\"\n",
              "            style=\"display:none;\">\n",
              "\n",
              "<svg xmlns=\"http://www.w3.org/2000/svg\" height=\"24px\"viewBox=\"0 0 24 24\"\n",
              "     width=\"24px\">\n",
              "    <g>\n",
              "        <path d=\"M19 3H5c-1.1 0-2 .9-2 2v14c0 1.1.9 2 2 2h14c1.1 0 2-.9 2-2V5c0-1.1-.9-2-2-2zM9 17H7v-7h2v7zm4 0h-2V7h2v10zm4 0h-2v-4h2v4z\"/>\n",
              "    </g>\n",
              "</svg>\n",
              "  </button>\n",
              "\n",
              "<style>\n",
              "  .colab-df-quickchart {\n",
              "      --bg-color: #E8F0FE;\n",
              "      --fill-color: #1967D2;\n",
              "      --hover-bg-color: #E2EBFA;\n",
              "      --hover-fill-color: #174EA6;\n",
              "      --disabled-fill-color: #AAA;\n",
              "      --disabled-bg-color: #DDD;\n",
              "  }\n",
              "\n",
              "  [theme=dark] .colab-df-quickchart {\n",
              "      --bg-color: #3B4455;\n",
              "      --fill-color: #D2E3FC;\n",
              "      --hover-bg-color: #434B5C;\n",
              "      --hover-fill-color: #FFFFFF;\n",
              "      --disabled-bg-color: #3B4455;\n",
              "      --disabled-fill-color: #666;\n",
              "  }\n",
              "\n",
              "  .colab-df-quickchart {\n",
              "    background-color: var(--bg-color);\n",
              "    border: none;\n",
              "    border-radius: 50%;\n",
              "    cursor: pointer;\n",
              "    display: none;\n",
              "    fill: var(--fill-color);\n",
              "    height: 32px;\n",
              "    padding: 0;\n",
              "    width: 32px;\n",
              "  }\n",
              "\n",
              "  .colab-df-quickchart:hover {\n",
              "    background-color: var(--hover-bg-color);\n",
              "    box-shadow: 0 1px 2px rgba(60, 64, 67, 0.3), 0 1px 3px 1px rgba(60, 64, 67, 0.15);\n",
              "    fill: var(--button-hover-fill-color);\n",
              "  }\n",
              "\n",
              "  .colab-df-quickchart-complete:disabled,\n",
              "  .colab-df-quickchart-complete:disabled:hover {\n",
              "    background-color: var(--disabled-bg-color);\n",
              "    fill: var(--disabled-fill-color);\n",
              "    box-shadow: none;\n",
              "  }\n",
              "\n",
              "  .colab-df-spinner {\n",
              "    border: 2px solid var(--fill-color);\n",
              "    border-color: transparent;\n",
              "    border-bottom-color: var(--fill-color);\n",
              "    animation:\n",
              "      spin 1s steps(1) infinite;\n",
              "  }\n",
              "\n",
              "  @keyframes spin {\n",
              "    0% {\n",
              "      border-color: transparent;\n",
              "      border-bottom-color: var(--fill-color);\n",
              "      border-left-color: var(--fill-color);\n",
              "    }\n",
              "    20% {\n",
              "      border-color: transparent;\n",
              "      border-left-color: var(--fill-color);\n",
              "      border-top-color: var(--fill-color);\n",
              "    }\n",
              "    30% {\n",
              "      border-color: transparent;\n",
              "      border-left-color: var(--fill-color);\n",
              "      border-top-color: var(--fill-color);\n",
              "      border-right-color: var(--fill-color);\n",
              "    }\n",
              "    40% {\n",
              "      border-color: transparent;\n",
              "      border-right-color: var(--fill-color);\n",
              "      border-top-color: var(--fill-color);\n",
              "    }\n",
              "    60% {\n",
              "      border-color: transparent;\n",
              "      border-right-color: var(--fill-color);\n",
              "    }\n",
              "    80% {\n",
              "      border-color: transparent;\n",
              "      border-right-color: var(--fill-color);\n",
              "      border-bottom-color: var(--fill-color);\n",
              "    }\n",
              "    90% {\n",
              "      border-color: transparent;\n",
              "      border-bottom-color: var(--fill-color);\n",
              "    }\n",
              "  }\n",
              "</style>\n",
              "\n",
              "  <script>\n",
              "    async function quickchart(key) {\n",
              "      const quickchartButtonEl =\n",
              "        document.querySelector('#' + key + ' button');\n",
              "      quickchartButtonEl.disabled = true;  // To prevent multiple clicks.\n",
              "      quickchartButtonEl.classList.add('colab-df-spinner');\n",
              "      try {\n",
              "        const charts = await google.colab.kernel.invokeFunction(\n",
              "            'suggestCharts', [key], {});\n",
              "      } catch (error) {\n",
              "        console.error('Error during call to suggestCharts:', error);\n",
              "      }\n",
              "      quickchartButtonEl.classList.remove('colab-df-spinner');\n",
              "      quickchartButtonEl.classList.add('colab-df-quickchart-complete');\n",
              "    }\n",
              "    (() => {\n",
              "      let quickchartButtonEl =\n",
              "        document.querySelector('#df-fca2abf6-da2c-42e3-8a69-b1c89947f99f button');\n",
              "      quickchartButtonEl.style.display =\n",
              "        google.colab.kernel.accessAllowed ? 'block' : 'none';\n",
              "    })();\n",
              "  </script>\n",
              "</div>\n",
              "    </div>\n",
              "  </div>\n"
            ]
          },
          "metadata": {},
          "execution_count": 1681
        }
      ]
    },
    {
      "cell_type": "code",
      "source": [
        "from sklearn import linear_model\n",
        "from sklearn.preprocessing import StandardScaler\n",
        "from sklearn.linear_model import LinearRegression\n",
        "\n",
        "df = pd.read_table(\"/content/ex1data1.txt\", header = None, delimiter= \",\",names=[\"Population\", \"Profit\"])\n",
        "\n",
        "data = np.array(df)\n",
        "\n",
        "X = data[:,:1]\n",
        "y = data[:,1]\n",
        "reg = LinearRegression().fit(X, y)\n",
        "print(reg.score(X, y))\n",
        "print(reg.coef_)\n",
        "print(reg.predict(np.array([[10.]])))\n",
        "\n"
      ],
      "metadata": {
        "colab": {
          "base_uri": "https://localhost:8080/"
        },
        "id": "Pu_oTPBnF26T",
        "outputId": "2976fa7b-08b6-49b7-f4f1-10eb1363f4c4"
      },
      "execution_count": 1682,
      "outputs": [
        {
          "output_type": "stream",
          "name": "stdout",
          "text": [
            "0.7020315537841397\n",
            "[1.19303364]\n",
            "[8.03455556]\n"
          ]
        }
      ]
    },
    {
      "cell_type": "markdown",
      "source": [
        "# Задание 2\n",
        "## Множественная линейная регрессия"
      ],
      "metadata": {
        "id": "DqJFx5OkvjzP"
      }
    },
    {
      "cell_type": "code",
      "source": [
        "df = pd.read_table(\"/content/ex1data2.txt\", header = None, delimiter= \",\",names=[\"Size\", \"Bedrooms\", \"Price\"])\n",
        "df.head()"
      ],
      "metadata": {
        "colab": {
          "base_uri": "https://localhost:8080/",
          "height": 206
        },
        "id": "OSzjY1YJvvMp",
        "outputId": "45715beb-9db1-4761-fe48-cc0ed669e7f7"
      },
      "execution_count": 1683,
      "outputs": [
        {
          "output_type": "execute_result",
          "data": {
            "text/plain": [
              "   Size  Bedrooms   Price\n",
              "0  2104         3  399900\n",
              "1  1600         3  329900\n",
              "2  2400         3  369000\n",
              "3  1416         2  232000\n",
              "4  3000         4  539900"
            ],
            "text/html": [
              "\n",
              "  <div id=\"df-8ebe0a71-eb13-49d7-b9dc-3a9669166576\" class=\"colab-df-container\">\n",
              "    <div>\n",
              "<style scoped>\n",
              "    .dataframe tbody tr th:only-of-type {\n",
              "        vertical-align: middle;\n",
              "    }\n",
              "\n",
              "    .dataframe tbody tr th {\n",
              "        vertical-align: top;\n",
              "    }\n",
              "\n",
              "    .dataframe thead th {\n",
              "        text-align: right;\n",
              "    }\n",
              "</style>\n",
              "<table border=\"1\" class=\"dataframe\">\n",
              "  <thead>\n",
              "    <tr style=\"text-align: right;\">\n",
              "      <th></th>\n",
              "      <th>Size</th>\n",
              "      <th>Bedrooms</th>\n",
              "      <th>Price</th>\n",
              "    </tr>\n",
              "  </thead>\n",
              "  <tbody>\n",
              "    <tr>\n",
              "      <th>0</th>\n",
              "      <td>2104</td>\n",
              "      <td>3</td>\n",
              "      <td>399900</td>\n",
              "    </tr>\n",
              "    <tr>\n",
              "      <th>1</th>\n",
              "      <td>1600</td>\n",
              "      <td>3</td>\n",
              "      <td>329900</td>\n",
              "    </tr>\n",
              "    <tr>\n",
              "      <th>2</th>\n",
              "      <td>2400</td>\n",
              "      <td>3</td>\n",
              "      <td>369000</td>\n",
              "    </tr>\n",
              "    <tr>\n",
              "      <th>3</th>\n",
              "      <td>1416</td>\n",
              "      <td>2</td>\n",
              "      <td>232000</td>\n",
              "    </tr>\n",
              "    <tr>\n",
              "      <th>4</th>\n",
              "      <td>3000</td>\n",
              "      <td>4</td>\n",
              "      <td>539900</td>\n",
              "    </tr>\n",
              "  </tbody>\n",
              "</table>\n",
              "</div>\n",
              "    <div class=\"colab-df-buttons\">\n",
              "\n",
              "  <div class=\"colab-df-container\">\n",
              "    <button class=\"colab-df-convert\" onclick=\"convertToInteractive('df-8ebe0a71-eb13-49d7-b9dc-3a9669166576')\"\n",
              "            title=\"Convert this dataframe to an interactive table.\"\n",
              "            style=\"display:none;\">\n",
              "\n",
              "  <svg xmlns=\"http://www.w3.org/2000/svg\" height=\"24px\" viewBox=\"0 -960 960 960\">\n",
              "    <path d=\"M120-120v-720h720v720H120Zm60-500h600v-160H180v160Zm220 220h160v-160H400v160Zm0 220h160v-160H400v160ZM180-400h160v-160H180v160Zm440 0h160v-160H620v160ZM180-180h160v-160H180v160Zm440 0h160v-160H620v160Z\"/>\n",
              "  </svg>\n",
              "    </button>\n",
              "\n",
              "  <style>\n",
              "    .colab-df-container {\n",
              "      display:flex;\n",
              "      gap: 12px;\n",
              "    }\n",
              "\n",
              "    .colab-df-convert {\n",
              "      background-color: #E8F0FE;\n",
              "      border: none;\n",
              "      border-radius: 50%;\n",
              "      cursor: pointer;\n",
              "      display: none;\n",
              "      fill: #1967D2;\n",
              "      height: 32px;\n",
              "      padding: 0 0 0 0;\n",
              "      width: 32px;\n",
              "    }\n",
              "\n",
              "    .colab-df-convert:hover {\n",
              "      background-color: #E2EBFA;\n",
              "      box-shadow: 0px 1px 2px rgba(60, 64, 67, 0.3), 0px 1px 3px 1px rgba(60, 64, 67, 0.15);\n",
              "      fill: #174EA6;\n",
              "    }\n",
              "\n",
              "    .colab-df-buttons div {\n",
              "      margin-bottom: 4px;\n",
              "    }\n",
              "\n",
              "    [theme=dark] .colab-df-convert {\n",
              "      background-color: #3B4455;\n",
              "      fill: #D2E3FC;\n",
              "    }\n",
              "\n",
              "    [theme=dark] .colab-df-convert:hover {\n",
              "      background-color: #434B5C;\n",
              "      box-shadow: 0px 1px 3px 1px rgba(0, 0, 0, 0.15);\n",
              "      filter: drop-shadow(0px 1px 2px rgba(0, 0, 0, 0.3));\n",
              "      fill: #FFFFFF;\n",
              "    }\n",
              "  </style>\n",
              "\n",
              "    <script>\n",
              "      const buttonEl =\n",
              "        document.querySelector('#df-8ebe0a71-eb13-49d7-b9dc-3a9669166576 button.colab-df-convert');\n",
              "      buttonEl.style.display =\n",
              "        google.colab.kernel.accessAllowed ? 'block' : 'none';\n",
              "\n",
              "      async function convertToInteractive(key) {\n",
              "        const element = document.querySelector('#df-8ebe0a71-eb13-49d7-b9dc-3a9669166576');\n",
              "        const dataTable =\n",
              "          await google.colab.kernel.invokeFunction('convertToInteractive',\n",
              "                                                    [key], {});\n",
              "        if (!dataTable) return;\n",
              "\n",
              "        const docLinkHtml = 'Like what you see? Visit the ' +\n",
              "          '<a target=\"_blank\" href=https://colab.research.google.com/notebooks/data_table.ipynb>data table notebook</a>'\n",
              "          + ' to learn more about interactive tables.';\n",
              "        element.innerHTML = '';\n",
              "        dataTable['output_type'] = 'display_data';\n",
              "        await google.colab.output.renderOutput(dataTable, element);\n",
              "        const docLink = document.createElement('div');\n",
              "        docLink.innerHTML = docLinkHtml;\n",
              "        element.appendChild(docLink);\n",
              "      }\n",
              "    </script>\n",
              "  </div>\n",
              "\n",
              "\n",
              "<div id=\"df-20ea012b-9430-4991-ad45-cffe0a027db0\">\n",
              "  <button class=\"colab-df-quickchart\" onclick=\"quickchart('df-20ea012b-9430-4991-ad45-cffe0a027db0')\"\n",
              "            title=\"Suggest charts\"\n",
              "            style=\"display:none;\">\n",
              "\n",
              "<svg xmlns=\"http://www.w3.org/2000/svg\" height=\"24px\"viewBox=\"0 0 24 24\"\n",
              "     width=\"24px\">\n",
              "    <g>\n",
              "        <path d=\"M19 3H5c-1.1 0-2 .9-2 2v14c0 1.1.9 2 2 2h14c1.1 0 2-.9 2-2V5c0-1.1-.9-2-2-2zM9 17H7v-7h2v7zm4 0h-2V7h2v10zm4 0h-2v-4h2v4z\"/>\n",
              "    </g>\n",
              "</svg>\n",
              "  </button>\n",
              "\n",
              "<style>\n",
              "  .colab-df-quickchart {\n",
              "      --bg-color: #E8F0FE;\n",
              "      --fill-color: #1967D2;\n",
              "      --hover-bg-color: #E2EBFA;\n",
              "      --hover-fill-color: #174EA6;\n",
              "      --disabled-fill-color: #AAA;\n",
              "      --disabled-bg-color: #DDD;\n",
              "  }\n",
              "\n",
              "  [theme=dark] .colab-df-quickchart {\n",
              "      --bg-color: #3B4455;\n",
              "      --fill-color: #D2E3FC;\n",
              "      --hover-bg-color: #434B5C;\n",
              "      --hover-fill-color: #FFFFFF;\n",
              "      --disabled-bg-color: #3B4455;\n",
              "      --disabled-fill-color: #666;\n",
              "  }\n",
              "\n",
              "  .colab-df-quickchart {\n",
              "    background-color: var(--bg-color);\n",
              "    border: none;\n",
              "    border-radius: 50%;\n",
              "    cursor: pointer;\n",
              "    display: none;\n",
              "    fill: var(--fill-color);\n",
              "    height: 32px;\n",
              "    padding: 0;\n",
              "    width: 32px;\n",
              "  }\n",
              "\n",
              "  .colab-df-quickchart:hover {\n",
              "    background-color: var(--hover-bg-color);\n",
              "    box-shadow: 0 1px 2px rgba(60, 64, 67, 0.3), 0 1px 3px 1px rgba(60, 64, 67, 0.15);\n",
              "    fill: var(--button-hover-fill-color);\n",
              "  }\n",
              "\n",
              "  .colab-df-quickchart-complete:disabled,\n",
              "  .colab-df-quickchart-complete:disabled:hover {\n",
              "    background-color: var(--disabled-bg-color);\n",
              "    fill: var(--disabled-fill-color);\n",
              "    box-shadow: none;\n",
              "  }\n",
              "\n",
              "  .colab-df-spinner {\n",
              "    border: 2px solid var(--fill-color);\n",
              "    border-color: transparent;\n",
              "    border-bottom-color: var(--fill-color);\n",
              "    animation:\n",
              "      spin 1s steps(1) infinite;\n",
              "  }\n",
              "\n",
              "  @keyframes spin {\n",
              "    0% {\n",
              "      border-color: transparent;\n",
              "      border-bottom-color: var(--fill-color);\n",
              "      border-left-color: var(--fill-color);\n",
              "    }\n",
              "    20% {\n",
              "      border-color: transparent;\n",
              "      border-left-color: var(--fill-color);\n",
              "      border-top-color: var(--fill-color);\n",
              "    }\n",
              "    30% {\n",
              "      border-color: transparent;\n",
              "      border-left-color: var(--fill-color);\n",
              "      border-top-color: var(--fill-color);\n",
              "      border-right-color: var(--fill-color);\n",
              "    }\n",
              "    40% {\n",
              "      border-color: transparent;\n",
              "      border-right-color: var(--fill-color);\n",
              "      border-top-color: var(--fill-color);\n",
              "    }\n",
              "    60% {\n",
              "      border-color: transparent;\n",
              "      border-right-color: var(--fill-color);\n",
              "    }\n",
              "    80% {\n",
              "      border-color: transparent;\n",
              "      border-right-color: var(--fill-color);\n",
              "      border-bottom-color: var(--fill-color);\n",
              "    }\n",
              "    90% {\n",
              "      border-color: transparent;\n",
              "      border-bottom-color: var(--fill-color);\n",
              "    }\n",
              "  }\n",
              "</style>\n",
              "\n",
              "  <script>\n",
              "    async function quickchart(key) {\n",
              "      const quickchartButtonEl =\n",
              "        document.querySelector('#' + key + ' button');\n",
              "      quickchartButtonEl.disabled = true;  // To prevent multiple clicks.\n",
              "      quickchartButtonEl.classList.add('colab-df-spinner');\n",
              "      try {\n",
              "        const charts = await google.colab.kernel.invokeFunction(\n",
              "            'suggestCharts', [key], {});\n",
              "      } catch (error) {\n",
              "        console.error('Error during call to suggestCharts:', error);\n",
              "      }\n",
              "      quickchartButtonEl.classList.remove('colab-df-spinner');\n",
              "      quickchartButtonEl.classList.add('colab-df-quickchart-complete');\n",
              "    }\n",
              "    (() => {\n",
              "      let quickchartButtonEl =\n",
              "        document.querySelector('#df-20ea012b-9430-4991-ad45-cffe0a027db0 button');\n",
              "      quickchartButtonEl.style.display =\n",
              "        google.colab.kernel.accessAllowed ? 'block' : 'none';\n",
              "    })();\n",
              "  </script>\n",
              "</div>\n",
              "    </div>\n",
              "  </div>\n"
            ]
          },
          "metadata": {},
          "execution_count": 1683
        }
      ]
    },
    {
      "cell_type": "markdown",
      "source": [
        "Данные для графиков"
      ],
      "metadata": {
        "id": "fMYUUE8oKfrR"
      }
    },
    {
      "cell_type": "code",
      "source": [
        "data = np.array(df)\n",
        "xx = data[:,0]\n",
        "YY = data[:,2]"
      ],
      "metadata": {
        "id": "UfcqCqlnIi_r"
      },
      "execution_count": 1684,
      "outputs": []
    },
    {
      "cell_type": "markdown",
      "source": [
        "График"
      ],
      "metadata": {
        "id": "amVL7oM9KliY"
      }
    },
    {
      "cell_type": "code",
      "source": [
        "plt.scatter(xx, YY, color='g')\n",
        "plt.xlabel('Квадратные метры')\n",
        "plt.ylabel('Цена')\n",
        "plt.title('Зависимость цены от площади')\n",
        "plt.show()"
      ],
      "metadata": {
        "colab": {
          "base_uri": "https://localhost:8080/",
          "height": 472
        },
        "id": "3nSUSdNhKkts",
        "outputId": "b0035f08-5281-4d52-a4af-7521f3537912"
      },
      "execution_count": 1685,
      "outputs": [
        {
          "output_type": "display_data",
          "data": {
            "text/plain": [
              "<Figure size 640x480 with 1 Axes>"
            ],
            "image/png": "[encoded data removed]"
          },
          "metadata": {}
        }
      ]
    },
    {
      "cell_type": "markdown",
      "source": [
        "Нормализация"
      ],
      "metadata": {
        "id": "kUsHNnhQKopS"
      }
    },
    {
      "cell_type": "code",
      "source": [
        "import math\n",
        "df = (df-df.mean ())/df.std()\n",
        "#df\n",
        "\n",
        "def normalization (data):\n",
        "  return (data - np.mean(data))/math.sqrt((np.sum((data - np.mean(data))**2))/len(data-1))"
      ],
      "metadata": {
        "id": "tu-5DQW2Aga2"
      },
      "execution_count": 1686,
      "outputs": []
    },
    {
      "cell_type": "code",
      "source": [
        "def computeCost(X, y, theta):\n",
        "\n",
        "      m = len(y)\n",
        "      predictions = X.dot(theta)\n",
        "      sqr_errors = (predictions - y) ** 2\n",
        "      J = 1 / (2 * m) * np.sum(sqr_errors)\n",
        "      return J\n",
        "\n",
        "def gradientDescent(X, y, theta, alpha, iters):\n",
        "    m = np.size(y, axis=0)\n",
        "    J_history = []\n",
        "    Theta = []\n",
        "    theta = theta.copy()\n",
        "\n",
        "    for iter in range(iters):\n",
        "        h_theta = np.dot(X, theta)\n",
        "        theta = theta - (alpha / m) * (X.T).dot(h_theta - y)\n",
        "      #  print(theta)\n",
        "        Theta.append(theta)\n",
        "        J_history.append(computeCost(X, y, theta))\n",
        "        #print(computeCost(X, y, theta))\n",
        "\n",
        "    return theta, J_history\n",
        "\n",
        "r = np.array(df)\n",
        "X_0 = normalization(data[:,0])\n",
        "X_1 = normalization(data[:,1])\n",
        "\n",
        "#m = int(df.size/3)\n",
        "ones = np.ones(X.size)\n",
        "X=np.vstack((np.ones_like(X_1), X_0.T,X_1.T)).T\n",
        "Y=normalization(data[:,2])\n",
        "Theta=np.array([0,0,0])\n",
        "\n",
        "# Шаг обучения\n",
        "a = 0.05\n",
        "# Количество итераций\n",
        "iters = 1000"
      ],
      "metadata": {
        "id": "tm__IGAw6HQ4"
      },
      "execution_count": 1687,
      "outputs": []
    },
    {
      "cell_type": "code",
      "source": [
        "theta, J_history = gradientDescent(X, Y, Theta, a, iters)\n",
        "print(f'Новые значения тета {theta}')"
      ],
      "metadata": {
        "id": "TGsi1uXZkGQ8",
        "colab": {
          "base_uri": "https://localhost:8080/"
        },
        "outputId": "65445ebf-3727-45d6-b3e6-8fea50898826"
      },
      "execution_count": 1688,
      "outputs": [
        {
          "output_type": "stream",
          "name": "stdout",
          "text": [
            "Новые значения тета [-7.49695814e-17  8.84765988e-01 -5.31788196e-02]\n"
          ]
        }
      ]
    },
    {
      "cell_type": "markdown",
      "source": [
        "График обучения сети методом градиентного спуска"
      ],
      "metadata": {
        "id": "tdY8L95ghL_B"
      }
    },
    {
      "cell_type": "code",
      "source": [
        "plt.plot(J_history)\n",
        "plt.xlabel('Количество итераций')\n",
        "plt.ylabel('Значение целевой функции')\n",
        "plt.title('График изменения функции потерь в процессе обучения')\n",
        "plt.show()"
      ],
      "metadata": {
        "colab": {
          "base_uri": "https://localhost:8080/",
          "height": 472
        },
        "id": "dLCSfLA9hTlU",
        "outputId": "a780a6ed-4a71-49e4-f075-d73eb4b47331"
      },
      "execution_count": 1689,
      "outputs": [
        {
          "output_type": "display_data",
          "data": {
            "text/plain": [
              "<Figure size 640x480 with 1 Axes>"
            ],
            "image/png": "[encoded data removed]"
          },
          "metadata": {}
        }
      ]
    },
    {
      "cell_type": "code",
      "source": [
        "s = computeCost(X,Y,theta)\n",
        "print(f'Целевая функция {s}')"
      ],
      "metadata": {
        "id": "khMO_wuZ6r4J",
        "colab": {
          "base_uri": "https://localhost:8080/"
        },
        "outputId": "7ca48286-9d4b-4876-d936-5f159a3932a2"
      },
      "execution_count": 1690,
      "outputs": [
        {
          "output_type": "stream",
          "name": "stdout",
          "text": [
            "Целевая функция 0.13352749098554287\n"
          ]
        }
      ]
    },
    {
      "cell_type": "markdown",
      "source": [
        "Нормализация полученного значения"
      ],
      "metadata": {
        "id": "z6ZI1tbz8Gnq"
      }
    },
    {
      "cell_type": "code",
      "source": [
        "size = 3000.\n",
        "bedrooms = 4.\n",
        "\n",
        "predict = theta[0] + theta[1]*size + theta[2]*bedrooms\n",
        "cc = xx[:]\n",
        "cc = np.append(cc, np.array(predict))\n",
        "cc = normalization(cc)\n",
        "cc[-1]"
      ],
      "metadata": {
        "colab": {
          "base_uri": "https://localhost:8080/"
        },
        "id": "lCu2CwxXw4Fo",
        "outputId": "53d20c13-7c56-4c7f-c0a0-13116431e261"
      },
      "execution_count": 1691,
      "outputs": [
        {
          "output_type": "execute_result",
          "data": {
            "text/plain": [
              "0.8165324450009079"
            ]
          },
          "metadata": {},
          "execution_count": 1691
        }
      ]
    },
    {
      "cell_type": "code",
      "source": [
        "import math\n",
        "\n",
        "def gradientDescent(X, y, theta, alpha, iters):\n",
        "\n",
        "    m = np.size(y, axis=0)\n",
        "    J_history = []\n",
        "    Theta = []\n",
        "    theta = theta.copy()\n",
        "\n",
        "    for iter in range(iters):\n",
        "        h_theta = np.dot(X, theta)\n",
        "        theta = theta - (alpha / m) * (X.T).dot(h_theta - y)\n",
        "\n",
        "        Theta.append(theta)\n",
        "        a = computeCost(X, y, theta)\n",
        "        J_history.append(computeCost(X, y, theta))\n",
        "        #print(computeCost(X, y, theta))\n",
        "\n",
        "    return Theta, a #J_history\n",
        "\n",
        "# Выполняем градиентный спуск\n",
        "theta, J_history = gradientDescent(X, Y, Theta, a, iters)\n",
        "\n",
        "# Выводим новые значения параметров и последнее значение целевой функции\n",
        "print(\"Новые значения параметров theta:\", theta[-1])\n",
        "print(f\"Последнее значение целевой функции: {round(J_history,2)}\")\n",
        "\n",
        "# Визуализируем данные\n",
        "size = 3000.\n",
        "bedrooms = 4.\n",
        "\n",
        "\n",
        "prediction_original = (cc[-1] * np.std(YY)) + np.mean(YY)\n",
        "\n",
        "print(f'Предсказанное значение {prediction_original}')\n",
        "plt.scatter(xx, np.array(YY),  color='g', label='Training data')\n",
        "plt.scatter(size,  prediction_original,  color='r', label='Predict data')\n",
        "plt.xlabel('Площадь')\n",
        "plt.ylabel('Цена')\n",
        "plt.title('Зависимость цены от площади дома')\n",
        "\n",
        "# Построение линии регрессии\n",
        "x_values = np.linspace(min(xx), max(xx), 100)\n",
        "n_x_values = normalization(np.array(x_values))\n",
        "\n",
        "# Вычисляем соответствующие значения y для линии регрессии (без учета второго параметра - количество комнат)\n",
        "y_val = theta[-1][0] + theta[-1][1] * n_x_values\n",
        "y_values = (y_val * np.std(YY)) + np.mean(YY)\n",
        "\n",
        "# Наложение линии регрессии на график\n",
        "plt.plot(x_values, y_values, color='b',label='Regression')\n",
        "\n",
        "plt.legend()\n",
        "plt.show()"
      ],
      "metadata": {
        "colab": {
          "base_uri": "https://localhost:8080/",
          "height": 527
        },
        "id": "1SDca6PumtdW",
        "outputId": "1a64de81-9778-428a-d8df-c30feb69662c"
      },
      "execution_count": 1692,
      "outputs": [
        {
          "output_type": "stream",
          "name": "stdout",
          "text": [
            "Новые значения параметров theta: [-7.49695814e-17  8.84765988e-01 -5.31788196e-02]\n",
            "Последнее значение целевой функции: 0.13\n",
            "Предсказанное значение 441419.7937523805\n"
          ]
        },
        {
          "output_type": "display_data",
          "data": {
            "text/plain": [
              "<Figure size 640x480 with 1 Axes>"
            ],
            "image/png": "[encoded data removed]"
          },
          "metadata": {}
        }
      ]
    },
    {
      "cell_type": "markdown",
      "source": [
        "Предсказанное значение"
      ],
      "metadata": {
        "id": "Q_4sSyD9WV17"
      }
    },
    {
      "cell_type": "code",
      "source": [
        "# Обратная нормализация предсказания\n",
        "prediction_original = (cc[-1] * np.std(YY)) + np.mean(YY)\n",
        "prediction_original"
      ],
      "metadata": {
        "colab": {
          "base_uri": "https://localhost:8080/"
        },
        "id": "cy3wKTj7S_5c",
        "outputId": "b53f7792-f381-4d6c-fda1-2b5c0d0f13de"
      },
      "execution_count": 1693,
      "outputs": [
        {
          "output_type": "execute_result",
          "data": {
            "text/plain": [
              "441419.7937523805"
            ]
          },
          "metadata": {},
          "execution_count": 1693
        }
      ]
    },
    {
      "cell_type": "markdown",
      "source": [
        "Вычисление точности модели"
      ],
      "metadata": {
        "id": "qHQ04v_pdXHc"
      }
    },
    {
      "cell_type": "code",
      "source": [
        "predictions = theta[-1][0] + theta[-1][1] * normalization(np.array(xx))\n",
        "errors = predictions - Y\n",
        "sse = np.sum(errors ** 2)\n",
        "r2 = 1 - sse / (Y.size * Y.var())\n",
        "print(\"R-squared:\", r2)"
      ],
      "metadata": {
        "colab": {
          "base_uri": "https://localhost:8080/"
        },
        "id": "tg7kso4kX92E",
        "outputId": "7bff763d-f353-4c67-e53a-44264966358b"
      },
      "execution_count": 1694,
      "outputs": [
        {
          "output_type": "stream",
          "name": "stdout",
          "text": [
            "R-squared: 0.7301170311742189\n"
          ]
        }
      ]
    },
    {
      "cell_type": "markdown",
      "source": [
        "# Задание 3.2\n"
      ],
      "metadata": {
        "id": "NwxVn6Ekmn1w"
      }
    },
    {
      "cell_type": "code",
      "source": [
        "df = pd.read_table(\"/content/ex1data2.txt\", header = None, delimiter= \",\", names=[\"Size\", \"Bedrooms\", \"Price\"])\n",
        "\n",
        "data = np.array(df)\n",
        "df.head()"
      ],
      "metadata": {
        "colab": {
          "base_uri": "https://localhost:8080/",
          "height": 206
        },
        "id": "YVY2aiYTNTim",
        "outputId": "b51c5e6e-2c27-4bec-8fdc-0dbdc42061b0"
      },
      "execution_count": 1695,
      "outputs": [
        {
          "output_type": "execute_result",
          "data": {
            "text/plain": [
              "   Size  Bedrooms   Price\n",
              "0  2104         3  399900\n",
              "1  1600         3  329900\n",
              "2  2400         3  369000\n",
              "3  1416         2  232000\n",
              "4  3000         4  539900"
            ],
            "text/html": [
              "\n",
              "  <div id=\"df-6ba7cdf4-7d96-4643-8418-bc2187a305e2\" class=\"colab-df-container\">\n",
              "    <div>\n",
              "<style scoped>\n",
              "    .dataframe tbody tr th:only-of-type {\n",
              "        vertical-align: middle;\n",
              "    }\n",
              "\n",
              "    .dataframe tbody tr th {\n",
              "        vertical-align: top;\n",
              "    }\n",
              "\n",
              "    .dataframe thead th {\n",
              "        text-align: right;\n",
              "    }\n",
              "</style>\n",
              "<table border=\"1\" class=\"dataframe\">\n",
              "  <thead>\n",
              "    <tr style=\"text-align: right;\">\n",
              "      <th></th>\n",
              "      <th>Size</th>\n",
              "      <th>Bedrooms</th>\n",
              "      <th>Price</th>\n",
              "    </tr>\n",
              "  </thead>\n",
              "  <tbody>\n",
              "    <tr>\n",
              "      <th>0</th>\n",
              "      <td>2104</td>\n",
              "      <td>3</td>\n",
              "      <td>399900</td>\n",
              "    </tr>\n",
              "    <tr>\n",
              "      <th>1</th>\n",
              "      <td>1600</td>\n",
              "      <td>3</td>\n",
              "      <td>329900</td>\n",
              "    </tr>\n",
              "    <tr>\n",
              "      <th>2</th>\n",
              "      <td>2400</td>\n",
              "      <td>3</td>\n",
              "      <td>369000</td>\n",
              "    </tr>\n",
              "    <tr>\n",
              "      <th>3</th>\n",
              "      <td>1416</td>\n",
              "      <td>2</td>\n",
              "      <td>232000</td>\n",
              "    </tr>\n",
              "    <tr>\n",
              "      <th>4</th>\n",
              "      <td>3000</td>\n",
              "      <td>4</td>\n",
              "      <td>539900</td>\n",
              "    </tr>\n",
              "  </tbody>\n",
              "</table>\n",
              "</div>\n",
              "    <div class=\"colab-df-buttons\">\n",
              "\n",
              "  <div class=\"colab-df-container\">\n",
              "    <button class=\"colab-df-convert\" onclick=\"convertToInteractive('df-6ba7cdf4-7d96-4643-8418-bc2187a305e2')\"\n",
              "            title=\"Convert this dataframe to an interactive table.\"\n",
              "            style=\"display:none;\">\n",
              "\n",
              "  <svg xmlns=\"http://www.w3.org/2000/svg\" height=\"24px\" viewBox=\"0 -960 960 960\">\n",
              "    <path d=\"M120-120v-720h720v720H120Zm60-500h600v-160H180v160Zm220 220h160v-160H400v160Zm0 220h160v-160H400v160ZM180-400h160v-160H180v160Zm440 0h160v-160H620v160ZM180-180h160v-160H180v160Zm440 0h160v-160H620v160Z\"/>\n",
              "  </svg>\n",
              "    </button>\n",
              "\n",
              "  <style>\n",
              "    .colab-df-container {\n",
              "      display:flex;\n",
              "      gap: 12px;\n",
              "    }\n",
              "\n",
              "    .colab-df-convert {\n",
              "      background-color: #E8F0FE;\n",
              "      border: none;\n",
              "      border-radius: 50%;\n",
              "      cursor: pointer;\n",
              "      display: none;\n",
              "      fill: #1967D2;\n",
              "      height: 32px;\n",
              "      padding: 0 0 0 0;\n",
              "      width: 32px;\n",
              "    }\n",
              "\n",
              "    .colab-df-convert:hover {\n",
              "      background-color: #E2EBFA;\n",
              "      box-shadow: 0px 1px 2px rgba(60, 64, 67, 0.3), 0px 1px 3px 1px rgba(60, 64, 67, 0.15);\n",
              "      fill: #174EA6;\n",
              "    }\n",
              "\n",
              "    .colab-df-buttons div {\n",
              "      margin-bottom: 4px;\n",
              "    }\n",
              "\n",
              "    [theme=dark] .colab-df-convert {\n",
              "      background-color: #3B4455;\n",
              "      fill: #D2E3FC;\n",
              "    }\n",
              "\n",
              "    [theme=dark] .colab-df-convert:hover {\n",
              "      background-color: #434B5C;\n",
              "      box-shadow: 0px 1px 3px 1px rgba(0, 0, 0, 0.15);\n",
              "      filter: drop-shadow(0px 1px 2px rgba(0, 0, 0, 0.3));\n",
              "      fill: #FFFFFF;\n",
              "    }\n",
              "  </style>\n",
              "\n",
              "    <script>\n",
              "      const buttonEl =\n",
              "        document.querySelector('#df-6ba7cdf4-7d96-4643-8418-bc2187a305e2 button.colab-df-convert');\n",
              "      buttonEl.style.display =\n",
              "        google.colab.kernel.accessAllowed ? 'block' : 'none';\n",
              "\n",
              "      async function convertToInteractive(key) {\n",
              "        const element = document.querySelector('#df-6ba7cdf4-7d96-4643-8418-bc2187a305e2');\n",
              "        const dataTable =\n",
              "          await google.colab.kernel.invokeFunction('convertToInteractive',\n",
              "                                                    [key], {});\n",
              "        if (!dataTable) return;\n",
              "\n",
              "        const docLinkHtml = 'Like what you see? Visit the ' +\n",
              "          '<a target=\"_blank\" href=https://colab.research.google.com/notebooks/data_table.ipynb>data table notebook</a>'\n",
              "          + ' to learn more about interactive tables.';\n",
              "        element.innerHTML = '';\n",
              "        dataTable['output_type'] = 'display_data';\n",
              "        await google.colab.output.renderOutput(dataTable, element);\n",
              "        const docLink = document.createElement('div');\n",
              "        docLink.innerHTML = docLinkHtml;\n",
              "        element.appendChild(docLink);\n",
              "      }\n",
              "    </script>\n",
              "  </div>\n",
              "\n",
              "\n",
              "<div id=\"df-60986af0-b4e5-4865-9b3f-7a9f036f4fcb\">\n",
              "  <button class=\"colab-df-quickchart\" onclick=\"quickchart('df-60986af0-b4e5-4865-9b3f-7a9f036f4fcb')\"\n",
              "            title=\"Suggest charts\"\n",
              "            style=\"display:none;\">\n",
              "\n",
              "<svg xmlns=\"http://www.w3.org/2000/svg\" height=\"24px\"viewBox=\"0 0 24 24\"\n",
              "     width=\"24px\">\n",
              "    <g>\n",
              "        <path d=\"M19 3H5c-1.1 0-2 .9-2 2v14c0 1.1.9 2 2 2h14c1.1 0 2-.9 2-2V5c0-1.1-.9-2-2-2zM9 17H7v-7h2v7zm4 0h-2V7h2v10zm4 0h-2v-4h2v4z\"/>\n",
              "    </g>\n",
              "</svg>\n",
              "  </button>\n",
              "\n",
              "<style>\n",
              "  .colab-df-quickchart {\n",
              "      --bg-color: #E8F0FE;\n",
              "      --fill-color: #1967D2;\n",
              "      --hover-bg-color: #E2EBFA;\n",
              "      --hover-fill-color: #174EA6;\n",
              "      --disabled-fill-color: #AAA;\n",
              "      --disabled-bg-color: #DDD;\n",
              "  }\n",
              "\n",
              "  [theme=dark] .colab-df-quickchart {\n",
              "      --bg-color: #3B4455;\n",
              "      --fill-color: #D2E3FC;\n",
              "      --hover-bg-color: #434B5C;\n",
              "      --hover-fill-color: #FFFFFF;\n",
              "      --disabled-bg-color: #3B4455;\n",
              "      --disabled-fill-color: #666;\n",
              "  }\n",
              "\n",
              "  .colab-df-quickchart {\n",
              "    background-color: var(--bg-color);\n",
              "    border: none;\n",
              "    border-radius: 50%;\n",
              "    cursor: pointer;\n",
              "    display: none;\n",
              "    fill: var(--fill-color);\n",
              "    height: 32px;\n",
              "    padding: 0;\n",
              "    width: 32px;\n",
              "  }\n",
              "\n",
              "  .colab-df-quickchart:hover {\n",
              "    background-color: var(--hover-bg-color);\n",
              "    box-shadow: 0 1px 2px rgba(60, 64, 67, 0.3), 0 1px 3px 1px rgba(60, 64, 67, 0.15);\n",
              "    fill: var(--button-hover-fill-color);\n",
              "  }\n",
              "\n",
              "  .colab-df-quickchart-complete:disabled,\n",
              "  .colab-df-quickchart-complete:disabled:hover {\n",
              "    background-color: var(--disabled-bg-color);\n",
              "    fill: var(--disabled-fill-color);\n",
              "    box-shadow: none;\n",
              "  }\n",
              "\n",
              "  .colab-df-spinner {\n",
              "    border: 2px solid var(--fill-color);\n",
              "    border-color: transparent;\n",
              "    border-bottom-color: var(--fill-color);\n",
              "    animation:\n",
              "      spin 1s steps(1) infinite;\n",
              "  }\n",
              "\n",
              "  @keyframes spin {\n",
              "    0% {\n",
              "      border-color: transparent;\n",
              "      border-bottom-color: var(--fill-color);\n",
              "      border-left-color: var(--fill-color);\n",
              "    }\n",
              "    20% {\n",
              "      border-color: transparent;\n",
              "      border-left-color: var(--fill-color);\n",
              "      border-top-color: var(--fill-color);\n",
              "    }\n",
              "    30% {\n",
              "      border-color: transparent;\n",
              "      border-left-color: var(--fill-color);\n",
              "      border-top-color: var(--fill-color);\n",
              "      border-right-color: var(--fill-color);\n",
              "    }\n",
              "    40% {\n",
              "      border-color: transparent;\n",
              "      border-right-color: var(--fill-color);\n",
              "      border-top-color: var(--fill-color);\n",
              "    }\n",
              "    60% {\n",
              "      border-color: transparent;\n",
              "      border-right-color: var(--fill-color);\n",
              "    }\n",
              "    80% {\n",
              "      border-color: transparent;\n",
              "      border-right-color: var(--fill-color);\n",
              "      border-bottom-color: var(--fill-color);\n",
              "    }\n",
              "    90% {\n",
              "      border-color: transparent;\n",
              "      border-bottom-color: var(--fill-color);\n",
              "    }\n",
              "  }\n",
              "</style>\n",
              "\n",
              "  <script>\n",
              "    async function quickchart(key) {\n",
              "      const quickchartButtonEl =\n",
              "        document.querySelector('#' + key + ' button');\n",
              "      quickchartButtonEl.disabled = true;  // To prevent multiple clicks.\n",
              "      quickchartButtonEl.classList.add('colab-df-spinner');\n",
              "      try {\n",
              "        const charts = await google.colab.kernel.invokeFunction(\n",
              "            'suggestCharts', [key], {});\n",
              "      } catch (error) {\n",
              "        console.error('Error during call to suggestCharts:', error);\n",
              "      }\n",
              "      quickchartButtonEl.classList.remove('colab-df-spinner');\n",
              "      quickchartButtonEl.classList.add('colab-df-quickchart-complete');\n",
              "    }\n",
              "    (() => {\n",
              "      let quickchartButtonEl =\n",
              "        document.querySelector('#df-60986af0-b4e5-4865-9b3f-7a9f036f4fcb button');\n",
              "      quickchartButtonEl.style.display =\n",
              "        google.colab.kernel.accessAllowed ? 'block' : 'none';\n",
              "    })();\n",
              "  </script>\n",
              "</div>\n",
              "    </div>\n",
              "  </div>\n"
            ]
          },
          "metadata": {},
          "execution_count": 1695
        }
      ]
    },
    {
      "cell_type": "markdown",
      "source": [
        "предсказания цены на дом площадью 3000 футов и числом комнат 4"
      ],
      "metadata": {
        "id": "xqp2-gbRvOc5"
      }
    },
    {
      "cell_type": "code",
      "source": [
        "data = np.array(df)\n",
        "\n",
        "X = data[:, :2]\n",
        "y = data[:, 2]\n",
        "\n",
        "reg = LinearRegression().fit(X, y)\n",
        "print(reg.score(X, y))\n",
        "print(reg.coef_)\n",
        "print(reg.intercept_)\n",
        "print(reg.predict(np.array([[3000, 4]])))\n",
        "\n"
      ],
      "metadata": {
        "id": "jJUvX7a1mJdz",
        "colab": {
          "base_uri": "https://localhost:8080/"
        },
        "outputId": "918ba614-d202-4e1c-f658-84d0112d9d05"
      },
      "execution_count": 1696,
      "outputs": [
        {
          "output_type": "stream",
          "name": "stdout",
          "text": [
            "0.7329450180289142\n",
            "[  139.21067402 -8738.01911233]\n",
            "89597.90954279754\n",
            "[472277.85514636]\n"
          ]
        }
      ]
    },
    {
      "cell_type": "code",
      "source": [
        "df = pd.read_table(\"/content/ex1data2.txt\", header = None, delimiter= \",\", names=[\"Size\", \"Bedrooms\", \"Price\"])\n",
        "\n",
        "data = np.array(df)\n",
        "df.head()\n",
        "\n",
        "features = [\"Size\", \"Bedrooms\"]\n",
        "target = \"Price\"\n",
        "\n",
        "X = df[features].values.reshape(-1, len(features))\n",
        "y = df[target].values\n",
        "\n",
        "ols = linear_model.LinearRegression()\n",
        "model = ols.fit(X, y)\n",
        "\n",
        "print(model.coef_)\n",
        "\n",
        "print(model.intercept_)\n",
        "print(model.score(X, y))\n",
        "x_pred = np.array([3000, 4])\n",
        "x_pred = x_pred.reshape(-1, len(features))\n",
        "print(model.predict(x_pred))"
      ],
      "metadata": {
        "colab": {
          "base_uri": "https://localhost:8080/"
        },
        "id": "7eo1QW655s9l",
        "outputId": "a3a4ea39-a2b0-4ebc-f7f2-1dbf271ef218"
      },
      "execution_count": 1697,
      "outputs": [
        {
          "output_type": "stream",
          "name": "stdout",
          "text": [
            "[  139.21067402 -8738.01911233]\n",
            "89597.90954279754\n",
            "0.7329450180289142\n",
            "[472277.85514636]\n"
          ]
        }
      ]
    }
  ],
  "metadata": {
    "colab": {
      "provenance": []
    },
    "kernelspec": {
      "display_name": "Python 3",
      "name": "python3"
    },
    "language_info": {
      "name": "python"
    }
  },
  "nbformat": 4,
  "nbformat_minor": 0
}